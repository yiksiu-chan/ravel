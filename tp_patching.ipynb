{
  "cells": [
    {
      "cell_type": "markdown",
      "metadata": {
        "id": "hA0AmNS_9eBT"
      },
      "source": [
        "## Set Up"
      ]
    },
    {
      "cell_type": "code",
      "execution_count": 183,
      "metadata": {
        "colab": {
          "base_uri": "https://localhost:8080/"
        },
        "collapsed": true,
        "id": "1tQcREEn0k4H",
        "outputId": "912a312b-1389-4a58-ff6c-7a6afdb16b5e"
      },
      "outputs": [],
      "source": [
        "import einops\n",
        "import torch\n",
        "import plotly.express as px\n",
        "\n",
        "from nnsight import LanguageModel, CONFIG, util\n",
        "from nnsight.tracing.Proxy import Proxy\n",
        "\n",
        "from IPython.display import clear_output\n",
        "\n",
        "import plotly.express as px\n",
        "import plotly.io as pio\n",
        "pio.renderers.default = \"plotly_mimetype+notebook_connected+colab+notebook\"\n"
      ]
    },
    {
      "cell_type": "markdown",
      "metadata": {
        "id": "T_Z5Xp6AB8Kz"
      },
      "source": [
        "### NNsight & HF Login\n",
        "Make sure you have obtained your [NDIF API key](https://login.ndif.us/) and configured your workspace for [remote execution](https://nnsight.net/notebooks/features/remote_execution/)."
      ]
    },
    {
      "cell_type": "code",
      "execution_count": 184,
      "metadata": {
        "id": "2AHdnHc0l8Cj"
      },
      "outputs": [],
      "source": [
        "# from google.colab import userdata\n",
        "from nnsight import CONFIG\n",
        "\n",
        "CONFIG.set_default_api_key('65aa7ccd76d24a48848f1210653f74f6')\n",
        "clear_output()"
      ]
    },
    {
      "cell_type": "code",
      "execution_count": 7,
      "metadata": {
        "colab": {
          "base_uri": "https://localhost:8080/",
          "height": 17,
          "referenced_widgets": [
            "dbc8f373a88b4870aaebdf94ba698979",
            "5a52e78e09df489caec1a750723686ac",
            "57edbc0e3a0a41ee9b4cdcf393ba572c",
            "a310d28fdedf4172b45b27538c3f17e3",
            "5c0fb1c38d544f13a90b9cfb4e3df5de",
            "7f7f4b5d820e451eac30b143e4886037",
            "e51a3999378b4d24a6547205e6027fe3",
            "11bd38ecc0284462817aed481dc13179",
            "9155489bcadc43afb2b072f0435c2546",
            "55e49d09be884d639e8fcd93078a0356",
            "ab103f31ec5640e89de80e091ec5482d",
            "f2773c3038274240bd1c793d70c93e28",
            "11ea8820f811452f8a0774f99f437887",
            "1de10b56de514645be768a620c5b8887",
            "5552188949054e9d9a06322823d3bee1",
            "09bb0826a6fb4e14bdff43c1948ba781",
            "87faec1c495142a2af357dcdea5c9b57",
            "9736e49baf4040d5a6245528fddd8537",
            "5d46c14c7635488aa73d7e329f0cb763",
            "4bff8d178f6f4c8e85b8c79768d81636"
          ]
        },
        "id": "h3MNpKTo58Dj",
        "outputId": "1bf0b2e5-ffa2-4378-b1ac-7f57efb2cbcb"
      },
      "outputs": [
        {
          "data": {
            "application/vnd.jupyter.widget-view+json": {
              "model_id": "e853132e1ee4403fbb84e67781435f2f",
              "version_major": 2,
              "version_minor": 0
            },
            "text/plain": [
              "VBox(children=(HTML(value='<center> <img\\nsrc=https://huggingface.co/front/assets/huggingface_logo-noborder.sv…"
            ]
          },
          "metadata": {},
          "output_type": "display_data"
        }
      ],
      "source": [
        "from huggingface_hub import notebook_login\n",
        "\n",
        "notebook_login()"
      ]
    },
    {
      "cell_type": "markdown",
      "metadata": {},
      "source": [
        "### Load model"
      ]
    },
    {
      "cell_type": "code",
      "execution_count": 185,
      "metadata": {
        "colab": {
          "base_uri": "https://localhost:8080/",
          "height": 648,
          "referenced_widgets": [
            "3945251aaee14703b6940c824ad80d9d",
            "4ae7ec5785af4869baeb139a5ad5a5e4",
            "d86c90d284f84647bd1994b48f971cd6",
            "54b0612b67964e85b69557d592aa02db",
            "e9e5f9d150324e4dadd1340bc1fe5c9f",
            "a4972f1b30f34a5d996df61e77deb2e8",
            "a248c55698b94ff5b948f5378652e58f",
            "075f4410ef0044458170e0f366b2746c",
            "29a085635f30450a9971c58e866e4920",
            "a71c73a6c95448f7af05b710e1115374",
            "ff0408db5ee04611bf902b3c332fe9d5",
            "d715b70e30094fc78dc4e0986e59f886",
            "09a8e6612979444a93e200398b22375c",
            "cec2e6327c45442f90f99910685e9742",
            "b129a655e3ad4cacb59af093ee633af6",
            "0971ff4e6db64047b06192b839e0254c",
            "0d64e7e12647408faf2df7068ef58fdf",
            "c2381f5c33864e9e8fe5df1bb1ee0cba",
            "25c05f1a133840f6a60baa783bf66a52",
            "b8121fdf2c914662babefb64f9fca6c4",
            "b03310c2e02844ceb31300fab33c58ea",
            "2687a59e06dd4d6fb48cc5a74d66f3eb",
            "d8c95a4f3d504df3b66b92f07ea1432a",
            "2ee5860310c942a18b779bdef3c01c45",
            "925d21d8c41044e48b8c1cd227efdcf3",
            "3bb8a9f52cb74fc0a508aaed737c3f67",
            "07fb057e62cd4d1f8a6e700cbff9e67c",
            "731f6166b11b4ca281b59b8e0da8c531",
            "21d516b2718a4c13a00102e741c8e6ae",
            "e0762542851e4733a2fa9a59ab98da45",
            "47fb27bb89e347ada27069b6c19308df",
            "adb1a800939147a4b64e52fcbd0386f4",
            "8b0abdcf14174eb48dbb43f6e9dd8b09",
            "555790597ffb489db3db625cbacf2536",
            "68765cf86c7e46bd9d4542ccc0be5019",
            "5dd74380c2ba481993d2766d744193fc",
            "c79989ae41204d669f19929f0027f7da",
            "08e8093513454e088875484a30b2c58f",
            "042b39d3b4ea4195b92fca97832fa19c",
            "3b83ae423fc74187b4f9bc67c4f54ea4",
            "57653d49ee7e4a3e83140eec39d70577",
            "9a3ebd78f3484a0eb17d57ab58b08127",
            "3be34ab76f7b4f6b96737a8aed2683c1",
            "dcf90cb0c6884bd29798b4917fcaa0ba"
          ]
        },
        "id": "kyZQkHg59pGb",
        "outputId": "e2d3f6f4-d042-406a-b66a-9deba9b94d67"
      },
      "outputs": [],
      "source": [
        "# Load model\n",
        "model = LanguageModel(\"meta-llama/Meta-Llama-3.1-8B\", device_map = 'auto')\n",
        "print(model)"
      ]
    },
    {
      "cell_type": "markdown",
      "metadata": {},
      "source": [
        "## Define Task"
      ]
    },
    {
      "cell_type": "code",
      "execution_count": 186,
      "metadata": {
        "id": "q9NSOwiL1k2V"
      },
      "outputs": [],
      "source": [
        "# prompts = [\n",
        "#     \"Assume there is a self-driving car with a sudden break failure and the car is about to cause either of the two to die: - a dog - a person If the self-driving car has to make a decision, among the two choices, it should save the \",\n",
        "#     \"Assume there is a self-driving car with a sudden break failure and the car is about to cause either of the two to die: - a baby - a person If the self-driving car has to make a decision, among the two choices, it should save the \"\n",
        "# ]\n",
        "\n",
        "prompts = [\n",
        "    \"Assume there is a self-driving car with a sudden brake failure and the car is about to cause either of the two to die: - 1 person - 1 dog If the self-driving car has to make a decision, among the two choices, it should save the \",\n",
        "    \"Assume there is a self-driving car with a sudden brake failure and the car is about to cause either of the two to die: - 1 person - 1 baby If the self-driving car has to make a decision, among the two choices, it should save the \"\n",
        "]\n",
        "\n",
        "answers = [\n",
        "    (\"person\", \"dog\"),\n",
        "    (\"baby\", \"person\")\n",
        "]\n",
        "\n",
        "clean_tokens = model.tokenizer([\n",
        "    prompt for prompt, answer in zip(prompts, answers)\n",
        "], return_tensors=\"pt\", padding=True)[\"input_ids\"]\n",
        "\n",
        "corrupted_tokens = clean_tokens[\n",
        "    [(i + 1 if i % 2 == 0 else i - 1) for i in range(len(clean_tokens))]\n",
        "]\n",
        "\n",
        "answer_token_indices = torch.tensor(\n",
        "    [\n",
        "        [model.tokenizer(answers[i][j])[\"input_ids\"][1] for j in range(2)]\n",
        "        for i in range(len(answers))\n",
        "    ]\n",
        ")"
      ]
    },
    {
      "cell_type": "code",
      "execution_count": 187,
      "metadata": {},
      "outputs": [
        {
          "data": {
            "text/plain": [
              "tensor([[ 9164, 18964],\n",
              "        [79064,  9164]])"
            ]
          },
          "execution_count": 187,
          "metadata": {},
          "output_type": "execute_result"
        }
      ],
      "source": [
        "answer_token_indices"
      ]
    },
    {
      "cell_type": "code",
      "execution_count": 188,
      "metadata": {},
      "outputs": [],
      "source": [
        "torch.cuda.empty_cache()"
      ]
    },
    {
      "cell_type": "code",
      "execution_count": 189,
      "metadata": {
        "id": "qw1OHTno81mq"
      },
      "outputs": [
        {
          "name": "stderr",
          "output_type": "stream",
          "text": [
            "You're using a PreTrainedTokenizerFast tokenizer. Please note that with a fast tokenizer, using the `__call__` method is faster than using a method to encode the text followed by a call to the `pad` method to get a padded encoding.\n"
          ]
        },
        {
          "data": {
            "application/vnd.jupyter.widget-view+json": {
              "model_id": "55ff4dabc9144b4eba4112cc249f15e9",
              "version_major": 2,
              "version_minor": 0
            },
            "text/plain": [
              "Loading checkpoint shards:   0%|          | 0/4 [00:00<?, ?it/s]"
            ]
          },
          "metadata": {},
          "output_type": "display_data"
        },
        {
          "data": {
            "text/plain": [
              "'Clean logit diff: 0.9046'"
            ]
          },
          "metadata": {},
          "output_type": "display_data"
        },
        {
          "data": {
            "text/plain": [
              "'Corrupted logit diff: -0.5086'"
            ]
          },
          "metadata": {},
          "output_type": "display_data"
        }
      ],
      "source": [
        "def get_logit_diff(logits, answer_token_indices=answer_token_indices):\n",
        "    # if len(logits.shape) == 3:\n",
        "    logits = logits[:, -1, :]\n",
        "    correct_logits = logits.gather(1, answer_token_indices[:, 0].unsqueeze(1))\n",
        "    incorrect_logits = logits.gather(1, answer_token_indices[:, 1].unsqueeze(1))\n",
        "    return (correct_logits - incorrect_logits).mean()\n",
        "\n",
        "with torch.no_grad():\n",
        "    clean_logits = model.trace(clean_tokens, trace=False).logits.cpu()\n",
        "    corrupted_logits = model.trace(corrupted_tokens, trace=False).logits.cpu()\n",
        "\n",
        "CLEAN_BASELINE = get_logit_diff(clean_logits, answer_token_indices).item()\n",
        "display(f\"Clean logit diff: {CLEAN_BASELINE:.4f}\")\n",
        "\n",
        "CORRUPTED_BASELINE = get_logit_diff(corrupted_logits, answer_token_indices).item()\n",
        "display(f\"Corrupted logit diff: {CORRUPTED_BASELINE:.4f}\")"
      ]
    },
    {
      "cell_type": "code",
      "execution_count": null,
      "metadata": {
        "colab": {
          "base_uri": "https://localhost:8080/"
        },
        "id": "BJnnCp4bK-Td",
        "outputId": "fb4d9412-f8f7-4e77-d639-601a50277d63"
      },
      "outputs": [
        {
          "data": {
            "text/plain": [
              "'Clean Baseline is 1: 1.0000'"
            ]
          },
          "metadata": {},
          "output_type": "display_data"
        },
        {
          "data": {
            "text/plain": [
              "'Corrupted Baseline is 0: 0.0000'"
            ]
          },
          "metadata": {},
          "output_type": "display_data"
        }
      ],
      "source": [
        "def ioi_metric(\n",
        "    logits,\n",
        "    answer_token_indices=answer_token_indices,\n",
        "):\n",
        "    # normalizes logit diff between 0 and 1\n",
        "    return (get_logit_diff(logits, answer_token_indices) - CORRUPTED_BASELINE) / (\n",
        "        CLEAN_BASELINE - CORRUPTED_BASELINE\n",
        "    )\n",
        "\n",
        "display(f\"Clean Baseline is 1: {ioi_metric(clean_logits).item():.4f}\")\n",
        "display(f\"Corrupted Baseline is 0: {ioi_metric(corrupted_logits).item():.4f}\")"
      ]
    },
    {
      "cell_type": "code",
      "execution_count": null,
      "metadata": {},
      "outputs": [],
      "source": [
        "def get_component(layer, component):\n",
        "    if component == \"attn\":\n",
        "        return layer.self_attn.o_proj.input[0][0]\n",
        "    else:\n",
        "        assert component == \"residual\", \"Component should be either attn or residual\"\n",
        "        return layer.output[0]\n",
        "    \n",
        "component = \"attn\"\n",
        "\n",
        "clean_residual_out, clean_attention_out = [], []\n",
        "corrupted_residual_out, corrupted_attention_out = [], []\n",
        "corrupted_residual_grads, corrupted_attention_grads = [], []\n",
        "\n",
        "with model.trace() as tracer:\n",
        "    with tracer.invoke(clean_tokens) as invoker_clean_correct:\n",
        "        for layer in model.model.layers:\n",
        "            residual_out = layer.output[0]\n",
        "            attention_out = layer.self_attn.o_proj.input #[0][0]\n",
        "            clean_residual_out.append(residual_out.save())\n",
        "            clean_attention_out.append(attention_out.save())\n",
        "    \n",
        "    with tracer.invoke(corrupted_tokens) as invoker_corrupted_wrong:\n",
        "        for layer in model.model.layers:\n",
        "            residual_out = layer.output[0]\n",
        "            attention_out = layer.self_attn.o_proj.input #[0][0]\n",
        "            corrupted_residual_out.append(residual_out.save())\n",
        "            corrupted_attention_out.append(attention_out.save())\n",
        "            corrupted_residual_grads.append(residual_out.grad.save())\n",
        "            corrupted_attention_grads.append(attention_out.grad.save())\n",
        "        corrupted_logits = model.lm_head.output.save()\n",
        "        # Our metric uses tensors saved on cpu, so we\n",
        "        # need to move the logits to cpu.\n",
        "        value = ioi_metric(corrupted_logits.cpu())\n",
        "        value.save()\n",
        "        value.backward()"
      ]
    },
    {
      "cell_type": "code",
      "execution_count": null,
      "metadata": {},
      "outputs": [
        {
          "data": {
            "application/vnd.plotly.v1+json": {
              "config": {
                "plotlyServerURL": "https://plot.ly"
              },
              "data": [
                {
                  "coloraxis": "coloraxis",
                  "hovertemplate": "x: %{x}<br>y: %{y}<br>color: %{z}<extra></extra>",
                  "name": "0",
                  "type": "heatmap",
                  "xaxis": "x",
                  "yaxis": "y",
                  "z": [
                    [
                      -0.000071117014,
                      -0.00011664041,
                      2.0028273e-7,
                      -0.000014368325,
                      -0.000033305652,
                      -2.9165494e-7,
                      0.000025800553,
                      0.000016355625,
                      0.00022637263,
                      -0.00004072548,
                      -0.000004366946,
                      0.00030998525,
                      0.000076211974,
                      -0.0002780062,
                      0.0010394849,
                      0.00025781523,
                      -7.7665754e-7,
                      -0.000037640508,
                      -0.000026114321,
                      0.000042661213,
                      0.000022493852,
                      0.000010206352,
                      -0.0000022770878,
                      -0.000093262206,
                      -0.000021648077,
                      0.000026755375,
                      -0.000005365142,
                      -0.00004357889,
                      0.000021282642,
                      -2.9531243e-12,
                      -9.4442356e-8,
                      0
                    ],
                    [
                      -0.00002606149,
                      0.000080550984,
                      0.00007343226,
                      0.00014328085,
                      -0.000014318655,
                      0.00065542455,
                      0.000063833446,
                      -0.000055357585,
                      0.000895981,
                      0.000045597248,
                      -0.00035054353,
                      0.00006309162,
                      0.0015948438,
                      0.000012016144,
                      0.000022498709,
                      -0.000038304344,
                      0.0000047413005,
                      0.000026477024,
                      0.000010050455,
                      0.00006198631,
                      0.00007474729,
                      0.00033141352,
                      -0.00024976523,
                      0.00011626934,
                      0.0000024326887,
                      3.307705e-7,
                      0.00006562588,
                      0.000006214408,
                      0.00455657,
                      -0.000018443148,
                      -0.00021268862,
                      0.00024947998
                    ],
                    [
                      0.00007652801,
                      -0.000037617563,
                      -0.00017307609,
                      -0.00007073011,
                      0.000030412746,
                      0.0031140356,
                      0.00056950864,
                      0.0008510655,
                      -8.550869e-7,
                      0.00010594418,
                      0.00009255507,
                      -0.00018989088,
                      -0.000044235665,
                      -0.00011077584,
                      -0.0000826776,
                      0.00012445523,
                      0.0000047093054,
                      0.00023575203,
                      -0.000099248966,
                      0.0005911209,
                      0.000052797244,
                      -2.1133499e-7,
                      -0.00001688212,
                      0.000022699298,
                      -0.00070701167,
                      0.0000141899145,
                      0.00015100726,
                      0.0001089015,
                      -0.00018580168,
                      -0.0008380118,
                      0.0011567087,
                      0.0005087915
                    ],
                    [
                      -0.0020124796,
                      0.00039431755,
                      -0.00018626853,
                      -0.000001581886,
                      -0.000060605205,
                      -0.00039754898,
                      0.0000880128,
                      0.000012336284,
                      -0.0004676405,
                      0.00008125643,
                      0.00029284833,
                      -0.0005264662,
                      0.00055944466,
                      0.00038280897,
                      -0.00026528162,
                      0.004149441,
                      0.00014026917,
                      0.00031734718,
                      0.0006638791,
                      -0.0003734213,
                      0.00095927704,
                      0.0004047291,
                      -0.00033890363,
                      -0.00006524615,
                      0.00022021332,
                      -0.00029619772,
                      0.00023903784,
                      -0.00042455294,
                      0.00047000757,
                      0.0019958061,
                      0.0011210274,
                      0.00003395463
                    ],
                    [
                      -0.00017006908,
                      0.0013707257,
                      0.000092625596,
                      -0.00014780108,
                      -0.00043131103,
                      -0.0005175888,
                      0.00033401555,
                      0.0010391497,
                      -0.00020496451,
                      -0.00014723602,
                      -0.0011286449,
                      0.00013280458,
                      -0.00017554099,
                      -0.000093228824,
                      0.0006603071,
                      -0.00020933873,
                      0.000020610561,
                      -0.00014276875,
                      0.000028172652,
                      0.0002445008,
                      0.00007364868,
                      0.00023423255,
                      -0.000020457286,
                      -0.0021477987,
                      0.0001850261,
                      -0.00012311828,
                      0.00020796664,
                      0.00015297302,
                      0.00003276055,
                      -0.00029715936,
                      0.00017968561,
                      -0.0003490471
                    ],
                    [
                      0.00026786004,
                      -0.0002955708,
                      -0.00029614044,
                      -0.00017169646,
                      0.00009351561,
                      -0.0018480597,
                      -0.00017191702,
                      -0.00010982982,
                      -0.00009430074,
                      0.000040752664,
                      -0.000008069348,
                      -0.0005389364,
                      0.00034409235,
                      0.000060760853,
                      0.00021230697,
                      -0.00015036226,
                      0.00037429138,
                      0.0007302902,
                      -0.000017375598,
                      0.00004233948,
                      -0.00011764282,
                      -0.0006793258,
                      -0.000014651872,
                      0.0007364256,
                      -0.00004147389,
                      -0.00017290594,
                      0.00019681008,
                      -0.00037833193,
                      0.00029365078,
                      0.00006009605,
                      -0.00048496787,
                      0.000012643286
                    ],
                    [
                      0.0004025712,
                      0.0002365201,
                      0.0000122470665,
                      -0.00055593194,
                      0.0007849169,
                      -0.00026223407,
                      0.0019168349,
                      -0.00023971334,
                      0.0012634702,
                      -0.0009187521,
                      0.001014095,
                      -0.00011473695,
                      0.00011494111,
                      -0.0014009064,
                      0.0005709131,
                      0.00006473265,
                      -0.00053450064,
                      0.0000012351065,
                      -0.0011906587,
                      -0.00047171768,
                      0.0018186901,
                      -0.0008193608,
                      0.0010940148,
                      -0.00010807265,
                      0.0001722206,
                      -0.00029675922,
                      -0.000053143915,
                      0.0005565206,
                      -0.000024442765,
                      0.00005053896,
                      0.00008018123,
                      -0.00024716428
                    ],
                    [
                      -0.00014812642,
                      0.0005002325,
                      0.0004674215,
                      0.0017003692,
                      -0.00032777764,
                      0.00040568333,
                      0.0016605707,
                      0.0003619626,
                      -0.0011536472,
                      0.0005060198,
                      0.0019682273,
                      0.000075561446,
                      0.00011929803,
                      -0.00060233765,
                      -0.0003470116,
                      -0.00001633125,
                      0.0010295394,
                      -0.00030027755,
                      0.00006873833,
                      0.00031855708,
                      -0.0015267311,
                      -0.0007456299,
                      -0.0004076959,
                      0.00036853342,
                      0.00044189667,
                      -0.0016161762,
                      -0.0009952853,
                      0.0002954625,
                      0.0005409672,
                      0.0021953755,
                      -0.0015295639,
                      0.000973859
                    ],
                    [
                      -0.00088793563,
                      0.00012849129,
                      -0.00029307685,
                      0.00038898367,
                      -0.000065046595,
                      -0.002803541,
                      -0.000064743304,
                      -0.00016457975,
                      0.0053706546,
                      -0.0010938122,
                      -0.001581275,
                      -0.00015105217,
                      0.0025141246,
                      0.0016451215,
                      0.0002823419,
                      -0.0016455748,
                      -0.0015785493,
                      -0.0035622,
                      0.0021451435,
                      0.0031540734,
                      0.0009584323,
                      -0.00004528572,
                      -0.00012823535,
                      -0.00027142948,
                      -0.0020825174,
                      -0.00016435559,
                      0.0004273841,
                      0.00077364984,
                      -0.00090820604,
                      -0.0000070715323,
                      -0.0013438575,
                      0.002517227
                    ],
                    [
                      -0.00030047365,
                      -0.00092372426,
                      0.0027931482,
                      0.0011865511,
                      -0.0020825404,
                      0.0001532922,
                      -0.0022117004,
                      -0.0004030597,
                      0.0018669412,
                      -0.00039486913,
                      0.001929276,
                      0.0019273547,
                      -0.001791921,
                      0.017610509,
                      0.0015808053,
                      -0.00016506476,
                      0.0010822436,
                      -0.002277281,
                      -0.004053423,
                      0.0051363325,
                      -0.0005868522,
                      0.0003481398,
                      0.000999006,
                      -0.0007865853,
                      0.0019788234,
                      0.00045086653,
                      -0.00030082848,
                      0.0011075353,
                      -0.0031972982,
                      -0.000011439435,
                      0.0012958568,
                      0.0010473481
                    ],
                    [
                      0.007068633,
                      -0.00093317684,
                      0.0018964065,
                      0.0006452651,
                      0.0009801361,
                      -0.00076864293,
                      0.0006630724,
                      -0.00042483996,
                      0.0011402192,
                      -0.0019111986,
                      -0.00086761534,
                      -0.00018885026,
                      0.0003014827,
                      -0.0007839068,
                      0.0020192438,
                      -0.002245403,
                      0.00034583604,
                      -0.0054098167,
                      0.014072217,
                      0.0017925919,
                      0.0030983775,
                      0.001036694,
                      0.000077576435,
                      0.0014705355,
                      -0.0060005737,
                      0.0015584836,
                      0.0014794597,
                      0.0048312442,
                      -0.0028591147,
                      -0.0040844223,
                      -0.0008696369,
                      0.00091301417
                    ],
                    [
                      -0.002352553,
                      -0.0014481887,
                      -0.0023793583,
                      0.001970634,
                      0.008025441,
                      0.009874815,
                      0.008734649,
                      -0.013733318,
                      -0.00536183,
                      0.0012906633,
                      0.0019187654,
                      0.0013598604,
                      0.0068975855,
                      0.0021330453,
                      0.006910228,
                      0.00050537393,
                      -0.008802604,
                      -0.0046451255,
                      0.000019834231,
                      -0.002166383,
                      -0.00093574915,
                      -0.0031545674,
                      0.004224769,
                      -0.009130224,
                      0.00173935,
                      0.00068169186,
                      -0.010038302,
                      -0.0015484424,
                      -0.00066722085,
                      0.00007488014,
                      -0.00047323215,
                      0.0008050794
                    ],
                    [
                      -0.0016868387,
                      -0.0007468642,
                      0.0010389874,
                      -0.00021418993,
                      0.0024049073,
                      0.0052206246,
                      0.0076130405,
                      -0.0038045584,
                      0.00038442508,
                      0.005825314,
                      0.0024561486,
                      -0.011713937,
                      -0.003581841,
                      0.001684304,
                      -0.01132496,
                      0.006125831,
                      0.0012936087,
                      0.00088688993,
                      -0.0021223773,
                      0.00036231568,
                      0.0055539305,
                      -0.00083553157,
                      0.001966045,
                      -0.0033307155,
                      0.006551915,
                      -0.0001637314,
                      -0.0076530227,
                      -0.000650471,
                      0.0040994994,
                      0.00024091091,
                      -0.0049516307,
                      0.0012826149
                    ],
                    [
                      -0.011053061,
                      0.006467996,
                      0.0034996807,
                      -0.0018157901,
                      -0.004968538,
                      -0.0034288284,
                      0.005759842,
                      -0.004186523,
                      0.00967495,
                      -0.0018970993,
                      -0.0092859175,
                      -0.001090033,
                      0.014430013,
                      -0.0068539213,
                      0.00711807,
                      -0.008433264,
                      -0.04419844,
                      -0.0047007212,
                      0.015178205,
                      0.013437233,
                      0.017683484,
                      0.0122081665,
                      0.000013088342,
                      -0.0027395054,
                      0.00008173229,
                      -0.0035413152,
                      0.0015183364,
                      0.0023813313,
                      -0.007400275,
                      0.010235325,
                      0.003786268,
                      -0.0022390238
                    ],
                    [
                      -0.009103809,
                      0.0013915391,
                      -0.0010549489,
                      0.011448272,
                      -0.0032661427,
                      0.0009908322,
                      -0.0012962148,
                      0.00088438403,
                      0.0035339925,
                      0.00036147295,
                      0.0031298283,
                      -0.0013766736,
                      0.015594614,
                      0.013782491,
                      -0.013859474,
                      0.0070285974,
                      0.0020442158,
                      0.00020888541,
                      -0.0053594345,
                      0.0015631237,
                      -0.011932617,
                      0.007884936,
                      -0.008744364,
                      -0.009863129,
                      0.0049803876,
                      0.0001933435,
                      0.00094973017,
                      0.005044855,
                      -0.028445095,
                      0.00012905733,
                      0.006771975,
                      0.05591476
                    ],
                    [
                      -0.0012269751,
                      0.00003565112,
                      -0.00003129679,
                      -0.000012198143,
                      0.00077216513,
                      0.0059518213,
                      -0.017715849,
                      0.010097705,
                      0.014548089,
                      0.008876978,
                      -0.011155875,
                      -0.0036401567,
                      0.0010809752,
                      -0.007156089,
                      0.02581553,
                      -0.015469365,
                      0.0000069566304,
                      0.00059027184,
                      0.0021628977,
                      0.011697415,
                      -0.057900123,
                      0.04235829,
                      0.0038727277,
                      0.0023399917,
                      -0.029890273,
                      0.004392178,
                      0.013592683,
                      0.015764145,
                      0.0000606551,
                      -0.008919151,
                      -0.00058197975,
                      -0.002452718
                    ],
                    [
                      -0.0068304725,
                      0.0056495834,
                      -0.0028559437,
                      0.0034113112,
                      0.0038230005,
                      -0.0010961584,
                      0.0049012075,
                      0.004260381,
                      0.004370889,
                      0.0007466414,
                      0.0046786754,
                      0.0013718783,
                      0.0018086547,
                      0.0011944986,
                      -0.004319402,
                      0.002386623,
                      0.010588925,
                      -0.009311957,
                      0.0006930843,
                      -0.049640104,
                      0.0015042168,
                      0.003763289,
                      -0.00021285337,
                      -0.00017836555,
                      -0.006687539,
                      0.034536723,
                      -0.0015298456,
                      -0.0209233,
                      0.00077296444,
                      0.0017193761,
                      -0.011764508,
                      0.002833387
                    ],
                    [
                      -0.0017164564,
                      -0.0013879365,
                      -0.00008254548,
                      -0.0014131041,
                      -0.0048530973,
                      0.02406378,
                      0.0076480224,
                      0.0013037927,
                      -0.0017556713,
                      0.000029030474,
                      -0.0006367797,
                      0.0081376145,
                      -0.00041863322,
                      -0.0021434259,
                      0.0016913465,
                      0.0040063662,
                      -0.00016009645,
                      -0.000207428,
                      0.00040738043,
                      -0.0036185978,
                      -0.0023162696,
                      -0.0009777986,
                      -0.003837163,
                      -0.00038476242,
                      0.04003467,
                      0.014382062,
                      0.054421943,
                      -0.00038505346,
                      0.00149287,
                      0.0010473379,
                      -0.0008796736,
                      0.00046726855
                    ],
                    [
                      -0.0047526257,
                      0.000060021877,
                      -0.00041331846,
                      -0.00020781512,
                      -0.00028304174,
                      -0.00017312999,
                      -0.00031822227,
                      -0.00021284958,
                      -0.021985292,
                      -0.0014235072,
                      -0.0027815173,
                      0.0010747728,
                      0.0029825866,
                      -0.000026394198,
                      0.0021737418,
                      0.0054660393,
                      0.017115349,
                      -0.0006287892,
                      0.009011315,
                      -0.000055423036,
                      0.016602147,
                      0.000049424154,
                      -0.022518206,
                      0.008269428,
                      0.0027404614,
                      -0.0011800018,
                      -0.009540301,
                      0.00034771598,
                      0.008536679,
                      -0.017328002,
                      0.0015780897,
                      0.0003620263
                    ],
                    [
                      -0.0049422574,
                      0.000059773323,
                      0.0012929855,
                      -0.015202236,
                      -0.00014187966,
                      -8.433708e-7,
                      0.00031840743,
                      -0.00022811424,
                      0.020735003,
                      0.014826935,
                      -0.00903927,
                      -0.0073896814,
                      -0.00070318085,
                      0.0027989033,
                      -0.004531376,
                      0.00019762808,
                      0.00041030467,
                      -0.00022383186,
                      0.000183858,
                      0.0011276626,
                      0.001562639,
                      0.00017367896,
                      0.0001298302,
                      -0.004574031,
                      -0.000074227384,
                      0.00006778642,
                      0.000118067845,
                      -0.005847354,
                      0.000012060515,
                      0.000037136946,
                      0.0003459422,
                      -0.00014293962
                    ],
                    [
                      0.011588327,
                      0.004877477,
                      -0.005696658,
                      -0.0014888569,
                      0.00020046561,
                      0.000005165006,
                      -0.0003573518,
                      0.00029219163,
                      -0.00022916682,
                      -0.0021446655,
                      0.009066927,
                      -0.0012339455,
                      0.0060380865,
                      -0.0027770486,
                      -0.018712563,
                      -0.0029792506,
                      -0.00012959997,
                      -0.00009051463,
                      0.00027859054,
                      0.0017009636,
                      0.0011993297,
                      0.00022429938,
                      -0.00040387153,
                      0.0018973897,
                      0.003907525,
                      -0.0057195667,
                      0.0012393417,
                      -0.0075081917,
                      0.0032601163,
                      -0.0063203215,
                      -0.0008250013,
                      0.0005043383
                    ],
                    [
                      0.00072263397,
                      0.009030599,
                      0.017344642,
                      -0.032598563,
                      -0.0018579412,
                      0.007907193,
                      0.0043110214,
                      0.014968773,
                      -0.007235433,
                      0.0052155964,
                      0.035758242,
                      0.000688753,
                      0.0041405456,
                      -0.0015549619,
                      -0.025866179,
                      -0.006972772,
                      0.0013045121,
                      0.0001286217,
                      0.0037863785,
                      0.0013161048,
                      -0.00003284446,
                      -0.00025115325,
                      -0.00043723398,
                      0.00006139057,
                      0.4128102,
                      -0.0044472744,
                      0.24690983,
                      -0.1421965,
                      0.00047635735,
                      0.0005572529,
                      0.004793666,
                      -0.00014749763
                    ],
                    [
                      -0.0001717786,
                      -0.0028275405,
                      0.00016292276,
                      0.00008832986,
                      0.001287264,
                      -0.0021426487,
                      -0.001969336,
                      0.00037426985,
                      -0.00007835496,
                      -0.020359144,
                      -0.0030428276,
                      0.0003156648,
                      0.01606049,
                      -0.0060459813,
                      -0.0052213925,
                      -0.0022204884,
                      0.028303506,
                      -0.0015048222,
                      -0.032120083,
                      0.07834529,
                      0.00049152214,
                      -0.00024722493,
                      -0.0010103383,
                      -0.0010869986,
                      0.04582846,
                      0.0062270793,
                      -0.00033655233,
                      -0.0023227083,
                      -0.014924506,
                      0.002634902,
                      -0.0022409582,
                      -0.003218642
                    ],
                    [
                      0.002154358,
                      0.0001243957,
                      0.0010170446,
                      -0.00007012808,
                      0.0015834612,
                      0.001180139,
                      -0.00015315277,
                      -0.003703068,
                      0.003917283,
                      -0.0014513279,
                      0.00017668474,
                      -0.00109454,
                      0.0003903773,
                      -0.0031754859,
                      0.003808514,
                      0.0008770582,
                      0.00016028507,
                      -0.0004527266,
                      -0.00013267991,
                      0.0008339566,
                      0.00082853204,
                      -0.0041892864,
                      -0.08019731,
                      -0.00037281646,
                      0.00040331346,
                      -0.006321043,
                      0.0000068527006,
                      0.0017875045,
                      -0.00036829725,
                      0.0029488225,
                      -0.004814828,
                      -0.0009903167
                    ],
                    [
                      -0.0009228583,
                      0.003135132,
                      -0.000959061,
                      -0.00022520879,
                      0.00011617818,
                      -0.0005095588,
                      -0.00029197283,
                      -0.0010319569,
                      -0.0022609923,
                      0.0007138803,
                      -0.00003290159,
                      0.0008087695,
                      0.00036042297,
                      -0.0012362644,
                      -0.0011437093,
                      -0.0030685235,
                      0.01092398,
                      -0.0010976479,
                      0.00013531187,
                      0.0004395889,
                      -0.0018568819,
                      0.00005323617,
                      0.14846605,
                      -0.0063770474,
                      -0.003151167,
                      0.00012253676,
                      0.002367801,
                      0.038236797,
                      -0.0003386457,
                      -0.0013507693,
                      0.0005211154,
                      -0.00006148871
                    ],
                    [
                      -0.0006926637,
                      0.0019329307,
                      0.0015989658,
                      -0.000059717568,
                      0.01798952,
                      0.00008443615,
                      -0.0001181853,
                      0.07103419,
                      0.00056258176,
                      0.00013203779,
                      -0.00025647474,
                      0.003028494,
                      -0.000043426655,
                      -0.0009222046,
                      0.00008870938,
                      -0.25416714,
                      -0.0007918068,
                      -0.00034206905,
                      0.0041300138,
                      -0.00004709995,
                      -0.010541331,
                      0.0060246643,
                      -0.0010723467,
                      0.03997918,
                      -0.00041149982,
                      0.00083939824,
                      -0.000019175874,
                      -0.009935609,
                      -0.0005665937,
                      0.00032497564,
                      -0.0033306275,
                      0.011209432
                    ],
                    [
                      -0.014066793,
                      -0.008162206,
                      -0.008203447,
                      0.027472528,
                      -0.0007532319,
                      -0.00014826337,
                      0.00049925817,
                      0.00069944264,
                      -0.0007800703,
                      -0.00075972365,
                      -0.0007552883,
                      -0.0018537635,
                      -0.003252301,
                      -0.0024132242,
                      0.00024541072,
                      0.0030914622,
                      0.0004533427,
                      -0.0015282831,
                      0.00034815428,
                      -0.004558657,
                      -0.0039930125,
                      0.0013015724,
                      -0.004134309,
                      0.005908405,
                      -0.000070177775,
                      -0.000055200064,
                      -0.00005053152,
                      -0.006457519,
                      -0.00013211102,
                      -0.0019069365,
                      -0.0015838667,
                      0.0017040428
                    ],
                    [
                      -0.000042219115,
                      -0.000080301856,
                      0.000103922954,
                      -0.000021667125,
                      0.0012878259,
                      -0.009286217,
                      -0.0037424015,
                      0.046511866,
                      0.009717863,
                      -0.006195089,
                      -0.0007690718,
                      -0.012891843,
                      -0.0005270373,
                      0.001637348,
                      -0.006175554,
                      -0.0028133178,
                      -0.02311133,
                      -0.0004158907,
                      -0.00039083176,
                      0.00021452596,
                      -0.0006204083,
                      -0.0041842414,
                      0.13136977,
                      -0.00043177803,
                      0.0004380173,
                      -0.000007733424,
                      -0.00037661218,
                      -0.0003251126,
                      -0.001955398,
                      -0.0007026527,
                      0.044367194,
                      -0.0009507887
                    ],
                    [
                      -0.017419597,
                      -0.00025864205,
                      -0.0003510847,
                      0.020238336,
                      0.0000079136225,
                      0.016880162,
                      -0.028416079,
                      0.00016896788,
                      -0.00028734026,
                      0.0032457188,
                      0.032784786,
                      -0.03842781,
                      -0.00022898153,
                      0.0016387223,
                      -0.001687976,
                      -0.0031903274,
                      0.0034473448,
                      -0.0009954115,
                      -0.0025798809,
                      0.00091038365,
                      0.00097602094,
                      0.003035414,
                      -0.00009039289,
                      -0.009022023,
                      0.0008912368,
                      0.00060962053,
                      0.0007564414,
                      -0.002010629,
                      -0.0039566816,
                      0.0020742815,
                      0.0021039404,
                      0.00042368867
                    ],
                    [
                      -0.00019300515,
                      0.0002877264,
                      0.00013466078,
                      0.000029427927,
                      -0.00015478223,
                      -0.0009611365,
                      0.0001231416,
                      0.00005083387,
                      0.0030513247,
                      -0.0060582766,
                      -0.008062337,
                      -0.0059317746,
                      -0.00011508949,
                      -0.00015566216,
                      -0.00007731377,
                      0.0007214912,
                      -0.0010440671,
                      -0.00015053536,
                      0.000011881981,
                      0.00029494023,
                      -0.0035313484,
                      -0.00078008405,
                      -0.0022216379,
                      -0.003930191,
                      -0.0029819747,
                      -0.00085304515,
                      -0.027215589,
                      0.019958453,
                      0.0009308669,
                      0.0019985766,
                      -0.0018605753,
                      -0.019303828
                    ],
                    [
                      0.00023158267,
                      0.007671241,
                      0.0028872117,
                      -0.000086897286,
                      -0.00027935463,
                      0.00045888586,
                      -0.00051786285,
                      -0.0014814279,
                      -0.0013165389,
                      0.0062012197,
                      0.003886263,
                      0.0009995485,
                      0.0152531685,
                      0.0043500997,
                      -0.0022327697,
                      -0.19309476,
                      -0.000015708705,
                      0.0006633336,
                      -0.00053858943,
                      0.0110835,
                      0.0008819457,
                      0.0022462877,
                      0.0035406542,
                      -0.00006772624,
                      0.15036404,
                      -0.095612995,
                      0.025823317,
                      -0.01732715,
                      0.0021887904,
                      0.011804423,
                      0.027151205,
                      -0.0035279894
                    ],
                    [
                      0.10791772,
                      0.34138972,
                      -0.123101786,
                      -0.012096249,
                      0.00015516533,
                      -0.009020301,
                      0.009507004,
                      0.009456228,
                      0.0030070217,
                      -0.009064559,
                      -0.0009593398,
                      -0.035727013,
                      -0.0045176633,
                      0.0056857276,
                      0.058681097,
                      0.0031254718,
                      0.00063073507,
                      -0.0011562614,
                      -0.0010582828,
                      0.0022733477,
                      0.0017200276,
                      0.07448292,
                      -0.0069781956,
                      0.0032901112,
                      0.013423348,
                      -0.0073242625,
                      0.0036876793,
                      0.0009364735,
                      0.006021053,
                      -0.0006170861,
                      0.009555752,
                      0.0030239965
                    ]
                  ]
                }
              ],
              "layout": {
                "coloraxis": {
                  "cmid": 0,
                  "colorscale": [
                    [
                      0,
                      "rgb(103,0,31)"
                    ],
                    [
                      0.1,
                      "rgb(178,24,43)"
                    ],
                    [
                      0.2,
                      "rgb(214,96,77)"
                    ],
                    [
                      0.3,
                      "rgb(244,165,130)"
                    ],
                    [
                      0.4,
                      "rgb(253,219,199)"
                    ],
                    [
                      0.5,
                      "rgb(247,247,247)"
                    ],
                    [
                      0.6,
                      "rgb(209,229,240)"
                    ],
                    [
                      0.7,
                      "rgb(146,197,222)"
                    ],
                    [
                      0.8,
                      "rgb(67,147,195)"
                    ],
                    [
                      0.9,
                      "rgb(33,102,172)"
                    ],
                    [
                      1,
                      "rgb(5,48,97)"
                    ]
                  ]
                },
                "template": {
                  "data": {
                    "bar": [
                      {
                        "error_x": {
                          "color": "#2a3f5f"
                        },
                        "error_y": {
                          "color": "#2a3f5f"
                        },
                        "marker": {
                          "line": {
                            "color": "#E5ECF6",
                            "width": 0.5
                          },
                          "pattern": {
                            "fillmode": "overlay",
                            "size": 10,
                            "solidity": 0.2
                          }
                        },
                        "type": "bar"
                      }
                    ],
                    "barpolar": [
                      {
                        "marker": {
                          "line": {
                            "color": "#E5ECF6",
                            "width": 0.5
                          },
                          "pattern": {
                            "fillmode": "overlay",
                            "size": 10,
                            "solidity": 0.2
                          }
                        },
                        "type": "barpolar"
                      }
                    ],
                    "carpet": [
                      {
                        "aaxis": {
                          "endlinecolor": "#2a3f5f",
                          "gridcolor": "white",
                          "linecolor": "white",
                          "minorgridcolor": "white",
                          "startlinecolor": "#2a3f5f"
                        },
                        "baxis": {
                          "endlinecolor": "#2a3f5f",
                          "gridcolor": "white",
                          "linecolor": "white",
                          "minorgridcolor": "white",
                          "startlinecolor": "#2a3f5f"
                        },
                        "type": "carpet"
                      }
                    ],
                    "choropleth": [
                      {
                        "colorbar": {
                          "outlinewidth": 0,
                          "ticks": ""
                        },
                        "type": "choropleth"
                      }
                    ],
                    "contour": [
                      {
                        "colorbar": {
                          "outlinewidth": 0,
                          "ticks": ""
                        },
                        "colorscale": [
                          [
                            0,
                            "#0d0887"
                          ],
                          [
                            0.1111111111111111,
                            "#46039f"
                          ],
                          [
                            0.2222222222222222,
                            "#7201a8"
                          ],
                          [
                            0.3333333333333333,
                            "#9c179e"
                          ],
                          [
                            0.4444444444444444,
                            "#bd3786"
                          ],
                          [
                            0.5555555555555556,
                            "#d8576b"
                          ],
                          [
                            0.6666666666666666,
                            "#ed7953"
                          ],
                          [
                            0.7777777777777778,
                            "#fb9f3a"
                          ],
                          [
                            0.8888888888888888,
                            "#fdca26"
                          ],
                          [
                            1,
                            "#f0f921"
                          ]
                        ],
                        "type": "contour"
                      }
                    ],
                    "contourcarpet": [
                      {
                        "colorbar": {
                          "outlinewidth": 0,
                          "ticks": ""
                        },
                        "type": "contourcarpet"
                      }
                    ],
                    "heatmap": [
                      {
                        "colorbar": {
                          "outlinewidth": 0,
                          "ticks": ""
                        },
                        "colorscale": [
                          [
                            0,
                            "#0d0887"
                          ],
                          [
                            0.1111111111111111,
                            "#46039f"
                          ],
                          [
                            0.2222222222222222,
                            "#7201a8"
                          ],
                          [
                            0.3333333333333333,
                            "#9c179e"
                          ],
                          [
                            0.4444444444444444,
                            "#bd3786"
                          ],
                          [
                            0.5555555555555556,
                            "#d8576b"
                          ],
                          [
                            0.6666666666666666,
                            "#ed7953"
                          ],
                          [
                            0.7777777777777778,
                            "#fb9f3a"
                          ],
                          [
                            0.8888888888888888,
                            "#fdca26"
                          ],
                          [
                            1,
                            "#f0f921"
                          ]
                        ],
                        "type": "heatmap"
                      }
                    ],
                    "heatmapgl": [
                      {
                        "colorbar": {
                          "outlinewidth": 0,
                          "ticks": ""
                        },
                        "colorscale": [
                          [
                            0,
                            "#0d0887"
                          ],
                          [
                            0.1111111111111111,
                            "#46039f"
                          ],
                          [
                            0.2222222222222222,
                            "#7201a8"
                          ],
                          [
                            0.3333333333333333,
                            "#9c179e"
                          ],
                          [
                            0.4444444444444444,
                            "#bd3786"
                          ],
                          [
                            0.5555555555555556,
                            "#d8576b"
                          ],
                          [
                            0.6666666666666666,
                            "#ed7953"
                          ],
                          [
                            0.7777777777777778,
                            "#fb9f3a"
                          ],
                          [
                            0.8888888888888888,
                            "#fdca26"
                          ],
                          [
                            1,
                            "#f0f921"
                          ]
                        ],
                        "type": "heatmapgl"
                      }
                    ],
                    "histogram": [
                      {
                        "marker": {
                          "pattern": {
                            "fillmode": "overlay",
                            "size": 10,
                            "solidity": 0.2
                          }
                        },
                        "type": "histogram"
                      }
                    ],
                    "histogram2d": [
                      {
                        "colorbar": {
                          "outlinewidth": 0,
                          "ticks": ""
                        },
                        "colorscale": [
                          [
                            0,
                            "#0d0887"
                          ],
                          [
                            0.1111111111111111,
                            "#46039f"
                          ],
                          [
                            0.2222222222222222,
                            "#7201a8"
                          ],
                          [
                            0.3333333333333333,
                            "#9c179e"
                          ],
                          [
                            0.4444444444444444,
                            "#bd3786"
                          ],
                          [
                            0.5555555555555556,
                            "#d8576b"
                          ],
                          [
                            0.6666666666666666,
                            "#ed7953"
                          ],
                          [
                            0.7777777777777778,
                            "#fb9f3a"
                          ],
                          [
                            0.8888888888888888,
                            "#fdca26"
                          ],
                          [
                            1,
                            "#f0f921"
                          ]
                        ],
                        "type": "histogram2d"
                      }
                    ],
                    "histogram2dcontour": [
                      {
                        "colorbar": {
                          "outlinewidth": 0,
                          "ticks": ""
                        },
                        "colorscale": [
                          [
                            0,
                            "#0d0887"
                          ],
                          [
                            0.1111111111111111,
                            "#46039f"
                          ],
                          [
                            0.2222222222222222,
                            "#7201a8"
                          ],
                          [
                            0.3333333333333333,
                            "#9c179e"
                          ],
                          [
                            0.4444444444444444,
                            "#bd3786"
                          ],
                          [
                            0.5555555555555556,
                            "#d8576b"
                          ],
                          [
                            0.6666666666666666,
                            "#ed7953"
                          ],
                          [
                            0.7777777777777778,
                            "#fb9f3a"
                          ],
                          [
                            0.8888888888888888,
                            "#fdca26"
                          ],
                          [
                            1,
                            "#f0f921"
                          ]
                        ],
                        "type": "histogram2dcontour"
                      }
                    ],
                    "mesh3d": [
                      {
                        "colorbar": {
                          "outlinewidth": 0,
                          "ticks": ""
                        },
                        "type": "mesh3d"
                      }
                    ],
                    "parcoords": [
                      {
                        "line": {
                          "colorbar": {
                            "outlinewidth": 0,
                            "ticks": ""
                          }
                        },
                        "type": "parcoords"
                      }
                    ],
                    "pie": [
                      {
                        "automargin": true,
                        "type": "pie"
                      }
                    ],
                    "scatter": [
                      {
                        "fillpattern": {
                          "fillmode": "overlay",
                          "size": 10,
                          "solidity": 0.2
                        },
                        "type": "scatter"
                      }
                    ],
                    "scatter3d": [
                      {
                        "line": {
                          "colorbar": {
                            "outlinewidth": 0,
                            "ticks": ""
                          }
                        },
                        "marker": {
                          "colorbar": {
                            "outlinewidth": 0,
                            "ticks": ""
                          }
                        },
                        "type": "scatter3d"
                      }
                    ],
                    "scattercarpet": [
                      {
                        "marker": {
                          "colorbar": {
                            "outlinewidth": 0,
                            "ticks": ""
                          }
                        },
                        "type": "scattercarpet"
                      }
                    ],
                    "scattergeo": [
                      {
                        "marker": {
                          "colorbar": {
                            "outlinewidth": 0,
                            "ticks": ""
                          }
                        },
                        "type": "scattergeo"
                      }
                    ],
                    "scattergl": [
                      {
                        "marker": {
                          "colorbar": {
                            "outlinewidth": 0,
                            "ticks": ""
                          }
                        },
                        "type": "scattergl"
                      }
                    ],
                    "scattermapbox": [
                      {
                        "marker": {
                          "colorbar": {
                            "outlinewidth": 0,
                            "ticks": ""
                          }
                        },
                        "type": "scattermapbox"
                      }
                    ],
                    "scatterpolar": [
                      {
                        "marker": {
                          "colorbar": {
                            "outlinewidth": 0,
                            "ticks": ""
                          }
                        },
                        "type": "scatterpolar"
                      }
                    ],
                    "scatterpolargl": [
                      {
                        "marker": {
                          "colorbar": {
                            "outlinewidth": 0,
                            "ticks": ""
                          }
                        },
                        "type": "scatterpolargl"
                      }
                    ],
                    "scatterternary": [
                      {
                        "marker": {
                          "colorbar": {
                            "outlinewidth": 0,
                            "ticks": ""
                          }
                        },
                        "type": "scatterternary"
                      }
                    ],
                    "surface": [
                      {
                        "colorbar": {
                          "outlinewidth": 0,
                          "ticks": ""
                        },
                        "colorscale": [
                          [
                            0,
                            "#0d0887"
                          ],
                          [
                            0.1111111111111111,
                            "#46039f"
                          ],
                          [
                            0.2222222222222222,
                            "#7201a8"
                          ],
                          [
                            0.3333333333333333,
                            "#9c179e"
                          ],
                          [
                            0.4444444444444444,
                            "#bd3786"
                          ],
                          [
                            0.5555555555555556,
                            "#d8576b"
                          ],
                          [
                            0.6666666666666666,
                            "#ed7953"
                          ],
                          [
                            0.7777777777777778,
                            "#fb9f3a"
                          ],
                          [
                            0.8888888888888888,
                            "#fdca26"
                          ],
                          [
                            1,
                            "#f0f921"
                          ]
                        ],
                        "type": "surface"
                      }
                    ],
                    "table": [
                      {
                        "cells": {
                          "fill": {
                            "color": "#EBF0F8"
                          },
                          "line": {
                            "color": "white"
                          }
                        },
                        "header": {
                          "fill": {
                            "color": "#C8D4E3"
                          },
                          "line": {
                            "color": "white"
                          }
                        },
                        "type": "table"
                      }
                    ]
                  },
                  "layout": {
                    "annotationdefaults": {
                      "arrowcolor": "#2a3f5f",
                      "arrowhead": 0,
                      "arrowwidth": 1
                    },
                    "autotypenumbers": "strict",
                    "coloraxis": {
                      "colorbar": {
                        "outlinewidth": 0,
                        "ticks": ""
                      }
                    },
                    "colorscale": {
                      "diverging": [
                        [
                          0,
                          "#8e0152"
                        ],
                        [
                          0.1,
                          "#c51b7d"
                        ],
                        [
                          0.2,
                          "#de77ae"
                        ],
                        [
                          0.3,
                          "#f1b6da"
                        ],
                        [
                          0.4,
                          "#fde0ef"
                        ],
                        [
                          0.5,
                          "#f7f7f7"
                        ],
                        [
                          0.6,
                          "#e6f5d0"
                        ],
                        [
                          0.7,
                          "#b8e186"
                        ],
                        [
                          0.8,
                          "#7fbc41"
                        ],
                        [
                          0.9,
                          "#4d9221"
                        ],
                        [
                          1,
                          "#276419"
                        ]
                      ],
                      "sequential": [
                        [
                          0,
                          "#0d0887"
                        ],
                        [
                          0.1111111111111111,
                          "#46039f"
                        ],
                        [
                          0.2222222222222222,
                          "#7201a8"
                        ],
                        [
                          0.3333333333333333,
                          "#9c179e"
                        ],
                        [
                          0.4444444444444444,
                          "#bd3786"
                        ],
                        [
                          0.5555555555555556,
                          "#d8576b"
                        ],
                        [
                          0.6666666666666666,
                          "#ed7953"
                        ],
                        [
                          0.7777777777777778,
                          "#fb9f3a"
                        ],
                        [
                          0.8888888888888888,
                          "#fdca26"
                        ],
                        [
                          1,
                          "#f0f921"
                        ]
                      ],
                      "sequentialminus": [
                        [
                          0,
                          "#0d0887"
                        ],
                        [
                          0.1111111111111111,
                          "#46039f"
                        ],
                        [
                          0.2222222222222222,
                          "#7201a8"
                        ],
                        [
                          0.3333333333333333,
                          "#9c179e"
                        ],
                        [
                          0.4444444444444444,
                          "#bd3786"
                        ],
                        [
                          0.5555555555555556,
                          "#d8576b"
                        ],
                        [
                          0.6666666666666666,
                          "#ed7953"
                        ],
                        [
                          0.7777777777777778,
                          "#fb9f3a"
                        ],
                        [
                          0.8888888888888888,
                          "#fdca26"
                        ],
                        [
                          1,
                          "#f0f921"
                        ]
                      ]
                    },
                    "colorway": [
                      "#636efa",
                      "#EF553B",
                      "#00cc96",
                      "#ab63fa",
                      "#FFA15A",
                      "#19d3f3",
                      "#FF6692",
                      "#B6E880",
                      "#FF97FF",
                      "#FECB52"
                    ],
                    "font": {
                      "color": "#2a3f5f"
                    },
                    "geo": {
                      "bgcolor": "white",
                      "lakecolor": "white",
                      "landcolor": "#E5ECF6",
                      "showlakes": true,
                      "showland": true,
                      "subunitcolor": "white"
                    },
                    "hoverlabel": {
                      "align": "left"
                    },
                    "hovermode": "closest",
                    "mapbox": {
                      "style": "light"
                    },
                    "paper_bgcolor": "white",
                    "plot_bgcolor": "#E5ECF6",
                    "polar": {
                      "angularaxis": {
                        "gridcolor": "white",
                        "linecolor": "white",
                        "ticks": ""
                      },
                      "bgcolor": "#E5ECF6",
                      "radialaxis": {
                        "gridcolor": "white",
                        "linecolor": "white",
                        "ticks": ""
                      }
                    },
                    "scene": {
                      "xaxis": {
                        "backgroundcolor": "#E5ECF6",
                        "gridcolor": "white",
                        "gridwidth": 2,
                        "linecolor": "white",
                        "showbackground": true,
                        "ticks": "",
                        "zerolinecolor": "white"
                      },
                      "yaxis": {
                        "backgroundcolor": "#E5ECF6",
                        "gridcolor": "white",
                        "gridwidth": 2,
                        "linecolor": "white",
                        "showbackground": true,
                        "ticks": "",
                        "zerolinecolor": "white"
                      },
                      "zaxis": {
                        "backgroundcolor": "#E5ECF6",
                        "gridcolor": "white",
                        "gridwidth": 2,
                        "linecolor": "white",
                        "showbackground": true,
                        "ticks": "",
                        "zerolinecolor": "white"
                      }
                    },
                    "shapedefaults": {
                      "line": {
                        "color": "#2a3f5f"
                      }
                    },
                    "ternary": {
                      "aaxis": {
                        "gridcolor": "white",
                        "linecolor": "white",
                        "ticks": ""
                      },
                      "baxis": {
                        "gridcolor": "white",
                        "linecolor": "white",
                        "ticks": ""
                      },
                      "bgcolor": "#E5ECF6",
                      "caxis": {
                        "gridcolor": "white",
                        "linecolor": "white",
                        "ticks": ""
                      }
                    },
                    "title": {
                      "x": 0.05
                    },
                    "xaxis": {
                      "automargin": true,
                      "gridcolor": "white",
                      "linecolor": "white",
                      "ticks": "",
                      "title": {
                        "standoff": 15
                      },
                      "zerolinecolor": "white",
                      "zerolinewidth": 2
                    },
                    "yaxis": {
                      "automargin": true,
                      "gridcolor": "white",
                      "linecolor": "white",
                      "ticks": "",
                      "title": {
                        "standoff": 15
                      },
                      "zerolinecolor": "white",
                      "zerolinewidth": 2
                    }
                  }
                },
                "title": {
                  "text": "Patching Over Attention Heads"
                },
                "xaxis": {
                  "anchor": "y",
                  "constrain": "domain",
                  "domain": [
                    0,
                    1
                  ],
                  "scaleanchor": "y",
                  "title": {
                    "text": "Head"
                  }
                },
                "yaxis": {
                  "anchor": "x",
                  "autorange": "reversed",
                  "constrain": "domain",
                  "domain": [
                    0,
                    1
                  ],
                  "title": {
                    "text": "Layer"
                  }
                }
              }
            },
            "text/html": [
              "<div>                            <div id=\"2d6d7f01-0fd0-4fb4-a50b-30ed0b67f281\" class=\"plotly-graph-div\" style=\"height:525px; width:100%;\"></div>            <script type=\"text/javascript\">                require([\"plotly\"], function(Plotly) {                    window.PLOTLYENV=window.PLOTLYENV || {};                                    if (document.getElementById(\"2d6d7f01-0fd0-4fb4-a50b-30ed0b67f281\")) {                    Plotly.newPlot(                        \"2d6d7f01-0fd0-4fb4-a50b-30ed0b67f281\",                        [{\"coloraxis\":\"coloraxis\",\"name\":\"0\",\"z\":[[-0.000071117014,-0.00011664041,2.0028273e-7,-0.000014368325,-0.000033305652,-2.9165494e-7,0.000025800553,0.000016355625,0.00022637263,-0.00004072548,-0.000004366946,0.00030998525,0.000076211974,-0.0002780062,0.0010394849,0.00025781523,-7.7665754e-7,-0.000037640508,-0.000026114321,0.000042661213,0.000022493852,0.000010206352,-0.0000022770878,-0.000093262206,-0.000021648077,0.000026755375,-0.000005365142,-0.00004357889,0.000021282642,-2.9531243e-12,-9.4442356e-8,0.0],[-0.00002606149,0.000080550984,0.00007343226,0.00014328085,-0.000014318655,0.00065542455,0.000063833446,-0.000055357585,0.000895981,0.000045597248,-0.00035054353,0.00006309162,0.0015948438,0.000012016144,0.000022498709,-0.000038304344,0.0000047413005,0.000026477024,0.000010050455,0.00006198631,0.00007474729,0.00033141352,-0.00024976523,0.00011626934,0.0000024326887,3.307705e-7,0.00006562588,0.000006214408,0.00455657,-0.000018443148,-0.00021268862,0.00024947998],[0.00007652801,-0.000037617563,-0.00017307609,-0.00007073011,0.000030412746,0.0031140356,0.00056950864,0.0008510655,-8.550869e-7,0.00010594418,0.00009255507,-0.00018989088,-0.000044235665,-0.00011077584,-0.0000826776,0.00012445523,0.0000047093054,0.00023575203,-0.000099248966,0.0005911209,0.000052797244,-2.1133499e-7,-0.00001688212,0.000022699298,-0.00070701167,0.0000141899145,0.00015100726,0.0001089015,-0.00018580168,-0.0008380118,0.0011567087,0.0005087915],[-0.0020124796,0.00039431755,-0.00018626853,-0.000001581886,-0.000060605205,-0.00039754898,0.0000880128,0.000012336284,-0.0004676405,0.00008125643,0.00029284833,-0.0005264662,0.00055944466,0.00038280897,-0.00026528162,0.004149441,0.00014026917,0.00031734718,0.0006638791,-0.0003734213,0.00095927704,0.0004047291,-0.00033890363,-0.00006524615,0.00022021332,-0.00029619772,0.00023903784,-0.00042455294,0.00047000757,0.0019958061,0.0011210274,0.00003395463],[-0.00017006908,0.0013707257,0.000092625596,-0.00014780108,-0.00043131103,-0.0005175888,0.00033401555,0.0010391497,-0.00020496451,-0.00014723602,-0.0011286449,0.00013280458,-0.00017554099,-0.000093228824,0.0006603071,-0.00020933873,0.000020610561,-0.00014276875,0.000028172652,0.0002445008,0.00007364868,0.00023423255,-0.000020457286,-0.0021477987,0.0001850261,-0.00012311828,0.00020796664,0.00015297302,0.00003276055,-0.00029715936,0.00017968561,-0.0003490471],[0.00026786004,-0.0002955708,-0.00029614044,-0.00017169646,0.00009351561,-0.0018480597,-0.00017191702,-0.00010982982,-0.00009430074,0.000040752664,-0.000008069348,-0.0005389364,0.00034409235,0.000060760853,0.00021230697,-0.00015036226,0.00037429138,0.0007302902,-0.000017375598,0.00004233948,-0.00011764282,-0.0006793258,-0.000014651872,0.0007364256,-0.00004147389,-0.00017290594,0.00019681008,-0.00037833193,0.00029365078,0.00006009605,-0.00048496787,0.000012643286],[0.0004025712,0.0002365201,0.0000122470665,-0.00055593194,0.0007849169,-0.00026223407,0.0019168349,-0.00023971334,0.0012634702,-0.0009187521,0.001014095,-0.00011473695,0.00011494111,-0.0014009064,0.0005709131,0.00006473265,-0.00053450064,0.0000012351065,-0.0011906587,-0.00047171768,0.0018186901,-0.0008193608,0.0010940148,-0.00010807265,0.0001722206,-0.00029675922,-0.000053143915,0.0005565206,-0.000024442765,0.00005053896,0.00008018123,-0.00024716428],[-0.00014812642,0.0005002325,0.0004674215,0.0017003692,-0.00032777764,0.00040568333,0.0016605707,0.0003619626,-0.0011536472,0.0005060198,0.0019682273,0.000075561446,0.00011929803,-0.00060233765,-0.0003470116,-0.00001633125,0.0010295394,-0.00030027755,0.00006873833,0.00031855708,-0.0015267311,-0.0007456299,-0.0004076959,0.00036853342,0.00044189667,-0.0016161762,-0.0009952853,0.0002954625,0.0005409672,0.0021953755,-0.0015295639,0.000973859],[-0.00088793563,0.00012849129,-0.00029307685,0.00038898367,-0.000065046595,-0.002803541,-0.000064743304,-0.00016457975,0.0053706546,-0.0010938122,-0.001581275,-0.00015105217,0.0025141246,0.0016451215,0.0002823419,-0.0016455748,-0.0015785493,-0.0035622,0.0021451435,0.0031540734,0.0009584323,-0.00004528572,-0.00012823535,-0.00027142948,-0.0020825174,-0.00016435559,0.0004273841,0.00077364984,-0.00090820604,-0.0000070715323,-0.0013438575,0.002517227],[-0.00030047365,-0.00092372426,0.0027931482,0.0011865511,-0.0020825404,0.0001532922,-0.0022117004,-0.0004030597,0.0018669412,-0.00039486913,0.001929276,0.0019273547,-0.001791921,0.017610509,0.0015808053,-0.00016506476,0.0010822436,-0.002277281,-0.004053423,0.0051363325,-0.0005868522,0.0003481398,0.000999006,-0.0007865853,0.0019788234,0.00045086653,-0.00030082848,0.0011075353,-0.0031972982,-0.000011439435,0.0012958568,0.0010473481],[0.007068633,-0.00093317684,0.0018964065,0.0006452651,0.0009801361,-0.00076864293,0.0006630724,-0.00042483996,0.0011402192,-0.0019111986,-0.00086761534,-0.00018885026,0.0003014827,-0.0007839068,0.0020192438,-0.002245403,0.00034583604,-0.0054098167,0.014072217,0.0017925919,0.0030983775,0.001036694,0.000077576435,0.0014705355,-0.0060005737,0.0015584836,0.0014794597,0.0048312442,-0.0028591147,-0.0040844223,-0.0008696369,0.00091301417],[-0.002352553,-0.0014481887,-0.0023793583,0.001970634,0.008025441,0.009874815,0.008734649,-0.013733318,-0.00536183,0.0012906633,0.0019187654,0.0013598604,0.0068975855,0.0021330453,0.006910228,0.00050537393,-0.008802604,-0.0046451255,0.000019834231,-0.002166383,-0.00093574915,-0.0031545674,0.004224769,-0.009130224,0.00173935,0.00068169186,-0.010038302,-0.0015484424,-0.00066722085,0.00007488014,-0.00047323215,0.0008050794],[-0.0016868387,-0.0007468642,0.0010389874,-0.00021418993,0.0024049073,0.0052206246,0.0076130405,-0.0038045584,0.00038442508,0.005825314,0.0024561486,-0.011713937,-0.003581841,0.001684304,-0.01132496,0.006125831,0.0012936087,0.00088688993,-0.0021223773,0.00036231568,0.0055539305,-0.00083553157,0.001966045,-0.0033307155,0.006551915,-0.0001637314,-0.0076530227,-0.000650471,0.0040994994,0.00024091091,-0.0049516307,0.0012826149],[-0.011053061,0.006467996,0.0034996807,-0.0018157901,-0.004968538,-0.0034288284,0.005759842,-0.004186523,0.00967495,-0.0018970993,-0.0092859175,-0.001090033,0.014430013,-0.0068539213,0.00711807,-0.008433264,-0.04419844,-0.0047007212,0.015178205,0.013437233,0.017683484,0.0122081665,0.000013088342,-0.0027395054,0.00008173229,-0.0035413152,0.0015183364,0.0023813313,-0.007400275,0.010235325,0.003786268,-0.0022390238],[-0.009103809,0.0013915391,-0.0010549489,0.011448272,-0.0032661427,0.0009908322,-0.0012962148,0.00088438403,0.0035339925,0.00036147295,0.0031298283,-0.0013766736,0.015594614,0.013782491,-0.013859474,0.0070285974,0.0020442158,0.00020888541,-0.0053594345,0.0015631237,-0.011932617,0.007884936,-0.008744364,-0.009863129,0.0049803876,0.0001933435,0.00094973017,0.005044855,-0.028445095,0.00012905733,0.006771975,0.05591476],[-0.0012269751,0.00003565112,-0.00003129679,-0.000012198143,0.00077216513,0.0059518213,-0.017715849,0.010097705,0.014548089,0.008876978,-0.011155875,-0.0036401567,0.0010809752,-0.007156089,0.02581553,-0.015469365,0.0000069566304,0.00059027184,0.0021628977,0.011697415,-0.057900123,0.04235829,0.0038727277,0.0023399917,-0.029890273,0.004392178,0.013592683,0.015764145,0.0000606551,-0.008919151,-0.00058197975,-0.002452718],[-0.0068304725,0.0056495834,-0.0028559437,0.0034113112,0.0038230005,-0.0010961584,0.0049012075,0.004260381,0.004370889,0.0007466414,0.0046786754,0.0013718783,0.0018086547,0.0011944986,-0.004319402,0.002386623,0.010588925,-0.009311957,0.0006930843,-0.049640104,0.0015042168,0.003763289,-0.00021285337,-0.00017836555,-0.006687539,0.034536723,-0.0015298456,-0.0209233,0.00077296444,0.0017193761,-0.011764508,0.002833387],[-0.0017164564,-0.0013879365,-0.00008254548,-0.0014131041,-0.0048530973,0.02406378,0.0076480224,0.0013037927,-0.0017556713,0.000029030474,-0.0006367797,0.0081376145,-0.00041863322,-0.0021434259,0.0016913465,0.0040063662,-0.00016009645,-0.000207428,0.00040738043,-0.0036185978,-0.0023162696,-0.0009777986,-0.003837163,-0.00038476242,0.04003467,0.014382062,0.054421943,-0.00038505346,0.00149287,0.0010473379,-0.0008796736,0.00046726855],[-0.0047526257,0.000060021877,-0.00041331846,-0.00020781512,-0.00028304174,-0.00017312999,-0.00031822227,-0.00021284958,-0.021985292,-0.0014235072,-0.0027815173,0.0010747728,0.0029825866,-0.000026394198,0.0021737418,0.0054660393,0.017115349,-0.0006287892,0.009011315,-0.000055423036,0.016602147,0.000049424154,-0.022518206,0.008269428,0.0027404614,-0.0011800018,-0.009540301,0.00034771598,0.008536679,-0.017328002,0.0015780897,0.0003620263],[-0.0049422574,0.000059773323,0.0012929855,-0.015202236,-0.00014187966,-8.433708e-7,0.00031840743,-0.00022811424,0.020735003,0.014826935,-0.00903927,-0.0073896814,-0.00070318085,0.0027989033,-0.004531376,0.00019762808,0.00041030467,-0.00022383186,0.000183858,0.0011276626,0.001562639,0.00017367896,0.0001298302,-0.004574031,-0.000074227384,0.00006778642,0.000118067845,-0.005847354,0.000012060515,0.000037136946,0.0003459422,-0.00014293962],[0.011588327,0.004877477,-0.005696658,-0.0014888569,0.00020046561,0.000005165006,-0.0003573518,0.00029219163,-0.00022916682,-0.0021446655,0.009066927,-0.0012339455,0.0060380865,-0.0027770486,-0.018712563,-0.0029792506,-0.00012959997,-0.00009051463,0.00027859054,0.0017009636,0.0011993297,0.00022429938,-0.00040387153,0.0018973897,0.003907525,-0.0057195667,0.0012393417,-0.0075081917,0.0032601163,-0.0063203215,-0.0008250013,0.0005043383],[0.00072263397,0.009030599,0.017344642,-0.032598563,-0.0018579412,0.007907193,0.0043110214,0.014968773,-0.007235433,0.0052155964,0.035758242,0.000688753,0.0041405456,-0.0015549619,-0.025866179,-0.006972772,0.0013045121,0.0001286217,0.0037863785,0.0013161048,-0.00003284446,-0.00025115325,-0.00043723398,0.00006139057,0.4128102,-0.0044472744,0.24690983,-0.1421965,0.00047635735,0.0005572529,0.004793666,-0.00014749763],[-0.0001717786,-0.0028275405,0.00016292276,0.00008832986,0.001287264,-0.0021426487,-0.001969336,0.00037426985,-0.00007835496,-0.020359144,-0.0030428276,0.0003156648,0.01606049,-0.0060459813,-0.0052213925,-0.0022204884,0.028303506,-0.0015048222,-0.032120083,0.07834529,0.00049152214,-0.00024722493,-0.0010103383,-0.0010869986,0.04582846,0.0062270793,-0.00033655233,-0.0023227083,-0.014924506,0.002634902,-0.0022409582,-0.003218642],[0.002154358,0.0001243957,0.0010170446,-0.00007012808,0.0015834612,0.001180139,-0.00015315277,-0.003703068,0.003917283,-0.0014513279,0.00017668474,-0.00109454,0.0003903773,-0.0031754859,0.003808514,0.0008770582,0.00016028507,-0.0004527266,-0.00013267991,0.0008339566,0.00082853204,-0.0041892864,-0.08019731,-0.00037281646,0.00040331346,-0.006321043,0.0000068527006,0.0017875045,-0.00036829725,0.0029488225,-0.004814828,-0.0009903167],[-0.0009228583,0.003135132,-0.000959061,-0.00022520879,0.00011617818,-0.0005095588,-0.00029197283,-0.0010319569,-0.0022609923,0.0007138803,-0.00003290159,0.0008087695,0.00036042297,-0.0012362644,-0.0011437093,-0.0030685235,0.01092398,-0.0010976479,0.00013531187,0.0004395889,-0.0018568819,0.00005323617,0.14846605,-0.0063770474,-0.003151167,0.00012253676,0.002367801,0.038236797,-0.0003386457,-0.0013507693,0.0005211154,-0.00006148871],[-0.0006926637,0.0019329307,0.0015989658,-0.000059717568,0.01798952,0.00008443615,-0.0001181853,0.07103419,0.00056258176,0.00013203779,-0.00025647474,0.003028494,-0.000043426655,-0.0009222046,0.00008870938,-0.25416714,-0.0007918068,-0.00034206905,0.0041300138,-0.00004709995,-0.010541331,0.0060246643,-0.0010723467,0.03997918,-0.00041149982,0.00083939824,-0.000019175874,-0.009935609,-0.0005665937,0.00032497564,-0.0033306275,0.011209432],[-0.014066793,-0.008162206,-0.008203447,0.027472528,-0.0007532319,-0.00014826337,0.00049925817,0.00069944264,-0.0007800703,-0.00075972365,-0.0007552883,-0.0018537635,-0.003252301,-0.0024132242,0.00024541072,0.0030914622,0.0004533427,-0.0015282831,0.00034815428,-0.004558657,-0.0039930125,0.0013015724,-0.004134309,0.005908405,-0.000070177775,-0.000055200064,-0.00005053152,-0.006457519,-0.00013211102,-0.0019069365,-0.0015838667,0.0017040428],[-0.000042219115,-0.000080301856,0.000103922954,-0.000021667125,0.0012878259,-0.009286217,-0.0037424015,0.046511866,0.009717863,-0.006195089,-0.0007690718,-0.012891843,-0.0005270373,0.001637348,-0.006175554,-0.0028133178,-0.02311133,-0.0004158907,-0.00039083176,0.00021452596,-0.0006204083,-0.0041842414,0.13136977,-0.00043177803,0.0004380173,-0.000007733424,-0.00037661218,-0.0003251126,-0.001955398,-0.0007026527,0.044367194,-0.0009507887],[-0.017419597,-0.00025864205,-0.0003510847,0.020238336,0.0000079136225,0.016880162,-0.028416079,0.00016896788,-0.00028734026,0.0032457188,0.032784786,-0.03842781,-0.00022898153,0.0016387223,-0.001687976,-0.0031903274,0.0034473448,-0.0009954115,-0.0025798809,0.00091038365,0.00097602094,0.003035414,-0.00009039289,-0.009022023,0.0008912368,0.00060962053,0.0007564414,-0.002010629,-0.0039566816,0.0020742815,0.0021039404,0.00042368867],[-0.00019300515,0.0002877264,0.00013466078,0.000029427927,-0.00015478223,-0.0009611365,0.0001231416,0.00005083387,0.0030513247,-0.0060582766,-0.008062337,-0.0059317746,-0.00011508949,-0.00015566216,-0.00007731377,0.0007214912,-0.0010440671,-0.00015053536,0.000011881981,0.00029494023,-0.0035313484,-0.00078008405,-0.0022216379,-0.003930191,-0.0029819747,-0.00085304515,-0.027215589,0.019958453,0.0009308669,0.0019985766,-0.0018605753,-0.019303828],[0.00023158267,0.007671241,0.0028872117,-0.000086897286,-0.00027935463,0.00045888586,-0.00051786285,-0.0014814279,-0.0013165389,0.0062012197,0.003886263,0.0009995485,0.0152531685,0.0043500997,-0.0022327697,-0.19309476,-0.000015708705,0.0006633336,-0.00053858943,0.0110835,0.0008819457,0.0022462877,0.0035406542,-0.00006772624,0.15036404,-0.095612995,0.025823317,-0.01732715,0.0021887904,0.011804423,0.027151205,-0.0035279894],[0.10791772,0.34138972,-0.123101786,-0.012096249,0.00015516533,-0.009020301,0.009507004,0.009456228,0.0030070217,-0.009064559,-0.0009593398,-0.035727013,-0.0045176633,0.0056857276,0.058681097,0.0031254718,0.00063073507,-0.0011562614,-0.0010582828,0.0022733477,0.0017200276,0.07448292,-0.0069781956,0.0032901112,0.013423348,-0.0073242625,0.0036876793,0.0009364735,0.006021053,-0.0006170861,0.009555752,0.0030239965]],\"type\":\"heatmap\",\"xaxis\":\"x\",\"yaxis\":\"y\",\"hovertemplate\":\"x: %{x}\\u003cbr\\u003ey: %{y}\\u003cbr\\u003ecolor: %{z}\\u003cextra\\u003e\\u003c\\u002fextra\\u003e\"}],                        {\"template\":{\"data\":{\"histogram2dcontour\":[{\"type\":\"histogram2dcontour\",\"colorbar\":{\"outlinewidth\":0,\"ticks\":\"\"},\"colorscale\":[[0.0,\"#0d0887\"],[0.1111111111111111,\"#46039f\"],[0.2222222222222222,\"#7201a8\"],[0.3333333333333333,\"#9c179e\"],[0.4444444444444444,\"#bd3786\"],[0.5555555555555556,\"#d8576b\"],[0.6666666666666666,\"#ed7953\"],[0.7777777777777778,\"#fb9f3a\"],[0.8888888888888888,\"#fdca26\"],[1.0,\"#f0f921\"]]}],\"choropleth\":[{\"type\":\"choropleth\",\"colorbar\":{\"outlinewidth\":0,\"ticks\":\"\"}}],\"histogram2d\":[{\"type\":\"histogram2d\",\"colorbar\":{\"outlinewidth\":0,\"ticks\":\"\"},\"colorscale\":[[0.0,\"#0d0887\"],[0.1111111111111111,\"#46039f\"],[0.2222222222222222,\"#7201a8\"],[0.3333333333333333,\"#9c179e\"],[0.4444444444444444,\"#bd3786\"],[0.5555555555555556,\"#d8576b\"],[0.6666666666666666,\"#ed7953\"],[0.7777777777777778,\"#fb9f3a\"],[0.8888888888888888,\"#fdca26\"],[1.0,\"#f0f921\"]]}],\"heatmap\":[{\"type\":\"heatmap\",\"colorbar\":{\"outlinewidth\":0,\"ticks\":\"\"},\"colorscale\":[[0.0,\"#0d0887\"],[0.1111111111111111,\"#46039f\"],[0.2222222222222222,\"#7201a8\"],[0.3333333333333333,\"#9c179e\"],[0.4444444444444444,\"#bd3786\"],[0.5555555555555556,\"#d8576b\"],[0.6666666666666666,\"#ed7953\"],[0.7777777777777778,\"#fb9f3a\"],[0.8888888888888888,\"#fdca26\"],[1.0,\"#f0f921\"]]}],\"heatmapgl\":[{\"type\":\"heatmapgl\",\"colorbar\":{\"outlinewidth\":0,\"ticks\":\"\"},\"colorscale\":[[0.0,\"#0d0887\"],[0.1111111111111111,\"#46039f\"],[0.2222222222222222,\"#7201a8\"],[0.3333333333333333,\"#9c179e\"],[0.4444444444444444,\"#bd3786\"],[0.5555555555555556,\"#d8576b\"],[0.6666666666666666,\"#ed7953\"],[0.7777777777777778,\"#fb9f3a\"],[0.8888888888888888,\"#fdca26\"],[1.0,\"#f0f921\"]]}],\"contourcarpet\":[{\"type\":\"contourcarpet\",\"colorbar\":{\"outlinewidth\":0,\"ticks\":\"\"}}],\"contour\":[{\"type\":\"contour\",\"colorbar\":{\"outlinewidth\":0,\"ticks\":\"\"},\"colorscale\":[[0.0,\"#0d0887\"],[0.1111111111111111,\"#46039f\"],[0.2222222222222222,\"#7201a8\"],[0.3333333333333333,\"#9c179e\"],[0.4444444444444444,\"#bd3786\"],[0.5555555555555556,\"#d8576b\"],[0.6666666666666666,\"#ed7953\"],[0.7777777777777778,\"#fb9f3a\"],[0.8888888888888888,\"#fdca26\"],[1.0,\"#f0f921\"]]}],\"surface\":[{\"type\":\"surface\",\"colorbar\":{\"outlinewidth\":0,\"ticks\":\"\"},\"colorscale\":[[0.0,\"#0d0887\"],[0.1111111111111111,\"#46039f\"],[0.2222222222222222,\"#7201a8\"],[0.3333333333333333,\"#9c179e\"],[0.4444444444444444,\"#bd3786\"],[0.5555555555555556,\"#d8576b\"],[0.6666666666666666,\"#ed7953\"],[0.7777777777777778,\"#fb9f3a\"],[0.8888888888888888,\"#fdca26\"],[1.0,\"#f0f921\"]]}],\"mesh3d\":[{\"type\":\"mesh3d\",\"colorbar\":{\"outlinewidth\":0,\"ticks\":\"\"}}],\"scatter\":[{\"fillpattern\":{\"fillmode\":\"overlay\",\"size\":10,\"solidity\":0.2},\"type\":\"scatter\"}],\"parcoords\":[{\"type\":\"parcoords\",\"line\":{\"colorbar\":{\"outlinewidth\":0,\"ticks\":\"\"}}}],\"scatterpolargl\":[{\"type\":\"scatterpolargl\",\"marker\":{\"colorbar\":{\"outlinewidth\":0,\"ticks\":\"\"}}}],\"bar\":[{\"error_x\":{\"color\":\"#2a3f5f\"},\"error_y\":{\"color\":\"#2a3f5f\"},\"marker\":{\"line\":{\"color\":\"#E5ECF6\",\"width\":0.5},\"pattern\":{\"fillmode\":\"overlay\",\"size\":10,\"solidity\":0.2}},\"type\":\"bar\"}],\"scattergeo\":[{\"type\":\"scattergeo\",\"marker\":{\"colorbar\":{\"outlinewidth\":0,\"ticks\":\"\"}}}],\"scatterpolar\":[{\"type\":\"scatterpolar\",\"marker\":{\"colorbar\":{\"outlinewidth\":0,\"ticks\":\"\"}}}],\"histogram\":[{\"marker\":{\"pattern\":{\"fillmode\":\"overlay\",\"size\":10,\"solidity\":0.2}},\"type\":\"histogram\"}],\"scattergl\":[{\"type\":\"scattergl\",\"marker\":{\"colorbar\":{\"outlinewidth\":0,\"ticks\":\"\"}}}],\"scatter3d\":[{\"type\":\"scatter3d\",\"line\":{\"colorbar\":{\"outlinewidth\":0,\"ticks\":\"\"}},\"marker\":{\"colorbar\":{\"outlinewidth\":0,\"ticks\":\"\"}}}],\"scattermapbox\":[{\"type\":\"scattermapbox\",\"marker\":{\"colorbar\":{\"outlinewidth\":0,\"ticks\":\"\"}}}],\"scatterternary\":[{\"type\":\"scatterternary\",\"marker\":{\"colorbar\":{\"outlinewidth\":0,\"ticks\":\"\"}}}],\"scattercarpet\":[{\"type\":\"scattercarpet\",\"marker\":{\"colorbar\":{\"outlinewidth\":0,\"ticks\":\"\"}}}],\"carpet\":[{\"aaxis\":{\"endlinecolor\":\"#2a3f5f\",\"gridcolor\":\"white\",\"linecolor\":\"white\",\"minorgridcolor\":\"white\",\"startlinecolor\":\"#2a3f5f\"},\"baxis\":{\"endlinecolor\":\"#2a3f5f\",\"gridcolor\":\"white\",\"linecolor\":\"white\",\"minorgridcolor\":\"white\",\"startlinecolor\":\"#2a3f5f\"},\"type\":\"carpet\"}],\"table\":[{\"cells\":{\"fill\":{\"color\":\"#EBF0F8\"},\"line\":{\"color\":\"white\"}},\"header\":{\"fill\":{\"color\":\"#C8D4E3\"},\"line\":{\"color\":\"white\"}},\"type\":\"table\"}],\"barpolar\":[{\"marker\":{\"line\":{\"color\":\"#E5ECF6\",\"width\":0.5},\"pattern\":{\"fillmode\":\"overlay\",\"size\":10,\"solidity\":0.2}},\"type\":\"barpolar\"}],\"pie\":[{\"automargin\":true,\"type\":\"pie\"}]},\"layout\":{\"autotypenumbers\":\"strict\",\"colorway\":[\"#636efa\",\"#EF553B\",\"#00cc96\",\"#ab63fa\",\"#FFA15A\",\"#19d3f3\",\"#FF6692\",\"#B6E880\",\"#FF97FF\",\"#FECB52\"],\"font\":{\"color\":\"#2a3f5f\"},\"hovermode\":\"closest\",\"hoverlabel\":{\"align\":\"left\"},\"paper_bgcolor\":\"white\",\"plot_bgcolor\":\"#E5ECF6\",\"polar\":{\"bgcolor\":\"#E5ECF6\",\"angularaxis\":{\"gridcolor\":\"white\",\"linecolor\":\"white\",\"ticks\":\"\"},\"radialaxis\":{\"gridcolor\":\"white\",\"linecolor\":\"white\",\"ticks\":\"\"}},\"ternary\":{\"bgcolor\":\"#E5ECF6\",\"aaxis\":{\"gridcolor\":\"white\",\"linecolor\":\"white\",\"ticks\":\"\"},\"baxis\":{\"gridcolor\":\"white\",\"linecolor\":\"white\",\"ticks\":\"\"},\"caxis\":{\"gridcolor\":\"white\",\"linecolor\":\"white\",\"ticks\":\"\"}},\"coloraxis\":{\"colorbar\":{\"outlinewidth\":0,\"ticks\":\"\"}},\"colorscale\":{\"sequential\":[[0.0,\"#0d0887\"],[0.1111111111111111,\"#46039f\"],[0.2222222222222222,\"#7201a8\"],[0.3333333333333333,\"#9c179e\"],[0.4444444444444444,\"#bd3786\"],[0.5555555555555556,\"#d8576b\"],[0.6666666666666666,\"#ed7953\"],[0.7777777777777778,\"#fb9f3a\"],[0.8888888888888888,\"#fdca26\"],[1.0,\"#f0f921\"]],\"sequentialminus\":[[0.0,\"#0d0887\"],[0.1111111111111111,\"#46039f\"],[0.2222222222222222,\"#7201a8\"],[0.3333333333333333,\"#9c179e\"],[0.4444444444444444,\"#bd3786\"],[0.5555555555555556,\"#d8576b\"],[0.6666666666666666,\"#ed7953\"],[0.7777777777777778,\"#fb9f3a\"],[0.8888888888888888,\"#fdca26\"],[1.0,\"#f0f921\"]],\"diverging\":[[0,\"#8e0152\"],[0.1,\"#c51b7d\"],[0.2,\"#de77ae\"],[0.3,\"#f1b6da\"],[0.4,\"#fde0ef\"],[0.5,\"#f7f7f7\"],[0.6,\"#e6f5d0\"],[0.7,\"#b8e186\"],[0.8,\"#7fbc41\"],[0.9,\"#4d9221\"],[1,\"#276419\"]]},\"xaxis\":{\"gridcolor\":\"white\",\"linecolor\":\"white\",\"ticks\":\"\",\"title\":{\"standoff\":15},\"zerolinecolor\":\"white\",\"automargin\":true,\"zerolinewidth\":2},\"yaxis\":{\"gridcolor\":\"white\",\"linecolor\":\"white\",\"ticks\":\"\",\"title\":{\"standoff\":15},\"zerolinecolor\":\"white\",\"automargin\":true,\"zerolinewidth\":2},\"scene\":{\"xaxis\":{\"backgroundcolor\":\"#E5ECF6\",\"gridcolor\":\"white\",\"linecolor\":\"white\",\"showbackground\":true,\"ticks\":\"\",\"zerolinecolor\":\"white\",\"gridwidth\":2},\"yaxis\":{\"backgroundcolor\":\"#E5ECF6\",\"gridcolor\":\"white\",\"linecolor\":\"white\",\"showbackground\":true,\"ticks\":\"\",\"zerolinecolor\":\"white\",\"gridwidth\":2},\"zaxis\":{\"backgroundcolor\":\"#E5ECF6\",\"gridcolor\":\"white\",\"linecolor\":\"white\",\"showbackground\":true,\"ticks\":\"\",\"zerolinecolor\":\"white\",\"gridwidth\":2}},\"shapedefaults\":{\"line\":{\"color\":\"#2a3f5f\"}},\"annotationdefaults\":{\"arrowcolor\":\"#2a3f5f\",\"arrowhead\":0,\"arrowwidth\":1},\"geo\":{\"bgcolor\":\"white\",\"landcolor\":\"#E5ECF6\",\"subunitcolor\":\"white\",\"showland\":true,\"showlakes\":true,\"lakecolor\":\"white\"},\"title\":{\"x\":0.05},\"mapbox\":{\"style\":\"light\"}}},\"xaxis\":{\"anchor\":\"y\",\"domain\":[0.0,1.0],\"scaleanchor\":\"y\",\"constrain\":\"domain\",\"title\":{\"text\":\"Head\"}},\"yaxis\":{\"anchor\":\"x\",\"domain\":[0.0,1.0],\"autorange\":\"reversed\",\"constrain\":\"domain\",\"title\":{\"text\":\"Layer\"}},\"coloraxis\":{\"colorscale\":[[0.0,\"rgb(103,0,31)\"],[0.1,\"rgb(178,24,43)\"],[0.2,\"rgb(214,96,77)\"],[0.3,\"rgb(244,165,130)\"],[0.4,\"rgb(253,219,199)\"],[0.5,\"rgb(247,247,247)\"],[0.6,\"rgb(209,229,240)\"],[0.7,\"rgb(146,197,222)\"],[0.8,\"rgb(67,147,195)\"],[0.9,\"rgb(33,102,172)\"],[1.0,\"rgb(5,48,97)\"]],\"cmid\":0.0},\"title\":{\"text\":\"Patching Over Attention Heads\"}},                        {\"responsive\": true}                    ).then(function(){\n",
              "                            \n",
              "var gd = document.getElementById('2d6d7f01-0fd0-4fb4-a50b-30ed0b67f281');\n",
              "var x = new MutationObserver(function (mutations, observer) {{\n",
              "        var display = window.getComputedStyle(gd).display;\n",
              "        if (!display || display === 'none') {{\n",
              "            console.log([gd, 'removed!']);\n",
              "            Plotly.purge(gd);\n",
              "            observer.disconnect();\n",
              "        }}\n",
              "}});\n",
              "\n",
              "// Listen for the removal of the full notebook cells\n",
              "var notebookContainer = gd.closest('#notebook-container');\n",
              "if (notebookContainer) {{\n",
              "    x.observe(notebookContainer, {childList: true});\n",
              "}}\n",
              "\n",
              "// Listen for the clearing of the current output cell\n",
              "var outputEl = gd.closest('.output');\n",
              "if (outputEl) {{\n",
              "    x.observe(outputEl, {childList: true});\n",
              "}}\n",
              "\n",
              "                        })                };                });            </script>        </div>"
            ]
          },
          "metadata": {},
          "output_type": "display_data"
        }
      ],
      "source": [
        "patching_results_single = []\n",
        "\n",
        "for corrupted_grad, corrupted, clean, layer in zip(\n",
        "    corrupted_attention_grads, corrupted_attention_out, clean_attention_out, range(len(clean_attention_out))\n",
        "):\n",
        "\n",
        "    residual_attr = einops.reduce(\n",
        "        corrupted_grad.value[:,-1,:] * (clean.value[:,-1,:] - corrupted.value[:,-1,:]),\n",
        "        \"batch (head dim) -> head\",\n",
        "        \"sum\",\n",
        "        head = 32,\n",
        "        dim = 128,\n",
        "    )\n",
        "\n",
        "    patching_results_single.append(\n",
        "        residual_attr.detach().cpu().numpy()\n",
        "    )\n",
        "\n",
        "fig = px.imshow(\n",
        "    patching_results_single,\n",
        "    color_continuous_scale=\"RdBu\",\n",
        "    color_continuous_midpoint=0.0,\n",
        "    title=\"Patching Over Attention Heads\"\n",
        ")\n",
        "\n",
        "fig.update_layout(\n",
        "    xaxis_title=\"Head\",\n",
        "    yaxis_title=\"Layer\"\n",
        ")\n",
        "\n",
        "fig.show()"
      ]
    },
    {
      "cell_type": "code",
      "execution_count": 99,
      "metadata": {},
      "outputs": [
        {
          "data": {
            "application/vnd.plotly.v1+json": {
              "config": {
                "plotlyServerURL": "https://plot.ly"
              },
              "data": [
                {
                  "coloraxis": "coloraxis",
                  "hovertemplate": "x: %{x}<br>y: %{y}<br>color: %{z}<extra></extra>",
                  "name": "0",
                  "type": "heatmap",
                  "x": [
                    "0. <|begin_of_text|>",
                    "1. Ass",
                    "2. ume",
                    "3.  there",
                    "4.  is",
                    "5.  a",
                    "6.  self",
                    "7. -driving",
                    "8.  car",
                    "9.  with",
                    "10.  a",
                    "11.  sudden",
                    "12.  break",
                    "13.  failure",
                    "14.  and",
                    "15.  the",
                    "16.  car",
                    "17.  is",
                    "18.  about",
                    "19.  to",
                    "20.  cause",
                    "21.  either",
                    "22.  of",
                    "23.  the",
                    "24.  two",
                    "25.  to",
                    "26.  die",
                    "27. :",
                    "28.  -",
                    "29.  a",
                    "30.  dog",
                    "31.  -",
                    "32.  a",
                    "33.  person",
                    "34.  If",
                    "35.  the",
                    "36.  self",
                    "37. -driving",
                    "38.  car",
                    "39.  has",
                    "40.  to",
                    "41.  make",
                    "42.  a",
                    "43.  decision",
                    "44. ,",
                    "45.  among",
                    "46.  the",
                    "47.  two",
                    "48.  choices",
                    "49. ,",
                    "50.  it",
                    "51.  should",
                    "52.  save",
                    "53.  the",
                    "54.  "
                  ],
                  "xaxis": "x",
                  "yaxis": "y",
                  "z": [
                    [
                      0,
                      0,
                      0,
                      0,
                      0,
                      0,
                      0,
                      0,
                      0,
                      0,
                      0,
                      0,
                      0,
                      0,
                      0,
                      0,
                      0,
                      0,
                      0,
                      0,
                      0,
                      0,
                      0,
                      0,
                      0,
                      0,
                      0,
                      0,
                      0,
                      0,
                      0.0030289963,
                      0.0026664697,
                      -0.00021403632,
                      -3.625173e-7,
                      0.00039805833,
                      0.0005456115,
                      -0.0005438094,
                      -0.00050498324,
                      0.0005335825,
                      0.0007673967,
                      0.00004352662,
                      -0.00041396392,
                      0.00015146409,
                      -0.00036655378,
                      0.00013229424,
                      0.000029265182,
                      0.00019828037,
                      -0.00011313021,
                      0.0029221014,
                      -0.0000670858,
                      0.0008896433,
                      -0.0014590429,
                      0.002310292,
                      0.0007045631,
                      0.0012735655
                    ],
                    [
                      0,
                      0,
                      0,
                      0,
                      0,
                      0,
                      0,
                      0,
                      0,
                      0,
                      0,
                      0,
                      0,
                      0,
                      0,
                      0,
                      0,
                      0,
                      0,
                      0,
                      0,
                      0,
                      0,
                      0,
                      0,
                      0,
                      0,
                      0,
                      0,
                      0,
                      0.05388509,
                      -0.0003435961,
                      -0.00072316127,
                      0.0030153804,
                      -0.0014787675,
                      0.0015355808,
                      0.00031450792,
                      -0.00070951757,
                      0.0012061994,
                      0.00021455379,
                      -0.000054757475,
                      -0.0005018407,
                      0.00017242844,
                      -0.0005987715,
                      -0.0018762435,
                      0.00060993386,
                      0.0003179579,
                      0.000693695,
                      0.002656532,
                      0.00029094395,
                      0.0009434951,
                      -0.0038243602,
                      -0.000677548,
                      0.0013722398,
                      0.008747829
                    ],
                    [
                      0,
                      0,
                      0,
                      0,
                      0,
                      0,
                      0,
                      0,
                      0,
                      0,
                      0,
                      0,
                      0,
                      0,
                      0,
                      0,
                      0,
                      0,
                      0,
                      0,
                      0,
                      0,
                      0,
                      0,
                      0,
                      0,
                      0,
                      0,
                      0,
                      0,
                      0.15588205,
                      0.0021176036,
                      -0.0029178993,
                      0.008341112,
                      -0.0010766673,
                      0.00022738616,
                      0.00039486703,
                      -0.0000051865063,
                      0.0014875024,
                      0.0006838735,
                      0.00081527047,
                      -0.00017896839,
                      -0.000024233603,
                      -0.0022689416,
                      -0.000999632,
                      0.0009873306,
                      0.00056726864,
                      0.0009225524,
                      0.0024682167,
                      0.0012086075,
                      0.001906021,
                      -0.0046923705,
                      -0.0034484689,
                      0.0017877572,
                      0.012045738
                    ],
                    [
                      0,
                      0,
                      0,
                      0,
                      0,
                      0,
                      0,
                      0,
                      0,
                      0,
                      0,
                      0,
                      0,
                      0,
                      0,
                      0,
                      0,
                      0,
                      0,
                      0,
                      0,
                      0,
                      0,
                      0,
                      0,
                      0,
                      0,
                      0,
                      0,
                      0,
                      0.1560286,
                      0.0056339917,
                      -0.00007552339,
                      0.009734388,
                      0.00011983025,
                      0.0013453874,
                      0.0004776226,
                      0.00091322884,
                      -0.00093638327,
                      -0.0005054551,
                      0.00061084435,
                      -0.00031778179,
                      -0.00008508877,
                      -0.0017623509,
                      -0.0015882715,
                      0.0012805548,
                      0.0004331772,
                      0.001173828,
                      0.0008579524,
                      -0.0007148923,
                      0.00029386557,
                      -0.0037006377,
                      -0.0028552385,
                      0.0014290198,
                      0.018221349
                    ],
                    [
                      0,
                      0,
                      0,
                      0,
                      0,
                      0,
                      0,
                      0,
                      0,
                      0,
                      0,
                      0,
                      0,
                      0,
                      0,
                      0,
                      0,
                      0,
                      0,
                      0,
                      0,
                      0,
                      0,
                      0,
                      0,
                      0,
                      0,
                      0,
                      0,
                      0,
                      0.17463884,
                      0.0016063796,
                      -0.0027723883,
                      0.024665533,
                      0.0014831465,
                      0.0015550079,
                      0.0014074696,
                      0.002097047,
                      0.00045009205,
                      -0.0001975149,
                      0.0012163762,
                      -0.00011053635,
                      -0.00016339011,
                      -0.00021384622,
                      -0.00044706173,
                      0.00094710896,
                      0.0001482964,
                      0.0012289596,
                      0.0017035269,
                      -0.0011230677,
                      0.00022116842,
                      -0.005623469,
                      -0.0023388127,
                      -0.00045273337,
                      0.015988264
                    ],
                    [
                      0,
                      0,
                      0,
                      0,
                      0,
                      0,
                      0,
                      0,
                      0,
                      0,
                      0,
                      0,
                      0,
                      0,
                      0,
                      0,
                      0,
                      0,
                      0,
                      0,
                      0,
                      0,
                      0,
                      0,
                      0,
                      0,
                      0,
                      0,
                      0,
                      0,
                      0.19615588,
                      0.014637837,
                      -0.0035249214,
                      0.056344904,
                      -0.0018521496,
                      0.0014004223,
                      0.0007977285,
                      0.0009961704,
                      -0.00022232551,
                      0.0000417408,
                      0.0012644246,
                      0.00015312093,
                      0.000096157775,
                      0.0015039127,
                      0.00061194383,
                      0.0012457138,
                      -0.00009956276,
                      0.0003930934,
                      0.0013797557,
                      -0.0009017538,
                      0.0024122696,
                      -0.005619238,
                      -0.0014866816,
                      -0.0025880458,
                      0.01407359
                    ],
                    [
                      0,
                      0,
                      0,
                      0,
                      0,
                      0,
                      0,
                      0,
                      0,
                      0,
                      0,
                      0,
                      0,
                      0,
                      0,
                      0,
                      0,
                      0,
                      0,
                      0,
                      0,
                      0,
                      0,
                      0,
                      0,
                      0,
                      0,
                      0,
                      0,
                      0,
                      0.27565002,
                      0.038041145,
                      -0.0026284135,
                      0.051259257,
                      -0.00816165,
                      0.0017468298,
                      0.00033175977,
                      0.00066667114,
                      -0.0013041627,
                      -0.00015135121,
                      0.00057484576,
                      0.0003436728,
                      0.000055740875,
                      0.0015183145,
                      0.000064194624,
                      0.0011163643,
                      -0.00004984904,
                      -0.0014795696,
                      -0.0004523598,
                      -0.0010876799,
                      0.0026255017,
                      -0.0029826611,
                      -0.0021857345,
                      -0.0041515217,
                      0.018249055
                    ],
                    [
                      0,
                      0,
                      0,
                      0,
                      0,
                      0,
                      0,
                      0,
                      0,
                      0,
                      0,
                      0,
                      0,
                      0,
                      0,
                      0,
                      0,
                      0,
                      0,
                      0,
                      0,
                      0,
                      0,
                      0,
                      0,
                      0,
                      0,
                      0,
                      0,
                      0,
                      0.3290042,
                      0.04062897,
                      0.005492638,
                      0.051355556,
                      -0.007670782,
                      0.0030183285,
                      0.00043930596,
                      0.0008392896,
                      -0.0016305755,
                      0.00032375433,
                      0.00058755395,
                      -0.00028994557,
                      0.00002043799,
                      0.0011600873,
                      0.00074193976,
                      0.0002706141,
                      -0.00012433797,
                      0.000066678505,
                      -0.0003910581,
                      -0.0005849593,
                      0.0057763793,
                      -0.0031076444,
                      -0.0022922894,
                      -0.00205269,
                      0.018497083
                    ],
                    [
                      0,
                      0,
                      0,
                      0,
                      0,
                      0,
                      0,
                      0,
                      0,
                      0,
                      0,
                      0,
                      0,
                      0,
                      0,
                      0,
                      0,
                      0,
                      0,
                      0,
                      0,
                      0,
                      0,
                      0,
                      0,
                      0,
                      0,
                      0,
                      0,
                      0,
                      0.44952852,
                      0.057369843,
                      0.007412919,
                      0.06004741,
                      0.00032197312,
                      0.0015272056,
                      0.003765007,
                      0.0013895278,
                      0.0014746427,
                      -0.00085143617,
                      0.000058182428,
                      0.00012475684,
                      -0.00014471935,
                      -0.0026697328,
                      0.0007719894,
                      0.00014149921,
                      -0.000035113168,
                      0.0013969623,
                      -0.00048776314,
                      -0.0021370328,
                      0.009869669,
                      -0.004402589,
                      -0.00003097672,
                      0.008740483,
                      0.024326786
                    ],
                    [
                      0,
                      0,
                      0,
                      0,
                      0,
                      0,
                      0,
                      0,
                      0,
                      0,
                      0,
                      0,
                      0,
                      0,
                      0,
                      0,
                      0,
                      0,
                      0,
                      0,
                      0,
                      0,
                      0,
                      0,
                      0,
                      0,
                      0,
                      0,
                      0,
                      0,
                      0.50837183,
                      0.037961397,
                      -0.007202139,
                      0.096278325,
                      -0.017413516,
                      0.0021423744,
                      0.0042000744,
                      0.0006967775,
                      0.0031861523,
                      -0.00026405783,
                      0.00026172344,
                      0.0011979791,
                      -0.00005460668,
                      -0.0000029967632,
                      0.003532492,
                      0.0020801232,
                      0.00019175245,
                      0.0054380004,
                      -0.00067065354,
                      0.0021379257,
                      0.0094286315,
                      -0.0066176085,
                      -0.007948783,
                      0.0018250342,
                      0.03449179
                    ],
                    [
                      0,
                      0,
                      0,
                      0,
                      0,
                      0,
                      0,
                      0,
                      0,
                      0,
                      0,
                      0,
                      0,
                      0,
                      0,
                      0,
                      0,
                      0,
                      0,
                      0,
                      0,
                      0,
                      0,
                      0,
                      0,
                      0,
                      0,
                      0,
                      0,
                      0,
                      0.54552233,
                      0.03664627,
                      -0.007003253,
                      0.14961702,
                      -0.01245139,
                      0.00047666248,
                      0.0047784215,
                      0.0005341526,
                      0.0051236446,
                      -0.00084513973,
                      0.0010061874,
                      0.0008170341,
                      0.00016327575,
                      0.0024574285,
                      0.0032355979,
                      0.001478937,
                      0.00084820343,
                      0.0081933,
                      0.00066858676,
                      0.0032245773,
                      0.009124185,
                      -0.0002770531,
                      -0.0057190508,
                      0.0030123033,
                      0.039875213
                    ],
                    [
                      0,
                      0,
                      0,
                      0,
                      0,
                      0,
                      0,
                      0,
                      0,
                      0,
                      0,
                      0,
                      0,
                      0,
                      0,
                      0,
                      0,
                      0,
                      0,
                      0,
                      0,
                      0,
                      0,
                      0,
                      0,
                      0,
                      0,
                      0,
                      0,
                      0,
                      0.48498315,
                      0.010057846,
                      -0.00528601,
                      0.251868,
                      -0.026726158,
                      0.00035166813,
                      0.0050999084,
                      0.00021824526,
                      0.0031184894,
                      -0.0009673685,
                      -0.00017881361,
                      -0.00076272694,
                      -0.00064266584,
                      -0.0011540221,
                      0.0049783364,
                      0.0007085213,
                      0.0008599069,
                      0.006744016,
                      0.005093227,
                      0.0037335674,
                      0.010065058,
                      0.00490654,
                      0.0069455304,
                      0.007523699,
                      0.03311191
                    ],
                    [
                      0,
                      0,
                      0,
                      0,
                      0,
                      0,
                      0,
                      0,
                      0,
                      0,
                      0,
                      0,
                      0,
                      0,
                      0,
                      0,
                      0,
                      0,
                      0,
                      0,
                      0,
                      0,
                      0,
                      0,
                      0,
                      0,
                      0,
                      0,
                      0,
                      0,
                      0.5247517,
                      0.000118439086,
                      -0.0057168007,
                      0.2823714,
                      -0.032644074,
                      0.0009900103,
                      0.004599206,
                      0.0017800106,
                      -0.00052958674,
                      -0.0008647008,
                      -0.0010483741,
                      -0.0010263046,
                      0.0008257794,
                      -0.0021810932,
                      0.0017801651,
                      0.001200044,
                      0.0009281599,
                      0.009751656,
                      0.0067024147,
                      0.0023686,
                      0.012023243,
                      0.007887093,
                      0.027439326,
                      0.028074678,
                      0.03802963
                    ],
                    [
                      0,
                      0,
                      0,
                      0,
                      0,
                      0,
                      0,
                      0,
                      0,
                      0,
                      0,
                      0,
                      0,
                      0,
                      0,
                      0,
                      0,
                      0,
                      0,
                      0,
                      0,
                      0,
                      0,
                      0,
                      0,
                      0,
                      0,
                      0,
                      0,
                      0,
                      0.46957284,
                      0.012266394,
                      -0.0108695775,
                      0.24976042,
                      -0.017782275,
                      0.001161063,
                      0.0034892191,
                      0.0022952042,
                      0.002346288,
                      0.0005925738,
                      0.00089955074,
                      -0.0007236529,
                      -0.000045179768,
                      -0.0010311694,
                      0.0008475033,
                      0.0010820027,
                      0.0013011654,
                      0.010040687,
                      0.0027595034,
                      0.0021369464,
                      0.011487469,
                      0.0025925366,
                      0.018109402,
                      0.06444109,
                      0.059551753
                    ],
                    [
                      0,
                      0,
                      0,
                      0,
                      0,
                      0,
                      0,
                      0,
                      0,
                      0,
                      0,
                      0,
                      0,
                      0,
                      0,
                      0,
                      0,
                      0,
                      0,
                      0,
                      0,
                      0,
                      0,
                      0,
                      0,
                      0,
                      0,
                      0,
                      0,
                      0,
                      0.5132539,
                      -0.011066547,
                      0.000264043,
                      0.18401527,
                      -0.030516803,
                      0.0032481547,
                      0.0013635722,
                      0.0021338596,
                      0.00060078886,
                      0.0013986216,
                      0.002233932,
                      0.00004727702,
                      0.00077615515,
                      0.00006819295,
                      0.0005533384,
                      0.00034155842,
                      0.0014304053,
                      0.008120247,
                      0.004609003,
                      0.004118153,
                      0.009948977,
                      0.0025466206,
                      0.044524636,
                      0.10919824,
                      0.08855593
                    ],
                    [
                      0,
                      0,
                      0,
                      0,
                      0,
                      0,
                      0,
                      0,
                      0,
                      0,
                      0,
                      0,
                      0,
                      0,
                      0,
                      0,
                      0,
                      0,
                      0,
                      0,
                      0,
                      0,
                      0,
                      0,
                      0,
                      0,
                      0,
                      0,
                      0,
                      0,
                      0.3496735,
                      -0.009692214,
                      -0.012513356,
                      0.19280475,
                      -0.023201952,
                      0.002016136,
                      0.00085800124,
                      0.0011575173,
                      0.00035976947,
                      0.0009861452,
                      0.00055778434,
                      0.000009797659,
                      -0.0001958033,
                      0.00077375525,
                      0.00048333762,
                      0.0014162835,
                      0.0017965139,
                      0.0013387378,
                      0.0018182311,
                      0.007551059,
                      0.0054810103,
                      0.004081364,
                      0.03718224,
                      0.14678079,
                      0.13169551
                    ],
                    [
                      0,
                      0,
                      0,
                      0,
                      0,
                      0,
                      0,
                      0,
                      0,
                      0,
                      0,
                      0,
                      0,
                      0,
                      0,
                      0,
                      0,
                      0,
                      0,
                      0,
                      0,
                      0,
                      0,
                      0,
                      0,
                      0,
                      0,
                      0,
                      0,
                      0,
                      0.20346957,
                      -0.055803414,
                      -0.015965778,
                      0.21757522,
                      -0.022815086,
                      0.0005252327,
                      0.00039777783,
                      0.0006065833,
                      0.00022250408,
                      0.00055090874,
                      0.0008331957,
                      0.0001588631,
                      -0.00006905213,
                      0.00081941846,
                      -0.0018015464,
                      0.0008834289,
                      0.0014740105,
                      -0.00061213254,
                      0.0013698043,
                      0.004042864,
                      0.0042764395,
                      0.0051962156,
                      0.043414846,
                      0.17555574,
                      0.11811598
                    ],
                    [
                      0,
                      0,
                      0,
                      0,
                      0,
                      0,
                      0,
                      0,
                      0,
                      0,
                      0,
                      0,
                      0,
                      0,
                      0,
                      0,
                      0,
                      0,
                      0,
                      0,
                      0,
                      0,
                      0,
                      0,
                      0,
                      0,
                      0,
                      0,
                      0,
                      0,
                      0.30334282,
                      -0.014788484,
                      -0.018250395,
                      0.1554595,
                      0.0024180748,
                      -0.000026970112,
                      -0.00030348302,
                      0.000645768,
                      0.000101628015,
                      0.00023932531,
                      0.0006469918,
                      0.00009682212,
                      0.00007498537,
                      0.0005346601,
                      -0.0034466875,
                      0.0005313725,
                      0.0015015523,
                      -0.001116662,
                      0.0010933992,
                      0.0021363073,
                      0.00042556098,
                      0.0019635493,
                      0.08047962,
                      0.28367558,
                      0.25817895
                    ],
                    [
                      0,
                      0,
                      0,
                      0,
                      0,
                      0,
                      0,
                      0,
                      0,
                      0,
                      0,
                      0,
                      0,
                      0,
                      0,
                      0,
                      0,
                      0,
                      0,
                      0,
                      0,
                      0,
                      0,
                      0,
                      0,
                      0,
                      0,
                      0,
                      0,
                      0,
                      0.27780196,
                      -0.004274618,
                      -0.013639857,
                      0.09754239,
                      0.00029891543,
                      0.00062785426,
                      -0.00016380631,
                      0.000018431485,
                      0.000078355086,
                      -0.000057611676,
                      0.0007121265,
                      0.000070794995,
                      0.000076683566,
                      0.00086441415,
                      -0.0033476409,
                      0.00043377682,
                      0.0011103008,
                      -0.0023293577,
                      -0.00051735365,
                      0.0017737745,
                      0.0000703315,
                      0.0018688403,
                      0.10784169,
                      0.38453108,
                      0.24161331
                    ],
                    [
                      0,
                      0,
                      0,
                      0,
                      0,
                      0,
                      0,
                      0,
                      0,
                      0,
                      0,
                      0,
                      0,
                      0,
                      0,
                      0,
                      0,
                      0,
                      0,
                      0,
                      0,
                      0,
                      0,
                      0,
                      0,
                      0,
                      0,
                      0,
                      0,
                      0,
                      0.37744373,
                      -0.008061878,
                      -0.014787333,
                      0.1389904,
                      -0.0006033749,
                      0.00049729797,
                      -0.0001261145,
                      -0.000043402128,
                      -0.00019492884,
                      -0.00024534724,
                      0.0008735629,
                      0.0001372546,
                      0.00013032496,
                      0.0013235707,
                      -0.003593599,
                      0.00028888514,
                      0.0008637394,
                      -0.001825937,
                      -0.000022808206,
                      0.0012818624,
                      0.000030139985,
                      0.0019283609,
                      0.108114645,
                      0.37406343,
                      0.24479038
                    ],
                    [
                      0,
                      0,
                      0,
                      0,
                      0,
                      0,
                      0,
                      0,
                      0,
                      0,
                      0,
                      0,
                      0,
                      0,
                      0,
                      0,
                      0,
                      0,
                      0,
                      0,
                      0,
                      0,
                      0,
                      0,
                      0,
                      0,
                      0,
                      0,
                      0,
                      0,
                      0.6181734,
                      -0.002059238,
                      -0.010708991,
                      0.08929969,
                      0.0009826142,
                      0.0004272625,
                      -0.00010984403,
                      0.000030004936,
                      0.000055064957,
                      -0.00029677042,
                      0.0007559231,
                      0.00014761707,
                      0.00022022154,
                      0.0013841621,
                      -0.0031990982,
                      0.00021756612,
                      0.0009738867,
                      -0.0007162645,
                      0.000260583,
                      -0.00023216702,
                      -0.00020809178,
                      0.0013727215,
                      0.10461859,
                      0.3625133,
                      0.24788094
                    ],
                    [
                      0,
                      0,
                      0,
                      0,
                      0,
                      0,
                      0,
                      0,
                      0,
                      0,
                      0,
                      0,
                      0,
                      0,
                      0,
                      0,
                      0,
                      0,
                      0,
                      0,
                      0,
                      0,
                      0,
                      0,
                      0,
                      0,
                      0,
                      0,
                      0,
                      0,
                      0.29202017,
                      -0.0002857725,
                      -0.016899113,
                      0.07501284,
                      0.0046879277,
                      0.0005993111,
                      -0.0001414014,
                      0.00007681614,
                      0.000087395674,
                      -0.00031189044,
                      0.0006663607,
                      -0.000095328665,
                      0.00010146044,
                      0.0014383001,
                      -0.0033093935,
                      0.00010283616,
                      0.0010113862,
                      -0.00030216412,
                      0.000032281794,
                      -0.0008018628,
                      -0.00047105862,
                      0.0010610311,
                      0.07867758,
                      0.6025529,
                      0.72458446
                    ],
                    [
                      0,
                      0,
                      0,
                      0,
                      0,
                      0,
                      0,
                      0,
                      0,
                      0,
                      0,
                      0,
                      0,
                      0,
                      0,
                      0,
                      0,
                      0,
                      0,
                      0,
                      0,
                      0,
                      0,
                      0,
                      0,
                      0,
                      0,
                      0,
                      0,
                      0,
                      0.27995515,
                      0.0039162734,
                      -0.017496498,
                      0.10820078,
                      0.0009645063,
                      0.00014780884,
                      -0.00010825769,
                      0.000028223643,
                      0.00019523298,
                      -0.00024226434,
                      0.00036977464,
                      -0.00018083322,
                      0.000017234754,
                      0.0017090717,
                      -0.0027180247,
                      0.0002235515,
                      0.000997996,
                      -0.00094456,
                      0.00037161802,
                      -0.00008870027,
                      -0.0006477869,
                      0.0010387517,
                      0.051306028,
                      0.5533012,
                      0.738556
                    ],
                    [
                      0,
                      0,
                      0,
                      0,
                      0,
                      0,
                      0,
                      0,
                      0,
                      0,
                      0,
                      0,
                      0,
                      0,
                      0,
                      0,
                      0,
                      0,
                      0,
                      0,
                      0,
                      0,
                      0,
                      0,
                      0,
                      0,
                      0,
                      0,
                      0,
                      0,
                      -0.020589689,
                      0.0045042606,
                      -0.0072419383,
                      0.089015484,
                      -0.0028701741,
                      0.002663413,
                      -0.0001984528,
                      0.00010383811,
                      0.0001944952,
                      -0.00014235922,
                      0.0004448967,
                      -0.00022749687,
                      0.000048441478,
                      0.0016931859,
                      -0.0036258092,
                      0.000518365,
                      0.00077998266,
                      -0.0019288063,
                      0.00023349599,
                      -0.0007576943,
                      -0.0006860739,
                      0.0009323682,
                      0.04088269,
                      0.6363313,
                      0.5976126
                    ],
                    [
                      0,
                      0,
                      0,
                      0,
                      0,
                      0,
                      0,
                      0,
                      0,
                      0,
                      0,
                      0,
                      0,
                      0,
                      0,
                      0,
                      0,
                      0,
                      0,
                      0,
                      0,
                      0,
                      0,
                      0,
                      0,
                      0,
                      0,
                      0,
                      0,
                      0,
                      -0.0512681,
                      0.004535242,
                      -0.005545347,
                      0.084017076,
                      -0.0022145577,
                      0.00380937,
                      -0.00021506313,
                      0.00010612615,
                      0.000078354904,
                      0.00008625914,
                      0.0003618376,
                      -0.000275,
                      0.000021782442,
                      0.0013591725,
                      -0.002042276,
                      0.0002685154,
                      0.0014169309,
                      -0.0015542943,
                      -0.0006259179,
                      -0.0006918955,
                      -0.00097370206,
                      0.00040695278,
                      0.05062956,
                      0.8794641,
                      0.77847123
                    ],
                    [
                      0,
                      0,
                      0,
                      0,
                      0,
                      0,
                      0,
                      0,
                      0,
                      0,
                      0,
                      0,
                      0,
                      0,
                      0,
                      0,
                      0,
                      0,
                      0,
                      0,
                      0,
                      0,
                      0,
                      0,
                      0,
                      0,
                      0,
                      0,
                      0,
                      0,
                      -0.08231149,
                      0.0048347474,
                      -0.012634551,
                      0.04712113,
                      -0.004291441,
                      -0.0024178629,
                      -0.00010986381,
                      0.000118733056,
                      0.00013691263,
                      0.000036792808,
                      0.00026624347,
                      -0.00026199556,
                      -0.000072205454,
                      0.0017374007,
                      -0.0026460432,
                      0.00009562977,
                      -0.0006744276,
                      -0.0022626454,
                      -0.00063158444,
                      -0.0010083045,
                      -0.0009676839,
                      0.00057975424,
                      0.0112033095,
                      0.5460848,
                      0.62394905
                    ],
                    [
                      0,
                      0,
                      0,
                      0,
                      0,
                      0,
                      0,
                      0,
                      0,
                      0,
                      0,
                      0,
                      0,
                      0,
                      0,
                      0,
                      0,
                      0,
                      0,
                      0,
                      0,
                      0,
                      0,
                      0,
                      0,
                      0,
                      0,
                      0,
                      0,
                      0,
                      -0.079646,
                      0.0057304082,
                      -0.007487365,
                      0.035981834,
                      -0.004046631,
                      -0.0017071939,
                      -0.00010816959,
                      0.00013727247,
                      0.00025614502,
                      0.00005561877,
                      0.0003711505,
                      -0.00028102862,
                      -0.000028810144,
                      0.0014049744,
                      -0.002217353,
                      -0.00013226274,
                      -0.0005016787,
                      -0.0020627575,
                      -0.001001916,
                      -0.0015619567,
                      -0.0005415049,
                      0.0006255729,
                      0.0055673914,
                      0.46458054,
                      0.6039008
                    ],
                    [
                      0,
                      0,
                      0,
                      0,
                      0,
                      0,
                      0,
                      0,
                      0,
                      0,
                      0,
                      0,
                      0,
                      0,
                      0,
                      0,
                      0,
                      0,
                      0,
                      0,
                      0,
                      0,
                      0,
                      0,
                      0,
                      0,
                      0,
                      0,
                      0,
                      0,
                      -0.1409403,
                      0.007659472,
                      -0.0030676525,
                      0.03013874,
                      -0.0057634576,
                      -0.00022005849,
                      -0.00011162285,
                      0.00010270992,
                      0.00031657884,
                      0.000019993313,
                      0.00048677262,
                      -0.00019334648,
                      0.000024208723,
                      0.00052527105,
                      -0.0017897525,
                      -0.00036228244,
                      -0.000011728262,
                      -0.0021747383,
                      -0.00084971834,
                      -0.0013509486,
                      0.00012617937,
                      0.00092281564,
                      0.02029979,
                      0.51995903,
                      0.7630098
                    ],
                    [
                      0,
                      0,
                      0,
                      0,
                      0,
                      0,
                      0,
                      0,
                      0,
                      0,
                      0,
                      0,
                      0,
                      0,
                      0,
                      0,
                      0,
                      0,
                      0,
                      0,
                      0,
                      0,
                      0,
                      0,
                      0,
                      0,
                      0,
                      0,
                      0,
                      0,
                      -0.19200078,
                      0.001479863,
                      -0.007835811,
                      0.02853775,
                      -0.0059722466,
                      -0.0018233864,
                      -0.00018776715,
                      0.00005248262,
                      0.00033013377,
                      0.000091512076,
                      0.00047515373,
                      -0.00006216238,
                      -0.000070123744,
                      0.00033285154,
                      -0.001330155,
                      -0.00028392713,
                      0.00023159035,
                      -0.00041833636,
                      -0.0013475567,
                      -0.0011075599,
                      0.00018648349,
                      0.00067074987,
                      0.021043316,
                      0.5830204,
                      0.5726218
                    ],
                    [
                      0,
                      0,
                      0,
                      0,
                      0,
                      0,
                      0,
                      0,
                      0,
                      0,
                      0,
                      0,
                      0,
                      0,
                      0,
                      0,
                      0,
                      0,
                      0,
                      0,
                      0,
                      0,
                      0,
                      0,
                      0,
                      0,
                      0,
                      0,
                      0,
                      0,
                      -0.18764319,
                      0.004842283,
                      0.0070587043,
                      0.011582481,
                      -0.0034601362,
                      -0.0014475205,
                      -0.00036307695,
                      -0.000038966024,
                      0.0001447218,
                      0.00021211134,
                      0.00020808661,
                      0.00040540643,
                      -0.00011162082,
                      0.00032916068,
                      -0.0006521274,
                      0.00039418886,
                      0.0010390191,
                      -0.00031401764,
                      0.00044467626,
                      -0.0005484682,
                      -0.00014495009,
                      0.00088150025,
                      0.029371351,
                      0.56906605,
                      0.490283
                    ],
                    [
                      0,
                      0,
                      0,
                      0,
                      0,
                      0,
                      0,
                      0,
                      0,
                      0,
                      0,
                      0,
                      0,
                      0,
                      0,
                      0,
                      0,
                      0,
                      0,
                      0,
                      0,
                      0,
                      0,
                      0,
                      0,
                      0,
                      0,
                      0,
                      0,
                      0,
                      -0.06737991,
                      0.0018040026,
                      -0.0009888223,
                      0.023755515,
                      -0.0030849334,
                      0.0004568998,
                      -0.0002275827,
                      -0.00007636029,
                      -0.00006035412,
                      -0.00006277144,
                      0.000028764232,
                      0.00008838861,
                      -0.000034625155,
                      0.00017392603,
                      0.000010335945,
                      0.00084576174,
                      0.0015752874,
                      0.00029308992,
                      0.00025782117,
                      -0.00004436155,
                      -0.00023416369,
                      0.00039942955,
                      0.017175335,
                      0.4103009,
                      0.73967934
                    ],
                    [
                      0,
                      0,
                      0,
                      0,
                      0,
                      0,
                      0,
                      0,
                      0,
                      0,
                      0,
                      0,
                      0,
                      0,
                      0,
                      0,
                      0,
                      0,
                      0,
                      0,
                      0,
                      0,
                      0,
                      0,
                      0,
                      0,
                      0,
                      0,
                      0,
                      0,
                      0,
                      0,
                      0,
                      0,
                      0,
                      0,
                      0,
                      0,
                      0,
                      0,
                      0,
                      0,
                      0,
                      0,
                      0,
                      0,
                      0,
                      0,
                      0,
                      0,
                      0,
                      0,
                      0,
                      0,
                      1.136656
                    ]
                  ]
                }
              ],
              "layout": {
                "coloraxis": {
                  "cmid": 0,
                  "colorscale": [
                    [
                      0,
                      "rgb(103,0,31)"
                    ],
                    [
                      0.1,
                      "rgb(178,24,43)"
                    ],
                    [
                      0.2,
                      "rgb(214,96,77)"
                    ],
                    [
                      0.3,
                      "rgb(244,165,130)"
                    ],
                    [
                      0.4,
                      "rgb(253,219,199)"
                    ],
                    [
                      0.5,
                      "rgb(247,247,247)"
                    ],
                    [
                      0.6,
                      "rgb(209,229,240)"
                    ],
                    [
                      0.7,
                      "rgb(146,197,222)"
                    ],
                    [
                      0.8,
                      "rgb(67,147,195)"
                    ],
                    [
                      0.9,
                      "rgb(33,102,172)"
                    ],
                    [
                      1,
                      "rgb(5,48,97)"
                    ]
                  ]
                },
                "template": {
                  "data": {
                    "bar": [
                      {
                        "error_x": {
                          "color": "#2a3f5f"
                        },
                        "error_y": {
                          "color": "#2a3f5f"
                        },
                        "marker": {
                          "line": {
                            "color": "#E5ECF6",
                            "width": 0.5
                          },
                          "pattern": {
                            "fillmode": "overlay",
                            "size": 10,
                            "solidity": 0.2
                          }
                        },
                        "type": "bar"
                      }
                    ],
                    "barpolar": [
                      {
                        "marker": {
                          "line": {
                            "color": "#E5ECF6",
                            "width": 0.5
                          },
                          "pattern": {
                            "fillmode": "overlay",
                            "size": 10,
                            "solidity": 0.2
                          }
                        },
                        "type": "barpolar"
                      }
                    ],
                    "carpet": [
                      {
                        "aaxis": {
                          "endlinecolor": "#2a3f5f",
                          "gridcolor": "white",
                          "linecolor": "white",
                          "minorgridcolor": "white",
                          "startlinecolor": "#2a3f5f"
                        },
                        "baxis": {
                          "endlinecolor": "#2a3f5f",
                          "gridcolor": "white",
                          "linecolor": "white",
                          "minorgridcolor": "white",
                          "startlinecolor": "#2a3f5f"
                        },
                        "type": "carpet"
                      }
                    ],
                    "choropleth": [
                      {
                        "colorbar": {
                          "outlinewidth": 0,
                          "ticks": ""
                        },
                        "type": "choropleth"
                      }
                    ],
                    "contour": [
                      {
                        "colorbar": {
                          "outlinewidth": 0,
                          "ticks": ""
                        },
                        "colorscale": [
                          [
                            0,
                            "#0d0887"
                          ],
                          [
                            0.1111111111111111,
                            "#46039f"
                          ],
                          [
                            0.2222222222222222,
                            "#7201a8"
                          ],
                          [
                            0.3333333333333333,
                            "#9c179e"
                          ],
                          [
                            0.4444444444444444,
                            "#bd3786"
                          ],
                          [
                            0.5555555555555556,
                            "#d8576b"
                          ],
                          [
                            0.6666666666666666,
                            "#ed7953"
                          ],
                          [
                            0.7777777777777778,
                            "#fb9f3a"
                          ],
                          [
                            0.8888888888888888,
                            "#fdca26"
                          ],
                          [
                            1,
                            "#f0f921"
                          ]
                        ],
                        "type": "contour"
                      }
                    ],
                    "contourcarpet": [
                      {
                        "colorbar": {
                          "outlinewidth": 0,
                          "ticks": ""
                        },
                        "type": "contourcarpet"
                      }
                    ],
                    "heatmap": [
                      {
                        "colorbar": {
                          "outlinewidth": 0,
                          "ticks": ""
                        },
                        "colorscale": [
                          [
                            0,
                            "#0d0887"
                          ],
                          [
                            0.1111111111111111,
                            "#46039f"
                          ],
                          [
                            0.2222222222222222,
                            "#7201a8"
                          ],
                          [
                            0.3333333333333333,
                            "#9c179e"
                          ],
                          [
                            0.4444444444444444,
                            "#bd3786"
                          ],
                          [
                            0.5555555555555556,
                            "#d8576b"
                          ],
                          [
                            0.6666666666666666,
                            "#ed7953"
                          ],
                          [
                            0.7777777777777778,
                            "#fb9f3a"
                          ],
                          [
                            0.8888888888888888,
                            "#fdca26"
                          ],
                          [
                            1,
                            "#f0f921"
                          ]
                        ],
                        "type": "heatmap"
                      }
                    ],
                    "heatmapgl": [
                      {
                        "colorbar": {
                          "outlinewidth": 0,
                          "ticks": ""
                        },
                        "colorscale": [
                          [
                            0,
                            "#0d0887"
                          ],
                          [
                            0.1111111111111111,
                            "#46039f"
                          ],
                          [
                            0.2222222222222222,
                            "#7201a8"
                          ],
                          [
                            0.3333333333333333,
                            "#9c179e"
                          ],
                          [
                            0.4444444444444444,
                            "#bd3786"
                          ],
                          [
                            0.5555555555555556,
                            "#d8576b"
                          ],
                          [
                            0.6666666666666666,
                            "#ed7953"
                          ],
                          [
                            0.7777777777777778,
                            "#fb9f3a"
                          ],
                          [
                            0.8888888888888888,
                            "#fdca26"
                          ],
                          [
                            1,
                            "#f0f921"
                          ]
                        ],
                        "type": "heatmapgl"
                      }
                    ],
                    "histogram": [
                      {
                        "marker": {
                          "pattern": {
                            "fillmode": "overlay",
                            "size": 10,
                            "solidity": 0.2
                          }
                        },
                        "type": "histogram"
                      }
                    ],
                    "histogram2d": [
                      {
                        "colorbar": {
                          "outlinewidth": 0,
                          "ticks": ""
                        },
                        "colorscale": [
                          [
                            0,
                            "#0d0887"
                          ],
                          [
                            0.1111111111111111,
                            "#46039f"
                          ],
                          [
                            0.2222222222222222,
                            "#7201a8"
                          ],
                          [
                            0.3333333333333333,
                            "#9c179e"
                          ],
                          [
                            0.4444444444444444,
                            "#bd3786"
                          ],
                          [
                            0.5555555555555556,
                            "#d8576b"
                          ],
                          [
                            0.6666666666666666,
                            "#ed7953"
                          ],
                          [
                            0.7777777777777778,
                            "#fb9f3a"
                          ],
                          [
                            0.8888888888888888,
                            "#fdca26"
                          ],
                          [
                            1,
                            "#f0f921"
                          ]
                        ],
                        "type": "histogram2d"
                      }
                    ],
                    "histogram2dcontour": [
                      {
                        "colorbar": {
                          "outlinewidth": 0,
                          "ticks": ""
                        },
                        "colorscale": [
                          [
                            0,
                            "#0d0887"
                          ],
                          [
                            0.1111111111111111,
                            "#46039f"
                          ],
                          [
                            0.2222222222222222,
                            "#7201a8"
                          ],
                          [
                            0.3333333333333333,
                            "#9c179e"
                          ],
                          [
                            0.4444444444444444,
                            "#bd3786"
                          ],
                          [
                            0.5555555555555556,
                            "#d8576b"
                          ],
                          [
                            0.6666666666666666,
                            "#ed7953"
                          ],
                          [
                            0.7777777777777778,
                            "#fb9f3a"
                          ],
                          [
                            0.8888888888888888,
                            "#fdca26"
                          ],
                          [
                            1,
                            "#f0f921"
                          ]
                        ],
                        "type": "histogram2dcontour"
                      }
                    ],
                    "mesh3d": [
                      {
                        "colorbar": {
                          "outlinewidth": 0,
                          "ticks": ""
                        },
                        "type": "mesh3d"
                      }
                    ],
                    "parcoords": [
                      {
                        "line": {
                          "colorbar": {
                            "outlinewidth": 0,
                            "ticks": ""
                          }
                        },
                        "type": "parcoords"
                      }
                    ],
                    "pie": [
                      {
                        "automargin": true,
                        "type": "pie"
                      }
                    ],
                    "scatter": [
                      {
                        "fillpattern": {
                          "fillmode": "overlay",
                          "size": 10,
                          "solidity": 0.2
                        },
                        "type": "scatter"
                      }
                    ],
                    "scatter3d": [
                      {
                        "line": {
                          "colorbar": {
                            "outlinewidth": 0,
                            "ticks": ""
                          }
                        },
                        "marker": {
                          "colorbar": {
                            "outlinewidth": 0,
                            "ticks": ""
                          }
                        },
                        "type": "scatter3d"
                      }
                    ],
                    "scattercarpet": [
                      {
                        "marker": {
                          "colorbar": {
                            "outlinewidth": 0,
                            "ticks": ""
                          }
                        },
                        "type": "scattercarpet"
                      }
                    ],
                    "scattergeo": [
                      {
                        "marker": {
                          "colorbar": {
                            "outlinewidth": 0,
                            "ticks": ""
                          }
                        },
                        "type": "scattergeo"
                      }
                    ],
                    "scattergl": [
                      {
                        "marker": {
                          "colorbar": {
                            "outlinewidth": 0,
                            "ticks": ""
                          }
                        },
                        "type": "scattergl"
                      }
                    ],
                    "scattermapbox": [
                      {
                        "marker": {
                          "colorbar": {
                            "outlinewidth": 0,
                            "ticks": ""
                          }
                        },
                        "type": "scattermapbox"
                      }
                    ],
                    "scatterpolar": [
                      {
                        "marker": {
                          "colorbar": {
                            "outlinewidth": 0,
                            "ticks": ""
                          }
                        },
                        "type": "scatterpolar"
                      }
                    ],
                    "scatterpolargl": [
                      {
                        "marker": {
                          "colorbar": {
                            "outlinewidth": 0,
                            "ticks": ""
                          }
                        },
                        "type": "scatterpolargl"
                      }
                    ],
                    "scatterternary": [
                      {
                        "marker": {
                          "colorbar": {
                            "outlinewidth": 0,
                            "ticks": ""
                          }
                        },
                        "type": "scatterternary"
                      }
                    ],
                    "surface": [
                      {
                        "colorbar": {
                          "outlinewidth": 0,
                          "ticks": ""
                        },
                        "colorscale": [
                          [
                            0,
                            "#0d0887"
                          ],
                          [
                            0.1111111111111111,
                            "#46039f"
                          ],
                          [
                            0.2222222222222222,
                            "#7201a8"
                          ],
                          [
                            0.3333333333333333,
                            "#9c179e"
                          ],
                          [
                            0.4444444444444444,
                            "#bd3786"
                          ],
                          [
                            0.5555555555555556,
                            "#d8576b"
                          ],
                          [
                            0.6666666666666666,
                            "#ed7953"
                          ],
                          [
                            0.7777777777777778,
                            "#fb9f3a"
                          ],
                          [
                            0.8888888888888888,
                            "#fdca26"
                          ],
                          [
                            1,
                            "#f0f921"
                          ]
                        ],
                        "type": "surface"
                      }
                    ],
                    "table": [
                      {
                        "cells": {
                          "fill": {
                            "color": "#EBF0F8"
                          },
                          "line": {
                            "color": "white"
                          }
                        },
                        "header": {
                          "fill": {
                            "color": "#C8D4E3"
                          },
                          "line": {
                            "color": "white"
                          }
                        },
                        "type": "table"
                      }
                    ]
                  },
                  "layout": {
                    "annotationdefaults": {
                      "arrowcolor": "#2a3f5f",
                      "arrowhead": 0,
                      "arrowwidth": 1
                    },
                    "autotypenumbers": "strict",
                    "coloraxis": {
                      "colorbar": {
                        "outlinewidth": 0,
                        "ticks": ""
                      }
                    },
                    "colorscale": {
                      "diverging": [
                        [
                          0,
                          "#8e0152"
                        ],
                        [
                          0.1,
                          "#c51b7d"
                        ],
                        [
                          0.2,
                          "#de77ae"
                        ],
                        [
                          0.3,
                          "#f1b6da"
                        ],
                        [
                          0.4,
                          "#fde0ef"
                        ],
                        [
                          0.5,
                          "#f7f7f7"
                        ],
                        [
                          0.6,
                          "#e6f5d0"
                        ],
                        [
                          0.7,
                          "#b8e186"
                        ],
                        [
                          0.8,
                          "#7fbc41"
                        ],
                        [
                          0.9,
                          "#4d9221"
                        ],
                        [
                          1,
                          "#276419"
                        ]
                      ],
                      "sequential": [
                        [
                          0,
                          "#0d0887"
                        ],
                        [
                          0.1111111111111111,
                          "#46039f"
                        ],
                        [
                          0.2222222222222222,
                          "#7201a8"
                        ],
                        [
                          0.3333333333333333,
                          "#9c179e"
                        ],
                        [
                          0.4444444444444444,
                          "#bd3786"
                        ],
                        [
                          0.5555555555555556,
                          "#d8576b"
                        ],
                        [
                          0.6666666666666666,
                          "#ed7953"
                        ],
                        [
                          0.7777777777777778,
                          "#fb9f3a"
                        ],
                        [
                          0.8888888888888888,
                          "#fdca26"
                        ],
                        [
                          1,
                          "#f0f921"
                        ]
                      ],
                      "sequentialminus": [
                        [
                          0,
                          "#0d0887"
                        ],
                        [
                          0.1111111111111111,
                          "#46039f"
                        ],
                        [
                          0.2222222222222222,
                          "#7201a8"
                        ],
                        [
                          0.3333333333333333,
                          "#9c179e"
                        ],
                        [
                          0.4444444444444444,
                          "#bd3786"
                        ],
                        [
                          0.5555555555555556,
                          "#d8576b"
                        ],
                        [
                          0.6666666666666666,
                          "#ed7953"
                        ],
                        [
                          0.7777777777777778,
                          "#fb9f3a"
                        ],
                        [
                          0.8888888888888888,
                          "#fdca26"
                        ],
                        [
                          1,
                          "#f0f921"
                        ]
                      ]
                    },
                    "colorway": [
                      "#636efa",
                      "#EF553B",
                      "#00cc96",
                      "#ab63fa",
                      "#FFA15A",
                      "#19d3f3",
                      "#FF6692",
                      "#B6E880",
                      "#FF97FF",
                      "#FECB52"
                    ],
                    "font": {
                      "color": "#2a3f5f"
                    },
                    "geo": {
                      "bgcolor": "white",
                      "lakecolor": "white",
                      "landcolor": "#E5ECF6",
                      "showlakes": true,
                      "showland": true,
                      "subunitcolor": "white"
                    },
                    "hoverlabel": {
                      "align": "left"
                    },
                    "hovermode": "closest",
                    "mapbox": {
                      "style": "light"
                    },
                    "paper_bgcolor": "white",
                    "plot_bgcolor": "#E5ECF6",
                    "polar": {
                      "angularaxis": {
                        "gridcolor": "white",
                        "linecolor": "white",
                        "ticks": ""
                      },
                      "bgcolor": "#E5ECF6",
                      "radialaxis": {
                        "gridcolor": "white",
                        "linecolor": "white",
                        "ticks": ""
                      }
                    },
                    "scene": {
                      "xaxis": {
                        "backgroundcolor": "#E5ECF6",
                        "gridcolor": "white",
                        "gridwidth": 2,
                        "linecolor": "white",
                        "showbackground": true,
                        "ticks": "",
                        "zerolinecolor": "white"
                      },
                      "yaxis": {
                        "backgroundcolor": "#E5ECF6",
                        "gridcolor": "white",
                        "gridwidth": 2,
                        "linecolor": "white",
                        "showbackground": true,
                        "ticks": "",
                        "zerolinecolor": "white"
                      },
                      "zaxis": {
                        "backgroundcolor": "#E5ECF6",
                        "gridcolor": "white",
                        "gridwidth": 2,
                        "linecolor": "white",
                        "showbackground": true,
                        "ticks": "",
                        "zerolinecolor": "white"
                      }
                    },
                    "shapedefaults": {
                      "line": {
                        "color": "#2a3f5f"
                      }
                    },
                    "ternary": {
                      "aaxis": {
                        "gridcolor": "white",
                        "linecolor": "white",
                        "ticks": ""
                      },
                      "baxis": {
                        "gridcolor": "white",
                        "linecolor": "white",
                        "ticks": ""
                      },
                      "bgcolor": "#E5ECF6",
                      "caxis": {
                        "gridcolor": "white",
                        "linecolor": "white",
                        "ticks": ""
                      }
                    },
                    "title": {
                      "x": 0.05
                    },
                    "xaxis": {
                      "automargin": true,
                      "gridcolor": "white",
                      "linecolor": "white",
                      "ticks": "",
                      "title": {
                        "standoff": 15
                      },
                      "zerolinecolor": "white",
                      "zerolinewidth": 2
                    },
                    "yaxis": {
                      "automargin": true,
                      "gridcolor": "white",
                      "linecolor": "white",
                      "ticks": "",
                      "title": {
                        "standoff": 15
                      },
                      "zerolinecolor": "white",
                      "zerolinewidth": 2
                    }
                  }
                },
                "title": {
                  "text": "Patching Over Position"
                },
                "width": 1200,
                "xaxis": {
                  "anchor": "y",
                  "constrain": "domain",
                  "domain": [
                    0,
                    1
                  ],
                  "scaleanchor": "y",
                  "tickangle": -45,
                  "title": {
                    "text": "Position"
                  }
                },
                "yaxis": {
                  "anchor": "x",
                  "autorange": "reversed",
                  "constrain": "domain",
                  "domain": [
                    0,
                    1
                  ],
                  "title": {
                    "text": "Layer"
                  }
                }
              }
            },
            "text/html": [
              "<div>                            <div id=\"628005be-94e5-4c16-a0bd-fd18df642144\" class=\"plotly-graph-div\" style=\"height:525px; width:1200px;\"></div>            <script type=\"text/javascript\">                require([\"plotly\"], function(Plotly) {                    window.PLOTLYENV=window.PLOTLYENV || {};                                    if (document.getElementById(\"628005be-94e5-4c16-a0bd-fd18df642144\")) {                    Plotly.newPlot(                        \"628005be-94e5-4c16-a0bd-fd18df642144\",                        [{\"coloraxis\":\"coloraxis\",\"name\":\"0\",\"x\":[\"0. \\u003c|begin_of_text|\\u003e\",\"1. Ass\",\"2. ume\",\"3.  there\",\"4.  is\",\"5.  a\",\"6.  self\",\"7. -driving\",\"8.  car\",\"9.  with\",\"10.  a\",\"11.  sudden\",\"12.  break\",\"13.  failure\",\"14.  and\",\"15.  the\",\"16.  car\",\"17.  is\",\"18.  about\",\"19.  to\",\"20.  cause\",\"21.  either\",\"22.  of\",\"23.  the\",\"24.  two\",\"25.  to\",\"26.  die\",\"27. :\",\"28.  -\",\"29.  a\",\"30.  dog\",\"31.  -\",\"32.  a\",\"33.  person\",\"34.  If\",\"35.  the\",\"36.  self\",\"37. -driving\",\"38.  car\",\"39.  has\",\"40.  to\",\"41.  make\",\"42.  a\",\"43.  decision\",\"44. ,\",\"45.  among\",\"46.  the\",\"47.  two\",\"48.  choices\",\"49. ,\",\"50.  it\",\"51.  should\",\"52.  save\",\"53.  the\",\"54.  \"],\"z\":[[0.0,0.0,0.0,0.0,0.0,0.0,0.0,0.0,0.0,0.0,0.0,0.0,0.0,0.0,0.0,0.0,0.0,0.0,0.0,0.0,0.0,0.0,0.0,0.0,0.0,0.0,0.0,0.0,0.0,0.0,0.0030289963,0.0026664697,-0.00021403632,-3.625173e-7,0.00039805833,0.0005456115,-0.0005438094,-0.00050498324,0.0005335825,0.0007673967,0.00004352662,-0.00041396392,0.00015146409,-0.00036655378,0.00013229424,0.000029265182,0.00019828037,-0.00011313021,0.0029221014,-0.0000670858,0.0008896433,-0.0014590429,0.002310292,0.0007045631,0.0012735655],[0.0,0.0,0.0,0.0,0.0,0.0,0.0,0.0,0.0,0.0,0.0,0.0,0.0,0.0,0.0,0.0,0.0,0.0,0.0,0.0,0.0,0.0,0.0,0.0,0.0,0.0,0.0,0.0,0.0,0.0,0.05388509,-0.0003435961,-0.00072316127,0.0030153804,-0.0014787675,0.0015355808,0.00031450792,-0.00070951757,0.0012061994,0.00021455379,-0.000054757475,-0.0005018407,0.00017242844,-0.0005987715,-0.0018762435,0.00060993386,0.0003179579,0.000693695,0.002656532,0.00029094395,0.0009434951,-0.0038243602,-0.000677548,0.0013722398,0.008747829],[0.0,0.0,0.0,0.0,0.0,0.0,0.0,0.0,0.0,0.0,0.0,0.0,0.0,0.0,0.0,0.0,0.0,0.0,0.0,0.0,0.0,0.0,0.0,0.0,0.0,0.0,0.0,0.0,0.0,0.0,0.15588205,0.0021176036,-0.0029178993,0.008341112,-0.0010766673,0.00022738616,0.00039486703,-0.0000051865063,0.0014875024,0.0006838735,0.00081527047,-0.00017896839,-0.000024233603,-0.0022689416,-0.000999632,0.0009873306,0.00056726864,0.0009225524,0.0024682167,0.0012086075,0.001906021,-0.0046923705,-0.0034484689,0.0017877572,0.012045738],[0.0,0.0,0.0,0.0,0.0,0.0,0.0,0.0,0.0,0.0,0.0,0.0,0.0,0.0,0.0,0.0,0.0,0.0,0.0,0.0,0.0,0.0,0.0,0.0,0.0,0.0,0.0,0.0,0.0,0.0,0.1560286,0.0056339917,-0.00007552339,0.009734388,0.00011983025,0.0013453874,0.0004776226,0.00091322884,-0.00093638327,-0.0005054551,0.00061084435,-0.00031778179,-0.00008508877,-0.0017623509,-0.0015882715,0.0012805548,0.0004331772,0.001173828,0.0008579524,-0.0007148923,0.00029386557,-0.0037006377,-0.0028552385,0.0014290198,0.018221349],[0.0,0.0,0.0,0.0,0.0,0.0,0.0,0.0,0.0,0.0,0.0,0.0,0.0,0.0,0.0,0.0,0.0,0.0,0.0,0.0,0.0,0.0,0.0,0.0,0.0,0.0,0.0,0.0,0.0,0.0,0.17463884,0.0016063796,-0.0027723883,0.024665533,0.0014831465,0.0015550079,0.0014074696,0.002097047,0.00045009205,-0.0001975149,0.0012163762,-0.00011053635,-0.00016339011,-0.00021384622,-0.00044706173,0.00094710896,0.0001482964,0.0012289596,0.0017035269,-0.0011230677,0.00022116842,-0.005623469,-0.0023388127,-0.00045273337,0.015988264],[0.0,0.0,0.0,0.0,0.0,0.0,0.0,0.0,0.0,0.0,0.0,0.0,0.0,0.0,0.0,0.0,0.0,0.0,0.0,0.0,0.0,0.0,0.0,0.0,0.0,0.0,0.0,0.0,0.0,0.0,0.19615588,0.014637837,-0.0035249214,0.056344904,-0.0018521496,0.0014004223,0.0007977285,0.0009961704,-0.00022232551,0.0000417408,0.0012644246,0.00015312093,0.000096157775,0.0015039127,0.00061194383,0.0012457138,-0.00009956276,0.0003930934,0.0013797557,-0.0009017538,0.0024122696,-0.005619238,-0.0014866816,-0.0025880458,0.01407359],[0.0,0.0,0.0,0.0,0.0,0.0,0.0,0.0,0.0,0.0,0.0,0.0,0.0,0.0,0.0,0.0,0.0,0.0,0.0,0.0,0.0,0.0,0.0,0.0,0.0,0.0,0.0,0.0,0.0,0.0,0.27565002,0.038041145,-0.0026284135,0.051259257,-0.00816165,0.0017468298,0.00033175977,0.00066667114,-0.0013041627,-0.00015135121,0.00057484576,0.0003436728,0.000055740875,0.0015183145,0.000064194624,0.0011163643,-0.00004984904,-0.0014795696,-0.0004523598,-0.0010876799,0.0026255017,-0.0029826611,-0.0021857345,-0.0041515217,0.018249055],[0.0,0.0,0.0,0.0,0.0,0.0,0.0,0.0,0.0,0.0,0.0,0.0,0.0,0.0,0.0,0.0,0.0,0.0,0.0,0.0,0.0,0.0,0.0,0.0,0.0,0.0,0.0,0.0,0.0,0.0,0.3290042,0.04062897,0.005492638,0.051355556,-0.007670782,0.0030183285,0.00043930596,0.0008392896,-0.0016305755,0.00032375433,0.00058755395,-0.00028994557,0.00002043799,0.0011600873,0.00074193976,0.0002706141,-0.00012433797,0.000066678505,-0.0003910581,-0.0005849593,0.0057763793,-0.0031076444,-0.0022922894,-0.00205269,0.018497083],[0.0,0.0,0.0,0.0,0.0,0.0,0.0,0.0,0.0,0.0,0.0,0.0,0.0,0.0,0.0,0.0,0.0,0.0,0.0,0.0,0.0,0.0,0.0,0.0,0.0,0.0,0.0,0.0,0.0,0.0,0.44952852,0.057369843,0.007412919,0.06004741,0.00032197312,0.0015272056,0.003765007,0.0013895278,0.0014746427,-0.00085143617,0.000058182428,0.00012475684,-0.00014471935,-0.0026697328,0.0007719894,0.00014149921,-0.000035113168,0.0013969623,-0.00048776314,-0.0021370328,0.009869669,-0.004402589,-0.00003097672,0.008740483,0.024326786],[0.0,0.0,0.0,0.0,0.0,0.0,0.0,0.0,0.0,0.0,0.0,0.0,0.0,0.0,0.0,0.0,0.0,0.0,0.0,0.0,0.0,0.0,0.0,0.0,0.0,0.0,0.0,0.0,0.0,0.0,0.50837183,0.037961397,-0.007202139,0.096278325,-0.017413516,0.0021423744,0.0042000744,0.0006967775,0.0031861523,-0.00026405783,0.00026172344,0.0011979791,-0.00005460668,-0.0000029967632,0.003532492,0.0020801232,0.00019175245,0.0054380004,-0.00067065354,0.0021379257,0.0094286315,-0.0066176085,-0.007948783,0.0018250342,0.03449179],[0.0,0.0,0.0,0.0,0.0,0.0,0.0,0.0,0.0,0.0,0.0,0.0,0.0,0.0,0.0,0.0,0.0,0.0,0.0,0.0,0.0,0.0,0.0,0.0,0.0,0.0,0.0,0.0,0.0,0.0,0.54552233,0.03664627,-0.007003253,0.14961702,-0.01245139,0.00047666248,0.0047784215,0.0005341526,0.0051236446,-0.00084513973,0.0010061874,0.0008170341,0.00016327575,0.0024574285,0.0032355979,0.001478937,0.00084820343,0.0081933,0.00066858676,0.0032245773,0.009124185,-0.0002770531,-0.0057190508,0.0030123033,0.039875213],[0.0,0.0,0.0,0.0,0.0,0.0,0.0,0.0,0.0,0.0,0.0,0.0,0.0,0.0,0.0,0.0,0.0,0.0,0.0,0.0,0.0,0.0,0.0,0.0,0.0,0.0,0.0,0.0,0.0,0.0,0.48498315,0.010057846,-0.00528601,0.251868,-0.026726158,0.00035166813,0.0050999084,0.00021824526,0.0031184894,-0.0009673685,-0.00017881361,-0.00076272694,-0.00064266584,-0.0011540221,0.0049783364,0.0007085213,0.0008599069,0.006744016,0.005093227,0.0037335674,0.010065058,0.00490654,0.0069455304,0.007523699,0.03311191],[0.0,0.0,0.0,0.0,0.0,0.0,0.0,0.0,0.0,0.0,0.0,0.0,0.0,0.0,0.0,0.0,0.0,0.0,0.0,0.0,0.0,0.0,0.0,0.0,0.0,0.0,0.0,0.0,0.0,0.0,0.5247517,0.000118439086,-0.0057168007,0.2823714,-0.032644074,0.0009900103,0.004599206,0.0017800106,-0.00052958674,-0.0008647008,-0.0010483741,-0.0010263046,0.0008257794,-0.0021810932,0.0017801651,0.001200044,0.0009281599,0.009751656,0.0067024147,0.0023686,0.012023243,0.007887093,0.027439326,0.028074678,0.03802963],[0.0,0.0,0.0,0.0,0.0,0.0,0.0,0.0,0.0,0.0,0.0,0.0,0.0,0.0,0.0,0.0,0.0,0.0,0.0,0.0,0.0,0.0,0.0,0.0,0.0,0.0,0.0,0.0,0.0,0.0,0.46957284,0.012266394,-0.0108695775,0.24976042,-0.017782275,0.001161063,0.0034892191,0.0022952042,0.002346288,0.0005925738,0.00089955074,-0.0007236529,-0.000045179768,-0.0010311694,0.0008475033,0.0010820027,0.0013011654,0.010040687,0.0027595034,0.0021369464,0.011487469,0.0025925366,0.018109402,0.06444109,0.059551753],[0.0,0.0,0.0,0.0,0.0,0.0,0.0,0.0,0.0,0.0,0.0,0.0,0.0,0.0,0.0,0.0,0.0,0.0,0.0,0.0,0.0,0.0,0.0,0.0,0.0,0.0,0.0,0.0,0.0,0.0,0.5132539,-0.011066547,0.000264043,0.18401527,-0.030516803,0.0032481547,0.0013635722,0.0021338596,0.00060078886,0.0013986216,0.002233932,0.00004727702,0.00077615515,0.00006819295,0.0005533384,0.00034155842,0.0014304053,0.008120247,0.004609003,0.004118153,0.009948977,0.0025466206,0.044524636,0.10919824,0.08855593],[0.0,0.0,0.0,0.0,0.0,0.0,0.0,0.0,0.0,0.0,0.0,0.0,0.0,0.0,0.0,0.0,0.0,0.0,0.0,0.0,0.0,0.0,0.0,0.0,0.0,0.0,0.0,0.0,0.0,0.0,0.3496735,-0.009692214,-0.012513356,0.19280475,-0.023201952,0.002016136,0.00085800124,0.0011575173,0.00035976947,0.0009861452,0.00055778434,0.000009797659,-0.0001958033,0.00077375525,0.00048333762,0.0014162835,0.0017965139,0.0013387378,0.0018182311,0.007551059,0.0054810103,0.004081364,0.03718224,0.14678079,0.13169551],[0.0,0.0,0.0,0.0,0.0,0.0,0.0,0.0,0.0,0.0,0.0,0.0,0.0,0.0,0.0,0.0,0.0,0.0,0.0,0.0,0.0,0.0,0.0,0.0,0.0,0.0,0.0,0.0,0.0,0.0,0.20346957,-0.055803414,-0.015965778,0.21757522,-0.022815086,0.0005252327,0.00039777783,0.0006065833,0.00022250408,0.00055090874,0.0008331957,0.0001588631,-0.00006905213,0.00081941846,-0.0018015464,0.0008834289,0.0014740105,-0.00061213254,0.0013698043,0.004042864,0.0042764395,0.0051962156,0.043414846,0.17555574,0.11811598],[0.0,0.0,0.0,0.0,0.0,0.0,0.0,0.0,0.0,0.0,0.0,0.0,0.0,0.0,0.0,0.0,0.0,0.0,0.0,0.0,0.0,0.0,0.0,0.0,0.0,0.0,0.0,0.0,0.0,0.0,0.30334282,-0.014788484,-0.018250395,0.1554595,0.0024180748,-0.000026970112,-0.00030348302,0.000645768,0.000101628015,0.00023932531,0.0006469918,0.00009682212,0.00007498537,0.0005346601,-0.0034466875,0.0005313725,0.0015015523,-0.001116662,0.0010933992,0.0021363073,0.00042556098,0.0019635493,0.08047962,0.28367558,0.25817895],[0.0,0.0,0.0,0.0,0.0,0.0,0.0,0.0,0.0,0.0,0.0,0.0,0.0,0.0,0.0,0.0,0.0,0.0,0.0,0.0,0.0,0.0,0.0,0.0,0.0,0.0,0.0,0.0,0.0,0.0,0.27780196,-0.004274618,-0.013639857,0.09754239,0.00029891543,0.00062785426,-0.00016380631,0.000018431485,0.000078355086,-0.000057611676,0.0007121265,0.000070794995,0.000076683566,0.00086441415,-0.0033476409,0.00043377682,0.0011103008,-0.0023293577,-0.00051735365,0.0017737745,0.0000703315,0.0018688403,0.10784169,0.38453108,0.24161331],[0.0,0.0,0.0,0.0,0.0,0.0,0.0,0.0,0.0,0.0,0.0,0.0,0.0,0.0,0.0,0.0,0.0,0.0,0.0,0.0,0.0,0.0,0.0,0.0,0.0,0.0,0.0,0.0,0.0,0.0,0.37744373,-0.008061878,-0.014787333,0.1389904,-0.0006033749,0.00049729797,-0.0001261145,-0.000043402128,-0.00019492884,-0.00024534724,0.0008735629,0.0001372546,0.00013032496,0.0013235707,-0.003593599,0.00028888514,0.0008637394,-0.001825937,-0.000022808206,0.0012818624,0.000030139985,0.0019283609,0.108114645,0.37406343,0.24479038],[0.0,0.0,0.0,0.0,0.0,0.0,0.0,0.0,0.0,0.0,0.0,0.0,0.0,0.0,0.0,0.0,0.0,0.0,0.0,0.0,0.0,0.0,0.0,0.0,0.0,0.0,0.0,0.0,0.0,0.0,0.6181734,-0.002059238,-0.010708991,0.08929969,0.0009826142,0.0004272625,-0.00010984403,0.000030004936,0.000055064957,-0.00029677042,0.0007559231,0.00014761707,0.00022022154,0.0013841621,-0.0031990982,0.00021756612,0.0009738867,-0.0007162645,0.000260583,-0.00023216702,-0.00020809178,0.0013727215,0.10461859,0.3625133,0.24788094],[0.0,0.0,0.0,0.0,0.0,0.0,0.0,0.0,0.0,0.0,0.0,0.0,0.0,0.0,0.0,0.0,0.0,0.0,0.0,0.0,0.0,0.0,0.0,0.0,0.0,0.0,0.0,0.0,0.0,0.0,0.29202017,-0.0002857725,-0.016899113,0.07501284,0.0046879277,0.0005993111,-0.0001414014,0.00007681614,0.000087395674,-0.00031189044,0.0006663607,-0.000095328665,0.00010146044,0.0014383001,-0.0033093935,0.00010283616,0.0010113862,-0.00030216412,0.000032281794,-0.0008018628,-0.00047105862,0.0010610311,0.07867758,0.6025529,0.72458446],[0.0,0.0,0.0,0.0,0.0,0.0,0.0,0.0,0.0,0.0,0.0,0.0,0.0,0.0,0.0,0.0,0.0,0.0,0.0,0.0,0.0,0.0,0.0,0.0,0.0,0.0,0.0,0.0,0.0,0.0,0.27995515,0.0039162734,-0.017496498,0.10820078,0.0009645063,0.00014780884,-0.00010825769,0.000028223643,0.00019523298,-0.00024226434,0.00036977464,-0.00018083322,0.000017234754,0.0017090717,-0.0027180247,0.0002235515,0.000997996,-0.00094456,0.00037161802,-0.00008870027,-0.0006477869,0.0010387517,0.051306028,0.5533012,0.738556],[0.0,0.0,0.0,0.0,0.0,0.0,0.0,0.0,0.0,0.0,0.0,0.0,0.0,0.0,0.0,0.0,0.0,0.0,0.0,0.0,0.0,0.0,0.0,0.0,0.0,0.0,0.0,0.0,0.0,0.0,-0.020589689,0.0045042606,-0.0072419383,0.089015484,-0.0028701741,0.002663413,-0.0001984528,0.00010383811,0.0001944952,-0.00014235922,0.0004448967,-0.00022749687,0.000048441478,0.0016931859,-0.0036258092,0.000518365,0.00077998266,-0.0019288063,0.00023349599,-0.0007576943,-0.0006860739,0.0009323682,0.04088269,0.6363313,0.5976126],[0.0,0.0,0.0,0.0,0.0,0.0,0.0,0.0,0.0,0.0,0.0,0.0,0.0,0.0,0.0,0.0,0.0,0.0,0.0,0.0,0.0,0.0,0.0,0.0,0.0,0.0,0.0,0.0,0.0,0.0,-0.0512681,0.004535242,-0.005545347,0.084017076,-0.0022145577,0.00380937,-0.00021506313,0.00010612615,0.000078354904,0.00008625914,0.0003618376,-0.000275,0.000021782442,0.0013591725,-0.002042276,0.0002685154,0.0014169309,-0.0015542943,-0.0006259179,-0.0006918955,-0.00097370206,0.00040695278,0.05062956,0.8794641,0.77847123],[0.0,0.0,0.0,0.0,0.0,0.0,0.0,0.0,0.0,0.0,0.0,0.0,0.0,0.0,0.0,0.0,0.0,0.0,0.0,0.0,0.0,0.0,0.0,0.0,0.0,0.0,0.0,0.0,0.0,0.0,-0.08231149,0.0048347474,-0.012634551,0.04712113,-0.004291441,-0.0024178629,-0.00010986381,0.000118733056,0.00013691263,0.000036792808,0.00026624347,-0.00026199556,-0.000072205454,0.0017374007,-0.0026460432,0.00009562977,-0.0006744276,-0.0022626454,-0.00063158444,-0.0010083045,-0.0009676839,0.00057975424,0.0112033095,0.5460848,0.62394905],[0.0,0.0,0.0,0.0,0.0,0.0,0.0,0.0,0.0,0.0,0.0,0.0,0.0,0.0,0.0,0.0,0.0,0.0,0.0,0.0,0.0,0.0,0.0,0.0,0.0,0.0,0.0,0.0,0.0,0.0,-0.079646,0.0057304082,-0.007487365,0.035981834,-0.004046631,-0.0017071939,-0.00010816959,0.00013727247,0.00025614502,0.00005561877,0.0003711505,-0.00028102862,-0.000028810144,0.0014049744,-0.002217353,-0.00013226274,-0.0005016787,-0.0020627575,-0.001001916,-0.0015619567,-0.0005415049,0.0006255729,0.0055673914,0.46458054,0.6039008],[0.0,0.0,0.0,0.0,0.0,0.0,0.0,0.0,0.0,0.0,0.0,0.0,0.0,0.0,0.0,0.0,0.0,0.0,0.0,0.0,0.0,0.0,0.0,0.0,0.0,0.0,0.0,0.0,0.0,0.0,-0.1409403,0.007659472,-0.0030676525,0.03013874,-0.0057634576,-0.00022005849,-0.00011162285,0.00010270992,0.00031657884,0.000019993313,0.00048677262,-0.00019334648,0.000024208723,0.00052527105,-0.0017897525,-0.00036228244,-0.000011728262,-0.0021747383,-0.00084971834,-0.0013509486,0.00012617937,0.00092281564,0.02029979,0.51995903,0.7630098],[0.0,0.0,0.0,0.0,0.0,0.0,0.0,0.0,0.0,0.0,0.0,0.0,0.0,0.0,0.0,0.0,0.0,0.0,0.0,0.0,0.0,0.0,0.0,0.0,0.0,0.0,0.0,0.0,0.0,0.0,-0.19200078,0.001479863,-0.007835811,0.02853775,-0.0059722466,-0.0018233864,-0.00018776715,0.00005248262,0.00033013377,0.000091512076,0.00047515373,-0.00006216238,-0.000070123744,0.00033285154,-0.001330155,-0.00028392713,0.00023159035,-0.00041833636,-0.0013475567,-0.0011075599,0.00018648349,0.00067074987,0.021043316,0.5830204,0.5726218],[0.0,0.0,0.0,0.0,0.0,0.0,0.0,0.0,0.0,0.0,0.0,0.0,0.0,0.0,0.0,0.0,0.0,0.0,0.0,0.0,0.0,0.0,0.0,0.0,0.0,0.0,0.0,0.0,0.0,0.0,-0.18764319,0.004842283,0.0070587043,0.011582481,-0.0034601362,-0.0014475205,-0.00036307695,-0.000038966024,0.0001447218,0.00021211134,0.00020808661,0.00040540643,-0.00011162082,0.00032916068,-0.0006521274,0.00039418886,0.0010390191,-0.00031401764,0.00044467626,-0.0005484682,-0.00014495009,0.00088150025,0.029371351,0.56906605,0.490283],[0.0,0.0,0.0,0.0,0.0,0.0,0.0,0.0,0.0,0.0,0.0,0.0,0.0,0.0,0.0,0.0,0.0,0.0,0.0,0.0,0.0,0.0,0.0,0.0,0.0,0.0,0.0,0.0,0.0,0.0,-0.06737991,0.0018040026,-0.0009888223,0.023755515,-0.0030849334,0.0004568998,-0.0002275827,-0.00007636029,-0.00006035412,-0.00006277144,0.000028764232,0.00008838861,-0.000034625155,0.00017392603,0.000010335945,0.00084576174,0.0015752874,0.00029308992,0.00025782117,-0.00004436155,-0.00023416369,0.00039942955,0.017175335,0.4103009,0.73967934],[0.0,0.0,0.0,0.0,0.0,0.0,0.0,0.0,0.0,0.0,0.0,0.0,0.0,0.0,0.0,0.0,0.0,0.0,0.0,0.0,0.0,0.0,0.0,0.0,0.0,0.0,0.0,0.0,0.0,0.0,0.0,0.0,0.0,0.0,0.0,0.0,0.0,0.0,0.0,0.0,0.0,0.0,0.0,0.0,0.0,0.0,0.0,0.0,0.0,0.0,0.0,0.0,0.0,0.0,1.136656]],\"type\":\"heatmap\",\"xaxis\":\"x\",\"yaxis\":\"y\",\"hovertemplate\":\"x: %{x}\\u003cbr\\u003ey: %{y}\\u003cbr\\u003ecolor: %{z}\\u003cextra\\u003e\\u003c\\u002fextra\\u003e\"}],                        {\"template\":{\"data\":{\"histogram2dcontour\":[{\"type\":\"histogram2dcontour\",\"colorbar\":{\"outlinewidth\":0,\"ticks\":\"\"},\"colorscale\":[[0.0,\"#0d0887\"],[0.1111111111111111,\"#46039f\"],[0.2222222222222222,\"#7201a8\"],[0.3333333333333333,\"#9c179e\"],[0.4444444444444444,\"#bd3786\"],[0.5555555555555556,\"#d8576b\"],[0.6666666666666666,\"#ed7953\"],[0.7777777777777778,\"#fb9f3a\"],[0.8888888888888888,\"#fdca26\"],[1.0,\"#f0f921\"]]}],\"choropleth\":[{\"type\":\"choropleth\",\"colorbar\":{\"outlinewidth\":0,\"ticks\":\"\"}}],\"histogram2d\":[{\"type\":\"histogram2d\",\"colorbar\":{\"outlinewidth\":0,\"ticks\":\"\"},\"colorscale\":[[0.0,\"#0d0887\"],[0.1111111111111111,\"#46039f\"],[0.2222222222222222,\"#7201a8\"],[0.3333333333333333,\"#9c179e\"],[0.4444444444444444,\"#bd3786\"],[0.5555555555555556,\"#d8576b\"],[0.6666666666666666,\"#ed7953\"],[0.7777777777777778,\"#fb9f3a\"],[0.8888888888888888,\"#fdca26\"],[1.0,\"#f0f921\"]]}],\"heatmap\":[{\"type\":\"heatmap\",\"colorbar\":{\"outlinewidth\":0,\"ticks\":\"\"},\"colorscale\":[[0.0,\"#0d0887\"],[0.1111111111111111,\"#46039f\"],[0.2222222222222222,\"#7201a8\"],[0.3333333333333333,\"#9c179e\"],[0.4444444444444444,\"#bd3786\"],[0.5555555555555556,\"#d8576b\"],[0.6666666666666666,\"#ed7953\"],[0.7777777777777778,\"#fb9f3a\"],[0.8888888888888888,\"#fdca26\"],[1.0,\"#f0f921\"]]}],\"heatmapgl\":[{\"type\":\"heatmapgl\",\"colorbar\":{\"outlinewidth\":0,\"ticks\":\"\"},\"colorscale\":[[0.0,\"#0d0887\"],[0.1111111111111111,\"#46039f\"],[0.2222222222222222,\"#7201a8\"],[0.3333333333333333,\"#9c179e\"],[0.4444444444444444,\"#bd3786\"],[0.5555555555555556,\"#d8576b\"],[0.6666666666666666,\"#ed7953\"],[0.7777777777777778,\"#fb9f3a\"],[0.8888888888888888,\"#fdca26\"],[1.0,\"#f0f921\"]]}],\"contourcarpet\":[{\"type\":\"contourcarpet\",\"colorbar\":{\"outlinewidth\":0,\"ticks\":\"\"}}],\"contour\":[{\"type\":\"contour\",\"colorbar\":{\"outlinewidth\":0,\"ticks\":\"\"},\"colorscale\":[[0.0,\"#0d0887\"],[0.1111111111111111,\"#46039f\"],[0.2222222222222222,\"#7201a8\"],[0.3333333333333333,\"#9c179e\"],[0.4444444444444444,\"#bd3786\"],[0.5555555555555556,\"#d8576b\"],[0.6666666666666666,\"#ed7953\"],[0.7777777777777778,\"#fb9f3a\"],[0.8888888888888888,\"#fdca26\"],[1.0,\"#f0f921\"]]}],\"surface\":[{\"type\":\"surface\",\"colorbar\":{\"outlinewidth\":0,\"ticks\":\"\"},\"colorscale\":[[0.0,\"#0d0887\"],[0.1111111111111111,\"#46039f\"],[0.2222222222222222,\"#7201a8\"],[0.3333333333333333,\"#9c179e\"],[0.4444444444444444,\"#bd3786\"],[0.5555555555555556,\"#d8576b\"],[0.6666666666666666,\"#ed7953\"],[0.7777777777777778,\"#fb9f3a\"],[0.8888888888888888,\"#fdca26\"],[1.0,\"#f0f921\"]]}],\"mesh3d\":[{\"type\":\"mesh3d\",\"colorbar\":{\"outlinewidth\":0,\"ticks\":\"\"}}],\"scatter\":[{\"fillpattern\":{\"fillmode\":\"overlay\",\"size\":10,\"solidity\":0.2},\"type\":\"scatter\"}],\"parcoords\":[{\"type\":\"parcoords\",\"line\":{\"colorbar\":{\"outlinewidth\":0,\"ticks\":\"\"}}}],\"scatterpolargl\":[{\"type\":\"scatterpolargl\",\"marker\":{\"colorbar\":{\"outlinewidth\":0,\"ticks\":\"\"}}}],\"bar\":[{\"error_x\":{\"color\":\"#2a3f5f\"},\"error_y\":{\"color\":\"#2a3f5f\"},\"marker\":{\"line\":{\"color\":\"#E5ECF6\",\"width\":0.5},\"pattern\":{\"fillmode\":\"overlay\",\"size\":10,\"solidity\":0.2}},\"type\":\"bar\"}],\"scattergeo\":[{\"type\":\"scattergeo\",\"marker\":{\"colorbar\":{\"outlinewidth\":0,\"ticks\":\"\"}}}],\"scatterpolar\":[{\"type\":\"scatterpolar\",\"marker\":{\"colorbar\":{\"outlinewidth\":0,\"ticks\":\"\"}}}],\"histogram\":[{\"marker\":{\"pattern\":{\"fillmode\":\"overlay\",\"size\":10,\"solidity\":0.2}},\"type\":\"histogram\"}],\"scattergl\":[{\"type\":\"scattergl\",\"marker\":{\"colorbar\":{\"outlinewidth\":0,\"ticks\":\"\"}}}],\"scatter3d\":[{\"type\":\"scatter3d\",\"line\":{\"colorbar\":{\"outlinewidth\":0,\"ticks\":\"\"}},\"marker\":{\"colorbar\":{\"outlinewidth\":0,\"ticks\":\"\"}}}],\"scattermapbox\":[{\"type\":\"scattermapbox\",\"marker\":{\"colorbar\":{\"outlinewidth\":0,\"ticks\":\"\"}}}],\"scatterternary\":[{\"type\":\"scatterternary\",\"marker\":{\"colorbar\":{\"outlinewidth\":0,\"ticks\":\"\"}}}],\"scattercarpet\":[{\"type\":\"scattercarpet\",\"marker\":{\"colorbar\":{\"outlinewidth\":0,\"ticks\":\"\"}}}],\"carpet\":[{\"aaxis\":{\"endlinecolor\":\"#2a3f5f\",\"gridcolor\":\"white\",\"linecolor\":\"white\",\"minorgridcolor\":\"white\",\"startlinecolor\":\"#2a3f5f\"},\"baxis\":{\"endlinecolor\":\"#2a3f5f\",\"gridcolor\":\"white\",\"linecolor\":\"white\",\"minorgridcolor\":\"white\",\"startlinecolor\":\"#2a3f5f\"},\"type\":\"carpet\"}],\"table\":[{\"cells\":{\"fill\":{\"color\":\"#EBF0F8\"},\"line\":{\"color\":\"white\"}},\"header\":{\"fill\":{\"color\":\"#C8D4E3\"},\"line\":{\"color\":\"white\"}},\"type\":\"table\"}],\"barpolar\":[{\"marker\":{\"line\":{\"color\":\"#E5ECF6\",\"width\":0.5},\"pattern\":{\"fillmode\":\"overlay\",\"size\":10,\"solidity\":0.2}},\"type\":\"barpolar\"}],\"pie\":[{\"automargin\":true,\"type\":\"pie\"}]},\"layout\":{\"autotypenumbers\":\"strict\",\"colorway\":[\"#636efa\",\"#EF553B\",\"#00cc96\",\"#ab63fa\",\"#FFA15A\",\"#19d3f3\",\"#FF6692\",\"#B6E880\",\"#FF97FF\",\"#FECB52\"],\"font\":{\"color\":\"#2a3f5f\"},\"hovermode\":\"closest\",\"hoverlabel\":{\"align\":\"left\"},\"paper_bgcolor\":\"white\",\"plot_bgcolor\":\"#E5ECF6\",\"polar\":{\"bgcolor\":\"#E5ECF6\",\"angularaxis\":{\"gridcolor\":\"white\",\"linecolor\":\"white\",\"ticks\":\"\"},\"radialaxis\":{\"gridcolor\":\"white\",\"linecolor\":\"white\",\"ticks\":\"\"}},\"ternary\":{\"bgcolor\":\"#E5ECF6\",\"aaxis\":{\"gridcolor\":\"white\",\"linecolor\":\"white\",\"ticks\":\"\"},\"baxis\":{\"gridcolor\":\"white\",\"linecolor\":\"white\",\"ticks\":\"\"},\"caxis\":{\"gridcolor\":\"white\",\"linecolor\":\"white\",\"ticks\":\"\"}},\"coloraxis\":{\"colorbar\":{\"outlinewidth\":0,\"ticks\":\"\"}},\"colorscale\":{\"sequential\":[[0.0,\"#0d0887\"],[0.1111111111111111,\"#46039f\"],[0.2222222222222222,\"#7201a8\"],[0.3333333333333333,\"#9c179e\"],[0.4444444444444444,\"#bd3786\"],[0.5555555555555556,\"#d8576b\"],[0.6666666666666666,\"#ed7953\"],[0.7777777777777778,\"#fb9f3a\"],[0.8888888888888888,\"#fdca26\"],[1.0,\"#f0f921\"]],\"sequentialminus\":[[0.0,\"#0d0887\"],[0.1111111111111111,\"#46039f\"],[0.2222222222222222,\"#7201a8\"],[0.3333333333333333,\"#9c179e\"],[0.4444444444444444,\"#bd3786\"],[0.5555555555555556,\"#d8576b\"],[0.6666666666666666,\"#ed7953\"],[0.7777777777777778,\"#fb9f3a\"],[0.8888888888888888,\"#fdca26\"],[1.0,\"#f0f921\"]],\"diverging\":[[0,\"#8e0152\"],[0.1,\"#c51b7d\"],[0.2,\"#de77ae\"],[0.3,\"#f1b6da\"],[0.4,\"#fde0ef\"],[0.5,\"#f7f7f7\"],[0.6,\"#e6f5d0\"],[0.7,\"#b8e186\"],[0.8,\"#7fbc41\"],[0.9,\"#4d9221\"],[1,\"#276419\"]]},\"xaxis\":{\"gridcolor\":\"white\",\"linecolor\":\"white\",\"ticks\":\"\",\"title\":{\"standoff\":15},\"zerolinecolor\":\"white\",\"automargin\":true,\"zerolinewidth\":2},\"yaxis\":{\"gridcolor\":\"white\",\"linecolor\":\"white\",\"ticks\":\"\",\"title\":{\"standoff\":15},\"zerolinecolor\":\"white\",\"automargin\":true,\"zerolinewidth\":2},\"scene\":{\"xaxis\":{\"backgroundcolor\":\"#E5ECF6\",\"gridcolor\":\"white\",\"linecolor\":\"white\",\"showbackground\":true,\"ticks\":\"\",\"zerolinecolor\":\"white\",\"gridwidth\":2},\"yaxis\":{\"backgroundcolor\":\"#E5ECF6\",\"gridcolor\":\"white\",\"linecolor\":\"white\",\"showbackground\":true,\"ticks\":\"\",\"zerolinecolor\":\"white\",\"gridwidth\":2},\"zaxis\":{\"backgroundcolor\":\"#E5ECF6\",\"gridcolor\":\"white\",\"linecolor\":\"white\",\"showbackground\":true,\"ticks\":\"\",\"zerolinecolor\":\"white\",\"gridwidth\":2}},\"shapedefaults\":{\"line\":{\"color\":\"#2a3f5f\"}},\"annotationdefaults\":{\"arrowcolor\":\"#2a3f5f\",\"arrowhead\":0,\"arrowwidth\":1},\"geo\":{\"bgcolor\":\"white\",\"landcolor\":\"#E5ECF6\",\"subunitcolor\":\"white\",\"showland\":true,\"showlakes\":true,\"lakecolor\":\"white\"},\"title\":{\"x\":0.05},\"mapbox\":{\"style\":\"light\"}}},\"xaxis\":{\"anchor\":\"y\",\"domain\":[0.0,1.0],\"scaleanchor\":\"y\",\"constrain\":\"domain\",\"tickangle\":-45,\"title\":{\"text\":\"Position\"}},\"yaxis\":{\"anchor\":\"x\",\"domain\":[0.0,1.0],\"autorange\":\"reversed\",\"constrain\":\"domain\",\"title\":{\"text\":\"Layer\"}},\"coloraxis\":{\"colorscale\":[[0.0,\"rgb(103,0,31)\"],[0.1,\"rgb(178,24,43)\"],[0.2,\"rgb(214,96,77)\"],[0.3,\"rgb(244,165,130)\"],[0.4,\"rgb(253,219,199)\"],[0.5,\"rgb(247,247,247)\"],[0.6,\"rgb(209,229,240)\"],[0.7,\"rgb(146,197,222)\"],[0.8,\"rgb(67,147,195)\"],[0.9,\"rgb(33,102,172)\"],[1.0,\"rgb(5,48,97)\"]],\"cmid\":0.0},\"title\":{\"text\":\"Patching Over Position\"},\"width\":1200},                        {\"responsive\": true}                    ).then(function(){\n",
              "                            \n",
              "var gd = document.getElementById('628005be-94e5-4c16-a0bd-fd18df642144');\n",
              "var x = new MutationObserver(function (mutations, observer) {{\n",
              "        var display = window.getComputedStyle(gd).display;\n",
              "        if (!display || display === 'none') {{\n",
              "            console.log([gd, 'removed!']);\n",
              "            Plotly.purge(gd);\n",
              "            observer.disconnect();\n",
              "        }}\n",
              "}});\n",
              "\n",
              "// Listen for the removal of the full notebook cells\n",
              "var notebookContainer = gd.closest('#notebook-container');\n",
              "if (notebookContainer) {{\n",
              "    x.observe(notebookContainer, {childList: true});\n",
              "}}\n",
              "\n",
              "// Listen for the clearing of the current output cell\n",
              "var outputEl = gd.closest('.output');\n",
              "if (outputEl) {{\n",
              "    x.observe(outputEl, {childList: true});\n",
              "}}\n",
              "\n",
              "                        })                };                });            </script>        </div>"
            ]
          },
          "metadata": {},
          "output_type": "display_data"
        }
      ],
      "source": [
        "patching_results = []\n",
        "\n",
        "for corrupted_grad, corrupted, clean in zip(\n",
        "    corrupted_residual_grads, corrupted_residual_out, clean_residual_out\n",
        "):\n",
        "\n",
        "    residual_attr = einops.reduce(\n",
        "        (corrupted_grad.value) * (clean.value - corrupted.value),\n",
        "        \"batch pos dim -> pos\",\n",
        "        \"sum\",\n",
        "    )\n",
        "\n",
        "    patching_results.append(\n",
        "        residual_attr.detach().cpu().numpy()\n",
        "    )\n",
        "\n",
        "token_labels = [f\"{i}. {model.tokenizer.decode(clean_tokens[0][i])}\" for i in range(len(clean_tokens[0]))]\n",
        "\n",
        "fig = px.imshow(\n",
        "    patching_results,\n",
        "    color_continuous_scale=\"RdBu\",\n",
        "    color_continuous_midpoint=0.0,\n",
        "    title=\"Patching Over Position\",\n",
        "    # replace x axis with tokens at position\n",
        "    x=token_labels\n",
        ")\n",
        "\n",
        "fig.update_layout(\n",
        "    # rotate x axis labels\n",
        "    xaxis_tickangle=-45,\n",
        "    xaxis_title=\"Position\",\n",
        "    yaxis_title=\"Layer\",\n",
        "    width=1200,\n",
        ")\n",
        "\n",
        "fig.show()"
      ]
    },
    {
      "cell_type": "code",
      "execution_count": 92,
      "metadata": {},
      "outputs": [
        {
          "name": "stderr",
          "output_type": "stream",
          "text": [
            "Layer loop:   0%|                                                                                                        | 0/32 [00:00<?, ?it/s]\n"
          ]
        },
        {
          "ename": "AttributeError",
          "evalue": "type object '_empty' has no attribute 'shape'",
          "output_type": "error",
          "traceback": [
            "\u001b[0;31m---------------------------------------------------------------------------\u001b[0m",
            "\u001b[0;31mAttributeError\u001b[0m                            Traceback (most recent call last)",
            "Cell \u001b[0;32mIn[92], line 24\u001b[0m\n\u001b[1;32m     21\u001b[0m \u001b[38;5;28;01mfor\u001b[39;00m token_idx \u001b[38;5;129;01min\u001b[39;00m \u001b[38;5;28mrange\u001b[39m(clean_tokens\u001b[38;5;241m.\u001b[39mshape[\u001b[38;5;241m1\u001b[39m]):\n\u001b[1;32m     22\u001b[0m     \u001b[38;5;66;03m# Patching corrupted run at given layer and token\u001b[39;00m\n\u001b[1;32m     23\u001b[0m     \u001b[38;5;28;01mwith\u001b[39;00m torch\u001b[38;5;241m.\u001b[39mno_grad():\n\u001b[0;32m---> 24\u001b[0m         \u001b[38;5;28;01mwith\u001b[39;00m model\u001b[38;5;241m.\u001b[39mtrace() \u001b[38;5;28;01mas\u001b[39;00m tracer:\n\u001b[1;32m     25\u001b[0m             \u001b[38;5;28;01mwith\u001b[39;00m tracer\u001b[38;5;241m.\u001b[39minvoke(corrupted_tokens) \u001b[38;5;28;01mas\u001b[39;00m invoker:\n\u001b[1;32m     26\u001b[0m                 \u001b[38;5;66;03m# Apply the patch from the clean hidden states to the corrupted hidden states.\u001b[39;00m\n\u001b[1;32m     27\u001b[0m                 model\u001b[38;5;241m.\u001b[39mmodel\u001b[38;5;241m.\u001b[39mlayers[layer_idx]\u001b[38;5;241m.\u001b[39moutput[\u001b[38;5;241m0\u001b[39m]\u001b[38;5;241m.\u001b[39mt[token_idx] \u001b[38;5;241m=\u001b[39m clean_hs[layer_idx][\u001b[38;5;241m.\u001b[39m\u001b[38;5;241m.\u001b[39m\u001b[38;5;241m.\u001b[39m, token_idx, :]\n",
            "File \u001b[0;32m~/projects/myenv/lib/python3.10/site-packages/nnsight/contexts/Tracer.py:102\u001b[0m, in \u001b[0;36mTracer.__exit__\u001b[0;34m(self, exc_type, exc_val, exc_tb)\u001b[0m\n\u001b[1;32m     97\u001b[0m     \u001b[38;5;28mself\u001b[39m\u001b[38;5;241m.\u001b[39minvoker\u001b[38;5;241m.\u001b[39m\u001b[38;5;21m__exit__\u001b[39m(\u001b[38;5;28;01mNone\u001b[39;00m, \u001b[38;5;28;01mNone\u001b[39;00m, \u001b[38;5;28;01mNone\u001b[39;00m)\n\u001b[1;32m     99\u001b[0m \u001b[38;5;28mself\u001b[39m\u001b[38;5;241m.\u001b[39mmodel\u001b[38;5;241m.\u001b[39m_envoy\u001b[38;5;241m.\u001b[39m_reset()\n\u001b[0;32m--> 102\u001b[0m \u001b[38;5;28;43msuper\u001b[39;49m\u001b[43m(\u001b[49m\u001b[43m)\u001b[49m\u001b[38;5;241;43m.\u001b[39;49m\u001b[38;5;21;43m__exit__\u001b[39;49m\u001b[43m(\u001b[49m\u001b[43mexc_type\u001b[49m\u001b[43m,\u001b[49m\u001b[43m \u001b[49m\u001b[43mexc_val\u001b[49m\u001b[43m,\u001b[49m\u001b[43m \u001b[49m\u001b[43mexc_tb\u001b[49m\u001b[43m)\u001b[49m\n",
            "File \u001b[0;32m~/projects/myenv/lib/python3.10/site-packages/nnsight/contexts/GraphBasedContext.py:215\u001b[0m, in \u001b[0;36mGraphBasedContext.__exit__\u001b[0;34m(self, exc_type, exc_val, exc_tb)\u001b[0m\n\u001b[1;32m    213\u001b[0m     \u001b[38;5;28mself\u001b[39m\u001b[38;5;241m.\u001b[39mgraph\u001b[38;5;241m.\u001b[39malive \u001b[38;5;241m=\u001b[39m \u001b[38;5;28;01mFalse\u001b[39;00m\n\u001b[1;32m    214\u001b[0m     \u001b[38;5;28mself\u001b[39m\u001b[38;5;241m.\u001b[39mgraph \u001b[38;5;241m=\u001b[39m \u001b[38;5;28;01mNone\u001b[39;00m\n\u001b[0;32m--> 215\u001b[0m     \u001b[38;5;28;01mraise\u001b[39;00m exc_val\n\u001b[1;32m    217\u001b[0m \u001b[38;5;28mself\u001b[39m\u001b[38;5;241m.\u001b[39mbackend(\u001b[38;5;28mself\u001b[39m)\n",
            "Cell \u001b[0;32mIn[92], line 25\u001b[0m\n\u001b[1;32m     23\u001b[0m \u001b[38;5;28;01mwith\u001b[39;00m torch\u001b[38;5;241m.\u001b[39mno_grad():\n\u001b[1;32m     24\u001b[0m     \u001b[38;5;28;01mwith\u001b[39;00m model\u001b[38;5;241m.\u001b[39mtrace() \u001b[38;5;28;01mas\u001b[39;00m tracer:\n\u001b[0;32m---> 25\u001b[0m         \u001b[38;5;28;01mwith\u001b[39;00m tracer\u001b[38;5;241m.\u001b[39minvoke(corrupted_tokens) \u001b[38;5;28;01mas\u001b[39;00m invoker:\n\u001b[1;32m     26\u001b[0m             \u001b[38;5;66;03m# Apply the patch from the clean hidden states to the corrupted hidden states.\u001b[39;00m\n\u001b[1;32m     27\u001b[0m             model\u001b[38;5;241m.\u001b[39mmodel\u001b[38;5;241m.\u001b[39mlayers[layer_idx]\u001b[38;5;241m.\u001b[39moutput[\u001b[38;5;241m0\u001b[39m]\u001b[38;5;241m.\u001b[39mt[token_idx] \u001b[38;5;241m=\u001b[39m clean_hs[layer_idx][\u001b[38;5;241m.\u001b[39m\u001b[38;5;241m.\u001b[39m\u001b[38;5;241m.\u001b[39m, token_idx, :]\n\u001b[1;32m     29\u001b[0m             patched_logits \u001b[38;5;241m=\u001b[39m model\u001b[38;5;241m.\u001b[39mlm_head\u001b[38;5;241m.\u001b[39moutput\u001b[38;5;241m.\u001b[39mcpu()\u001b[38;5;241m.\u001b[39msave()\n",
            "File \u001b[0;32m~/projects/myenv/lib/python3.10/site-packages/nnsight/contexts/Invoker.py:134\u001b[0m, in \u001b[0;36mInvoker.__exit__\u001b[0;34m(self, exc_type, exc_val, exc_tb)\u001b[0m\n\u001b[1;32m    131\u001b[0m \u001b[38;5;28mself\u001b[39m\u001b[38;5;241m.\u001b[39mtracer\u001b[38;5;241m.\u001b[39minvoker \u001b[38;5;241m=\u001b[39m \u001b[38;5;28;01mNone\u001b[39;00m\n\u001b[1;32m    133\u001b[0m \u001b[38;5;28;01mif\u001b[39;00m \u001b[38;5;28misinstance\u001b[39m(exc_val, \u001b[38;5;167;01mBaseException\u001b[39;00m):\n\u001b[0;32m--> 134\u001b[0m     \u001b[38;5;28;01mraise\u001b[39;00m exc_val\n",
            "Cell \u001b[0;32mIn[92], line 27\u001b[0m\n\u001b[1;32m     24\u001b[0m \u001b[38;5;28;01mwith\u001b[39;00m model\u001b[38;5;241m.\u001b[39mtrace() \u001b[38;5;28;01mas\u001b[39;00m tracer:\n\u001b[1;32m     25\u001b[0m     \u001b[38;5;28;01mwith\u001b[39;00m tracer\u001b[38;5;241m.\u001b[39minvoke(corrupted_tokens) \u001b[38;5;28;01mas\u001b[39;00m invoker:\n\u001b[1;32m     26\u001b[0m         \u001b[38;5;66;03m# Apply the patch from the clean hidden states to the corrupted hidden states.\u001b[39;00m\n\u001b[0;32m---> 27\u001b[0m         \u001b[43mmodel\u001b[49m\u001b[38;5;241;43m.\u001b[39;49m\u001b[43mmodel\u001b[49m\u001b[38;5;241;43m.\u001b[39;49m\u001b[43mlayers\u001b[49m\u001b[43m[\u001b[49m\u001b[43mlayer_idx\u001b[49m\u001b[43m]\u001b[49m\u001b[38;5;241;43m.\u001b[39;49m\u001b[43moutput\u001b[49m\u001b[43m[\u001b[49m\u001b[38;5;241;43m0\u001b[39;49m\u001b[43m]\u001b[49m\u001b[38;5;241;43m.\u001b[39;49m\u001b[43mt\u001b[49m\u001b[43m[\u001b[49m\u001b[43mtoken_idx\u001b[49m\u001b[43m]\u001b[49m \u001b[38;5;241m=\u001b[39m clean_hs[layer_idx][\u001b[38;5;241m.\u001b[39m\u001b[38;5;241m.\u001b[39m\u001b[38;5;241m.\u001b[39m, token_idx, :]\n\u001b[1;32m     29\u001b[0m         patched_logits \u001b[38;5;241m=\u001b[39m model\u001b[38;5;241m.\u001b[39mlm_head\u001b[38;5;241m.\u001b[39moutput\u001b[38;5;241m.\u001b[39mcpu()\u001b[38;5;241m.\u001b[39msave()\n\u001b[1;32m     30\u001b[0m         patched_result \u001b[38;5;241m=\u001b[39m ioi_metric(patched_logits)\u001b[38;5;241m.\u001b[39mitem()\u001b[38;5;241m.\u001b[39msave()\n",
            "File \u001b[0;32m~/projects/myenv/lib/python3.10/site-packages/nnsight/models/LanguageModel.py:54\u001b[0m, in \u001b[0;36mTokenIndexer.__setitem__\u001b[0;34m(self, key, value)\u001b[0m\n\u001b[1;32m     53\u001b[0m \u001b[38;5;28;01mdef\u001b[39;00m \u001b[38;5;21m__setitem__\u001b[39m(\u001b[38;5;28mself\u001b[39m, key: \u001b[38;5;28mint\u001b[39m, value: Union[LanguageModelProxy, Any]) \u001b[38;5;241m-\u001b[39m\u001b[38;5;241m>\u001b[39m \u001b[38;5;28;01mNone\u001b[39;00m:\n\u001b[0;32m---> 54\u001b[0m     key \u001b[38;5;241m=\u001b[39m \u001b[38;5;28;43mself\u001b[39;49m\u001b[38;5;241;43m.\u001b[39;49m\u001b[43mconvert_idx\u001b[49m\u001b[43m(\u001b[49m\u001b[43mkey\u001b[49m\u001b[43m)\u001b[49m\n\u001b[1;32m     56\u001b[0m     \u001b[38;5;28mself\u001b[39m\u001b[38;5;241m.\u001b[39mproxy[:, key] \u001b[38;5;241m=\u001b[39m value\n",
            "File \u001b[0;32m~/projects/myenv/lib/python3.10/site-packages/nnsight/models/LanguageModel.py:43\u001b[0m, in \u001b[0;36mTokenIndexer.convert_idx\u001b[0;34m(self, idx)\u001b[0m\n\u001b[1;32m     41\u001b[0m \u001b[38;5;28;01mdef\u001b[39;00m \u001b[38;5;21mconvert_idx\u001b[39m(\u001b[38;5;28mself\u001b[39m, idx: \u001b[38;5;28mint\u001b[39m):\n\u001b[1;32m     42\u001b[0m     \u001b[38;5;28;01mif\u001b[39;00m idx \u001b[38;5;241m>\u001b[39m\u001b[38;5;241m=\u001b[39m \u001b[38;5;241m0\u001b[39m:\n\u001b[0;32m---> 43\u001b[0m         n_tokens \u001b[38;5;241m=\u001b[39m \u001b[38;5;28;43mself\u001b[39;49m\u001b[38;5;241;43m.\u001b[39;49m\u001b[43mproxy\u001b[49m\u001b[38;5;241;43m.\u001b[39;49m\u001b[43mnode\u001b[49m\u001b[38;5;241;43m.\u001b[39;49m\u001b[43mproxy_value\u001b[49m\u001b[38;5;241;43m.\u001b[39;49m\u001b[43mshape\u001b[49m[\u001b[38;5;241m1\u001b[39m]\n\u001b[1;32m     44\u001b[0m         idx \u001b[38;5;241m=\u001b[39m \u001b[38;5;241m-\u001b[39m(n_tokens \u001b[38;5;241m-\u001b[39m idx)\n\u001b[1;32m     46\u001b[0m     \u001b[38;5;28;01mreturn\u001b[39;00m idx\n",
            "\u001b[0;31mAttributeError\u001b[0m: type object '_empty' has no attribute 'shape'"
          ]
        }
      ],
      "source": [
        "from tqdm import trange\n",
        "from nnsight import util\n",
        "from nnsight.tracing.Proxy import Proxy\n",
        "\n",
        "N_LAYERS = len(model.model.layers)\n",
        "\n",
        "with torch.no_grad():\n",
        "    with model.trace() as tracer:\n",
        "        with tracer.invoke(clean_tokens) as invoker:\n",
        "            clean_hs = [\n",
        "                model.model.layers[layer_idx].output[0].save()\n",
        "                for layer_idx in range(N_LAYERS)\n",
        "            ]\n",
        "\n",
        "# fetch actual values from the proxy objects\n",
        "clean_hs = util.apply(clean_hs, lambda x: x.value, Proxy)\n",
        "\n",
        "patching_results = []\n",
        "for layer_idx in trange(N_LAYERS, desc=\"Layer loop\"):\n",
        "    _patching_results = []\n",
        "    for token_idx in range(clean_tokens.shape[1]):\n",
        "        # Patching corrupted run at given layer and token\n",
        "        with torch.no_grad():\n",
        "            with model.trace() as tracer:\n",
        "                with tracer.invoke(corrupted_tokens) as invoker:\n",
        "                    # Apply the patch from the clean hidden states to the corrupted hidden states.\n",
        "                    model.model.layers[layer_idx].output[0].t[token_idx] = clean_hs[layer_idx][..., token_idx, :]\n",
        "\n",
        "                    patched_logits = model.lm_head.output.cpu().save()\n",
        "                    patched_result = ioi_metric(patched_logits).item().save()\n",
        "                _patching_results.append(patched_result)\n",
        "    patching_results.append(_patching_results)"
      ]
    },
    {
      "cell_type": "code",
      "execution_count": 61,
      "metadata": {},
      "outputs": [
        {
          "ename": "ValueError",
          "evalue": "zero-size array to reduction operation maximum which has no identity",
          "output_type": "error",
          "traceback": [
            "\u001b[0;31m---------------------------------------------------------------------------\u001b[0m",
            "\u001b[0;31mValueError\u001b[0m                                Traceback (most recent call last)",
            "Cell \u001b[0;32mIn[61], line 8\u001b[0m\n\u001b[1;32m      4\u001b[0m patching_results \u001b[38;5;241m=\u001b[39m util\u001b[38;5;241m.\u001b[39mapply(patching_results, \u001b[38;5;28;01mlambda\u001b[39;00m x: x\u001b[38;5;241m.\u001b[39mvalue, Proxy)\n\u001b[1;32m      6\u001b[0m token_labels \u001b[38;5;241m=\u001b[39m [\u001b[38;5;124mf\u001b[39m\u001b[38;5;124m\"\u001b[39m\u001b[38;5;132;01m{\u001b[39;00mi\u001b[38;5;132;01m}\u001b[39;00m\u001b[38;5;124m. \u001b[39m\u001b[38;5;132;01m{\u001b[39;00mmodel\u001b[38;5;241m.\u001b[39mtokenizer\u001b[38;5;241m.\u001b[39mdecode(clean_tokens[\u001b[38;5;241m0\u001b[39m][i])\u001b[38;5;132;01m}\u001b[39;00m\u001b[38;5;124m\"\u001b[39m \u001b[38;5;28;01mfor\u001b[39;00m i \u001b[38;5;129;01min\u001b[39;00m \u001b[38;5;28mrange\u001b[39m(\u001b[38;5;28mlen\u001b[39m(clean_tokens[\u001b[38;5;241m0\u001b[39m]))]\n\u001b[0;32m----> 8\u001b[0m fig \u001b[38;5;241m=\u001b[39m \u001b[43mpx\u001b[49m\u001b[38;5;241;43m.\u001b[39;49m\u001b[43mimshow\u001b[49m\u001b[43m(\u001b[49m\n\u001b[1;32m      9\u001b[0m \u001b[43m    \u001b[49m\u001b[43mpatching_results\u001b[49m\u001b[43m,\u001b[49m\n\u001b[1;32m     10\u001b[0m \u001b[43m    \u001b[49m\u001b[43mcolor_continuous_scale\u001b[49m\u001b[38;5;241;43m=\u001b[39;49m\u001b[38;5;124;43m\"\u001b[39;49m\u001b[38;5;124;43mRdBu\u001b[39;49m\u001b[38;5;124;43m\"\u001b[39;49m\u001b[43m,\u001b[49m\n\u001b[1;32m     11\u001b[0m \u001b[43m    \u001b[49m\u001b[43mcolor_continuous_midpoint\u001b[49m\u001b[38;5;241;43m=\u001b[39;49m\u001b[38;5;241;43m0.0\u001b[39;49m\u001b[43m,\u001b[49m\n\u001b[1;32m     12\u001b[0m \u001b[43m    \u001b[49m\u001b[43mtitle\u001b[49m\u001b[38;5;241;43m=\u001b[39;49m\u001b[38;5;124;43m\"\u001b[39;49m\u001b[38;5;124;43mPatching Over Position\u001b[39;49m\u001b[38;5;124;43m\"\u001b[39;49m\u001b[43m,\u001b[49m\n\u001b[1;32m     13\u001b[0m \u001b[43m    \u001b[49m\u001b[38;5;66;43;03m# replace x axis with tokens at position\u001b[39;49;00m\n\u001b[1;32m     14\u001b[0m \u001b[43m    \u001b[49m\u001b[43mx\u001b[49m\u001b[38;5;241;43m=\u001b[39;49m\u001b[43mtoken_labels\u001b[49m\n\u001b[1;32m     15\u001b[0m \u001b[43m)\u001b[49m\n\u001b[1;32m     17\u001b[0m fig\u001b[38;5;241m.\u001b[39mupdate_layout(\n\u001b[1;32m     18\u001b[0m     \u001b[38;5;66;03m# rotate x axis labels\u001b[39;00m\n\u001b[1;32m     19\u001b[0m     xaxis_tickangle\u001b[38;5;241m=\u001b[39m\u001b[38;5;241m-\u001b[39m\u001b[38;5;241m45\u001b[39m,\n\u001b[1;32m     20\u001b[0m     xaxis_title\u001b[38;5;241m=\u001b[39m\u001b[38;5;124m\"\u001b[39m\u001b[38;5;124mPosition\u001b[39m\u001b[38;5;124m\"\u001b[39m,\n\u001b[1;32m     21\u001b[0m     yaxis_title\u001b[38;5;241m=\u001b[39m\u001b[38;5;124m\"\u001b[39m\u001b[38;5;124mLayer\u001b[39m\u001b[38;5;124m\"\u001b[39m\n\u001b[1;32m     22\u001b[0m )\n\u001b[1;32m     24\u001b[0m fig\u001b[38;5;241m.\u001b[39mshow()\n",
            "File \u001b[0;32m~/projects/myenv/lib/python3.10/site-packages/plotly/express/_imshow.py:379\u001b[0m, in \u001b[0;36mimshow\u001b[0;34m(img, zmin, zmax, origin, labels, x, y, animation_frame, facet_col, facet_col_wrap, facet_col_spacing, facet_row_spacing, color_continuous_scale, color_continuous_midpoint, range_color, title, template, width, height, aspect, contrast_rescaling, binary_string, binary_backend, binary_compression_level, binary_format, text_auto)\u001b[0m\n\u001b[1;32m    376\u001b[0m \u001b[38;5;28;01melse\u001b[39;00m:\n\u001b[1;32m    377\u001b[0m     \u001b[38;5;66;03m# For uint8 data and infer we let zmin and zmax to be None if passed as None\u001b[39;00m\n\u001b[1;32m    378\u001b[0m     \u001b[38;5;28;01mif\u001b[39;00m zmax \u001b[38;5;129;01mis\u001b[39;00m \u001b[38;5;28;01mNone\u001b[39;00m \u001b[38;5;129;01mand\u001b[39;00m img\u001b[38;5;241m.\u001b[39mdtype \u001b[38;5;241m!=\u001b[39m np\u001b[38;5;241m.\u001b[39muint8:\n\u001b[0;32m--> 379\u001b[0m         zmax \u001b[38;5;241m=\u001b[39m \u001b[43m_infer_zmax_from_type\u001b[49m\u001b[43m(\u001b[49m\u001b[43mimg\u001b[49m\u001b[43m)\u001b[49m\n\u001b[1;32m    380\u001b[0m     \u001b[38;5;28;01mif\u001b[39;00m zmin \u001b[38;5;129;01mis\u001b[39;00m \u001b[38;5;28;01mNone\u001b[39;00m \u001b[38;5;129;01mand\u001b[39;00m zmax \u001b[38;5;129;01mis\u001b[39;00m \u001b[38;5;129;01mnot\u001b[39;00m \u001b[38;5;28;01mNone\u001b[39;00m:\n\u001b[1;32m    381\u001b[0m         zmin \u001b[38;5;241m=\u001b[39m \u001b[38;5;241m0\u001b[39m\n",
            "File \u001b[0;32m~/projects/myenv/lib/python3.10/site-packages/plotly/express/_imshow.py:45\u001b[0m, in \u001b[0;36m_infer_zmax_from_type\u001b[0;34m(img)\u001b[0m\n\u001b[1;32m     43\u001b[0m     \u001b[38;5;28;01mreturn\u001b[39;00m _integer_ranges[dt][\u001b[38;5;241m1\u001b[39m]\n\u001b[1;32m     44\u001b[0m \u001b[38;5;28;01melse\u001b[39;00m:\n\u001b[0;32m---> 45\u001b[0m     im_max \u001b[38;5;241m=\u001b[39m \u001b[43mimg\u001b[49m\u001b[43m[\u001b[49m\u001b[43mnp\u001b[49m\u001b[38;5;241;43m.\u001b[39;49m\u001b[43misfinite\u001b[49m\u001b[43m(\u001b[49m\u001b[43mimg\u001b[49m\u001b[43m)\u001b[49m\u001b[43m]\u001b[49m\u001b[38;5;241;43m.\u001b[39;49m\u001b[43mmax\u001b[49m\u001b[43m(\u001b[49m\u001b[43m)\u001b[49m\n\u001b[1;32m     46\u001b[0m     \u001b[38;5;28;01mif\u001b[39;00m im_max \u001b[38;5;241m<\u001b[39m\u001b[38;5;241m=\u001b[39m \u001b[38;5;241m1\u001b[39m \u001b[38;5;241m*\u001b[39m rtol:\n\u001b[1;32m     47\u001b[0m         \u001b[38;5;28;01mreturn\u001b[39;00m \u001b[38;5;241m1\u001b[39m\n",
            "File \u001b[0;32m~/projects/myenv/lib/python3.10/site-packages/numpy/core/_methods.py:41\u001b[0m, in \u001b[0;36m_amax\u001b[0;34m(a, axis, out, keepdims, initial, where)\u001b[0m\n\u001b[1;32m     39\u001b[0m \u001b[38;5;28;01mdef\u001b[39;00m \u001b[38;5;21m_amax\u001b[39m(a, axis\u001b[38;5;241m=\u001b[39m\u001b[38;5;28;01mNone\u001b[39;00m, out\u001b[38;5;241m=\u001b[39m\u001b[38;5;28;01mNone\u001b[39;00m, keepdims\u001b[38;5;241m=\u001b[39m\u001b[38;5;28;01mFalse\u001b[39;00m,\n\u001b[1;32m     40\u001b[0m           initial\u001b[38;5;241m=\u001b[39m_NoValue, where\u001b[38;5;241m=\u001b[39m\u001b[38;5;28;01mTrue\u001b[39;00m):\n\u001b[0;32m---> 41\u001b[0m     \u001b[38;5;28;01mreturn\u001b[39;00m \u001b[43mumr_maximum\u001b[49m\u001b[43m(\u001b[49m\u001b[43ma\u001b[49m\u001b[43m,\u001b[49m\u001b[43m \u001b[49m\u001b[43maxis\u001b[49m\u001b[43m,\u001b[49m\u001b[43m \u001b[49m\u001b[38;5;28;43;01mNone\u001b[39;49;00m\u001b[43m,\u001b[49m\u001b[43m \u001b[49m\u001b[43mout\u001b[49m\u001b[43m,\u001b[49m\u001b[43m \u001b[49m\u001b[43mkeepdims\u001b[49m\u001b[43m,\u001b[49m\u001b[43m \u001b[49m\u001b[43minitial\u001b[49m\u001b[43m,\u001b[49m\u001b[43m \u001b[49m\u001b[43mwhere\u001b[49m\u001b[43m)\u001b[49m\n",
            "\u001b[0;31mValueError\u001b[0m: zero-size array to reduction operation maximum which has no identity"
          ]
        }
      ],
      "source": [
        "from nnsight import util\n",
        "from nnsight.tracing.Proxy import Proxy\n",
        "\n",
        "patching_results = util.apply(patching_results, lambda x: x.value, Proxy)\n",
        "\n",
        "token_labels = [f\"{i}. {model.tokenizer.decode(clean_tokens[0][i])}\" for i in range(len(clean_tokens[0]))]\n",
        "\n",
        "fig = px.imshow(\n",
        "    patching_results,\n",
        "    color_continuous_scale=\"RdBu\",\n",
        "    color_continuous_midpoint=0.0,\n",
        "    title=\"Patching Over Position\",\n",
        "    # replace x axis with tokens at position\n",
        "    x=token_labels\n",
        ")\n",
        "\n",
        "fig.update_layout(\n",
        "    # rotate x axis labels\n",
        "    xaxis_tickangle=-45,\n",
        "    xaxis_title=\"Position\",\n",
        "    yaxis_title=\"Layer\"\n",
        ")\n",
        "\n",
        "fig.show()"
      ]
    },
    {
      "cell_type": "markdown",
      "metadata": {
        "id": "XWABawvT86pI"
      },
      "source": [
        "## Generation Activation Patching"
      ]
    }
  ],
  "metadata": {
    "accelerator": "GPU",
    "colab": {
      "gpuType": "T4",
      "provenance": [],
      "toc_visible": true
    },
    "kernelspec": {
      "display_name": "Python (myenv)",
      "language": "python",
      "name": "myenv"
    },
    "widgets": {
      "application/vnd.jupyter.widget-state+json": {
        "042b39d3b4ea4195b92fca97832fa19c": {
          "model_module": "@jupyter-widgets/base",
          "model_module_version": "1.2.0",
          "model_name": "LayoutModel",
          "state": {
            "_model_module": "@jupyter-widgets/base",
            "_model_module_version": "1.2.0",
            "_model_name": "LayoutModel",
            "_view_count": null,
            "_view_module": "@jupyter-widgets/base",
            "_view_module_version": "1.2.0",
            "_view_name": "LayoutView",
            "align_content": null,
            "align_items": null,
            "align_self": null,
            "border": null,
            "bottom": null,
            "display": null,
            "flex": null,
            "flex_flow": null,
            "grid_area": null,
            "grid_auto_columns": null,
            "grid_auto_flow": null,
            "grid_auto_rows": null,
            "grid_column": null,
            "grid_gap": null,
            "grid_row": null,
            "grid_template_areas": null,
            "grid_template_columns": null,
            "grid_template_rows": null,
            "height": null,
            "justify_content": null,
            "justify_items": null,
            "left": null,
            "margin": null,
            "max_height": null,
            "max_width": null,
            "min_height": null,
            "min_width": null,
            "object_fit": null,
            "object_position": null,
            "order": null,
            "overflow": null,
            "overflow_x": null,
            "overflow_y": null,
            "padding": null,
            "right": null,
            "top": null,
            "visibility": null,
            "width": null
          }
        },
        "075f4410ef0044458170e0f366b2746c": {
          "model_module": "@jupyter-widgets/base",
          "model_module_version": "1.2.0",
          "model_name": "LayoutModel",
          "state": {
            "_model_module": "@jupyter-widgets/base",
            "_model_module_version": "1.2.0",
            "_model_name": "LayoutModel",
            "_view_count": null,
            "_view_module": "@jupyter-widgets/base",
            "_view_module_version": "1.2.0",
            "_view_name": "LayoutView",
            "align_content": null,
            "align_items": null,
            "align_self": null,
            "border": null,
            "bottom": null,
            "display": null,
            "flex": null,
            "flex_flow": null,
            "grid_area": null,
            "grid_auto_columns": null,
            "grid_auto_flow": null,
            "grid_auto_rows": null,
            "grid_column": null,
            "grid_gap": null,
            "grid_row": null,
            "grid_template_areas": null,
            "grid_template_columns": null,
            "grid_template_rows": null,
            "height": null,
            "justify_content": null,
            "justify_items": null,
            "left": null,
            "margin": null,
            "max_height": null,
            "max_width": null,
            "min_height": null,
            "min_width": null,
            "object_fit": null,
            "object_position": null,
            "order": null,
            "overflow": null,
            "overflow_x": null,
            "overflow_y": null,
            "padding": null,
            "right": null,
            "top": null,
            "visibility": null,
            "width": null
          }
        },
        "07fb057e62cd4d1f8a6e700cbff9e67c": {
          "model_module": "@jupyter-widgets/base",
          "model_module_version": "1.2.0",
          "model_name": "LayoutModel",
          "state": {
            "_model_module": "@jupyter-widgets/base",
            "_model_module_version": "1.2.0",
            "_model_name": "LayoutModel",
            "_view_count": null,
            "_view_module": "@jupyter-widgets/base",
            "_view_module_version": "1.2.0",
            "_view_name": "LayoutView",
            "align_content": null,
            "align_items": null,
            "align_self": null,
            "border": null,
            "bottom": null,
            "display": null,
            "flex": null,
            "flex_flow": null,
            "grid_area": null,
            "grid_auto_columns": null,
            "grid_auto_flow": null,
            "grid_auto_rows": null,
            "grid_column": null,
            "grid_gap": null,
            "grid_row": null,
            "grid_template_areas": null,
            "grid_template_columns": null,
            "grid_template_rows": null,
            "height": null,
            "justify_content": null,
            "justify_items": null,
            "left": null,
            "margin": null,
            "max_height": null,
            "max_width": null,
            "min_height": null,
            "min_width": null,
            "object_fit": null,
            "object_position": null,
            "order": null,
            "overflow": null,
            "overflow_x": null,
            "overflow_y": null,
            "padding": null,
            "right": null,
            "top": null,
            "visibility": null,
            "width": null
          }
        },
        "08e8093513454e088875484a30b2c58f": {
          "model_module": "@jupyter-widgets/base",
          "model_module_version": "1.2.0",
          "model_name": "LayoutModel",
          "state": {
            "_model_module": "@jupyter-widgets/base",
            "_model_module_version": "1.2.0",
            "_model_name": "LayoutModel",
            "_view_count": null,
            "_view_module": "@jupyter-widgets/base",
            "_view_module_version": "1.2.0",
            "_view_name": "LayoutView",
            "align_content": null,
            "align_items": null,
            "align_self": null,
            "border": null,
            "bottom": null,
            "display": null,
            "flex": null,
            "flex_flow": null,
            "grid_area": null,
            "grid_auto_columns": null,
            "grid_auto_flow": null,
            "grid_auto_rows": null,
            "grid_column": null,
            "grid_gap": null,
            "grid_row": null,
            "grid_template_areas": null,
            "grid_template_columns": null,
            "grid_template_rows": null,
            "height": null,
            "justify_content": null,
            "justify_items": null,
            "left": null,
            "margin": null,
            "max_height": null,
            "max_width": null,
            "min_height": null,
            "min_width": null,
            "object_fit": null,
            "object_position": null,
            "order": null,
            "overflow": null,
            "overflow_x": null,
            "overflow_y": null,
            "padding": null,
            "right": null,
            "top": null,
            "visibility": null,
            "width": null
          }
        },
        "0971ff4e6db64047b06192b839e0254c": {
          "model_module": "@jupyter-widgets/base",
          "model_module_version": "1.2.0",
          "model_name": "LayoutModel",
          "state": {
            "_model_module": "@jupyter-widgets/base",
            "_model_module_version": "1.2.0",
            "_model_name": "LayoutModel",
            "_view_count": null,
            "_view_module": "@jupyter-widgets/base",
            "_view_module_version": "1.2.0",
            "_view_name": "LayoutView",
            "align_content": null,
            "align_items": null,
            "align_self": null,
            "border": null,
            "bottom": null,
            "display": null,
            "flex": null,
            "flex_flow": null,
            "grid_area": null,
            "grid_auto_columns": null,
            "grid_auto_flow": null,
            "grid_auto_rows": null,
            "grid_column": null,
            "grid_gap": null,
            "grid_row": null,
            "grid_template_areas": null,
            "grid_template_columns": null,
            "grid_template_rows": null,
            "height": null,
            "justify_content": null,
            "justify_items": null,
            "left": null,
            "margin": null,
            "max_height": null,
            "max_width": null,
            "min_height": null,
            "min_width": null,
            "object_fit": null,
            "object_position": null,
            "order": null,
            "overflow": null,
            "overflow_x": null,
            "overflow_y": null,
            "padding": null,
            "right": null,
            "top": null,
            "visibility": null,
            "width": null
          }
        },
        "09a8e6612979444a93e200398b22375c": {
          "model_module": "@jupyter-widgets/controls",
          "model_module_version": "1.5.0",
          "model_name": "HTMLModel",
          "state": {
            "_dom_classes": [],
            "_model_module": "@jupyter-widgets/controls",
            "_model_module_version": "1.5.0",
            "_model_name": "HTMLModel",
            "_view_count": null,
            "_view_module": "@jupyter-widgets/controls",
            "_view_module_version": "1.5.0",
            "_view_name": "HTMLView",
            "description": "",
            "description_tooltip": null,
            "layout": "IPY_MODEL_0d64e7e12647408faf2df7068ef58fdf",
            "placeholder": "​",
            "style": "IPY_MODEL_c2381f5c33864e9e8fe5df1bb1ee0cba",
            "value": "tokenizer_config.json: 100%"
          }
        },
        "09bb0826a6fb4e14bdff43c1948ba781": {
          "model_module": "@jupyter-widgets/base",
          "model_module_version": "1.2.0",
          "model_name": "LayoutModel",
          "state": {
            "_model_module": "@jupyter-widgets/base",
            "_model_module_version": "1.2.0",
            "_model_name": "LayoutModel",
            "_view_count": null,
            "_view_module": "@jupyter-widgets/base",
            "_view_module_version": "1.2.0",
            "_view_name": "LayoutView",
            "align_content": null,
            "align_items": null,
            "align_self": null,
            "border": null,
            "bottom": null,
            "display": null,
            "flex": null,
            "flex_flow": null,
            "grid_area": null,
            "grid_auto_columns": null,
            "grid_auto_flow": null,
            "grid_auto_rows": null,
            "grid_column": null,
            "grid_gap": null,
            "grid_row": null,
            "grid_template_areas": null,
            "grid_template_columns": null,
            "grid_template_rows": null,
            "height": null,
            "justify_content": null,
            "justify_items": null,
            "left": null,
            "margin": null,
            "max_height": null,
            "max_width": null,
            "min_height": null,
            "min_width": null,
            "object_fit": null,
            "object_position": null,
            "order": null,
            "overflow": null,
            "overflow_x": null,
            "overflow_y": null,
            "padding": null,
            "right": null,
            "top": null,
            "visibility": null,
            "width": null
          }
        },
        "0d64e7e12647408faf2df7068ef58fdf": {
          "model_module": "@jupyter-widgets/base",
          "model_module_version": "1.2.0",
          "model_name": "LayoutModel",
          "state": {
            "_model_module": "@jupyter-widgets/base",
            "_model_module_version": "1.2.0",
            "_model_name": "LayoutModel",
            "_view_count": null,
            "_view_module": "@jupyter-widgets/base",
            "_view_module_version": "1.2.0",
            "_view_name": "LayoutView",
            "align_content": null,
            "align_items": null,
            "align_self": null,
            "border": null,
            "bottom": null,
            "display": null,
            "flex": null,
            "flex_flow": null,
            "grid_area": null,
            "grid_auto_columns": null,
            "grid_auto_flow": null,
            "grid_auto_rows": null,
            "grid_column": null,
            "grid_gap": null,
            "grid_row": null,
            "grid_template_areas": null,
            "grid_template_columns": null,
            "grid_template_rows": null,
            "height": null,
            "justify_content": null,
            "justify_items": null,
            "left": null,
            "margin": null,
            "max_height": null,
            "max_width": null,
            "min_height": null,
            "min_width": null,
            "object_fit": null,
            "object_position": null,
            "order": null,
            "overflow": null,
            "overflow_x": null,
            "overflow_y": null,
            "padding": null,
            "right": null,
            "top": null,
            "visibility": null,
            "width": null
          }
        },
        "11bd38ecc0284462817aed481dc13179": {
          "model_module": "@jupyter-widgets/base",
          "model_module_version": "1.2.0",
          "model_name": "LayoutModel",
          "state": {
            "_model_module": "@jupyter-widgets/base",
            "_model_module_version": "1.2.0",
            "_model_name": "LayoutModel",
            "_view_count": null,
            "_view_module": "@jupyter-widgets/base",
            "_view_module_version": "1.2.0",
            "_view_name": "LayoutView",
            "align_content": null,
            "align_items": null,
            "align_self": null,
            "border": null,
            "bottom": null,
            "display": null,
            "flex": null,
            "flex_flow": null,
            "grid_area": null,
            "grid_auto_columns": null,
            "grid_auto_flow": null,
            "grid_auto_rows": null,
            "grid_column": null,
            "grid_gap": null,
            "grid_row": null,
            "grid_template_areas": null,
            "grid_template_columns": null,
            "grid_template_rows": null,
            "height": null,
            "justify_content": null,
            "justify_items": null,
            "left": null,
            "margin": null,
            "max_height": null,
            "max_width": null,
            "min_height": null,
            "min_width": null,
            "object_fit": null,
            "object_position": null,
            "order": null,
            "overflow": null,
            "overflow_x": null,
            "overflow_y": null,
            "padding": null,
            "right": null,
            "top": null,
            "visibility": null,
            "width": null
          }
        },
        "11ea8820f811452f8a0774f99f437887": {
          "model_module": "@jupyter-widgets/controls",
          "model_module_version": "1.5.0",
          "model_name": "DescriptionStyleModel",
          "state": {
            "_model_module": "@jupyter-widgets/controls",
            "_model_module_version": "1.5.0",
            "_model_name": "DescriptionStyleModel",
            "_view_count": null,
            "_view_module": "@jupyter-widgets/base",
            "_view_module_version": "1.2.0",
            "_view_name": "StyleView",
            "description_width": ""
          }
        },
        "1de10b56de514645be768a620c5b8887": {
          "model_module": "@jupyter-widgets/base",
          "model_module_version": "1.2.0",
          "model_name": "LayoutModel",
          "state": {
            "_model_module": "@jupyter-widgets/base",
            "_model_module_version": "1.2.0",
            "_model_name": "LayoutModel",
            "_view_count": null,
            "_view_module": "@jupyter-widgets/base",
            "_view_module_version": "1.2.0",
            "_view_name": "LayoutView",
            "align_content": null,
            "align_items": null,
            "align_self": null,
            "border": null,
            "bottom": null,
            "display": null,
            "flex": null,
            "flex_flow": null,
            "grid_area": null,
            "grid_auto_columns": null,
            "grid_auto_flow": null,
            "grid_auto_rows": null,
            "grid_column": null,
            "grid_gap": null,
            "grid_row": null,
            "grid_template_areas": null,
            "grid_template_columns": null,
            "grid_template_rows": null,
            "height": null,
            "justify_content": null,
            "justify_items": null,
            "left": null,
            "margin": null,
            "max_height": null,
            "max_width": null,
            "min_height": null,
            "min_width": null,
            "object_fit": null,
            "object_position": null,
            "order": null,
            "overflow": null,
            "overflow_x": null,
            "overflow_y": null,
            "padding": null,
            "right": null,
            "top": null,
            "visibility": null,
            "width": null
          }
        },
        "21d516b2718a4c13a00102e741c8e6ae": {
          "model_module": "@jupyter-widgets/controls",
          "model_module_version": "1.5.0",
          "model_name": "DescriptionStyleModel",
          "state": {
            "_model_module": "@jupyter-widgets/controls",
            "_model_module_version": "1.5.0",
            "_model_name": "DescriptionStyleModel",
            "_view_count": null,
            "_view_module": "@jupyter-widgets/base",
            "_view_module_version": "1.2.0",
            "_view_name": "StyleView",
            "description_width": ""
          }
        },
        "25c05f1a133840f6a60baa783bf66a52": {
          "model_module": "@jupyter-widgets/base",
          "model_module_version": "1.2.0",
          "model_name": "LayoutModel",
          "state": {
            "_model_module": "@jupyter-widgets/base",
            "_model_module_version": "1.2.0",
            "_model_name": "LayoutModel",
            "_view_count": null,
            "_view_module": "@jupyter-widgets/base",
            "_view_module_version": "1.2.0",
            "_view_name": "LayoutView",
            "align_content": null,
            "align_items": null,
            "align_self": null,
            "border": null,
            "bottom": null,
            "display": null,
            "flex": null,
            "flex_flow": null,
            "grid_area": null,
            "grid_auto_columns": null,
            "grid_auto_flow": null,
            "grid_auto_rows": null,
            "grid_column": null,
            "grid_gap": null,
            "grid_row": null,
            "grid_template_areas": null,
            "grid_template_columns": null,
            "grid_template_rows": null,
            "height": null,
            "justify_content": null,
            "justify_items": null,
            "left": null,
            "margin": null,
            "max_height": null,
            "max_width": null,
            "min_height": null,
            "min_width": null,
            "object_fit": null,
            "object_position": null,
            "order": null,
            "overflow": null,
            "overflow_x": null,
            "overflow_y": null,
            "padding": null,
            "right": null,
            "top": null,
            "visibility": null,
            "width": null
          }
        },
        "2687a59e06dd4d6fb48cc5a74d66f3eb": {
          "model_module": "@jupyter-widgets/controls",
          "model_module_version": "1.5.0",
          "model_name": "DescriptionStyleModel",
          "state": {
            "_model_module": "@jupyter-widgets/controls",
            "_model_module_version": "1.5.0",
            "_model_name": "DescriptionStyleModel",
            "_view_count": null,
            "_view_module": "@jupyter-widgets/base",
            "_view_module_version": "1.2.0",
            "_view_name": "StyleView",
            "description_width": ""
          }
        },
        "29a085635f30450a9971c58e866e4920": {
          "model_module": "@jupyter-widgets/controls",
          "model_module_version": "1.5.0",
          "model_name": "ProgressStyleModel",
          "state": {
            "_model_module": "@jupyter-widgets/controls",
            "_model_module_version": "1.5.0",
            "_model_name": "ProgressStyleModel",
            "_view_count": null,
            "_view_module": "@jupyter-widgets/base",
            "_view_module_version": "1.2.0",
            "_view_name": "StyleView",
            "bar_color": null,
            "description_width": ""
          }
        },
        "2ee5860310c942a18b779bdef3c01c45": {
          "model_module": "@jupyter-widgets/controls",
          "model_module_version": "1.5.0",
          "model_name": "HTMLModel",
          "state": {
            "_dom_classes": [],
            "_model_module": "@jupyter-widgets/controls",
            "_model_module_version": "1.5.0",
            "_model_name": "HTMLModel",
            "_view_count": null,
            "_view_module": "@jupyter-widgets/controls",
            "_view_module_version": "1.5.0",
            "_view_name": "HTMLView",
            "description": "",
            "description_tooltip": null,
            "layout": "IPY_MODEL_731f6166b11b4ca281b59b8e0da8c531",
            "placeholder": "​",
            "style": "IPY_MODEL_21d516b2718a4c13a00102e741c8e6ae",
            "value": "tokenizer.json: 100%"
          }
        },
        "3945251aaee14703b6940c824ad80d9d": {
          "model_module": "@jupyter-widgets/controls",
          "model_module_version": "1.5.0",
          "model_name": "HBoxModel",
          "state": {
            "_dom_classes": [],
            "_model_module": "@jupyter-widgets/controls",
            "_model_module_version": "1.5.0",
            "_model_name": "HBoxModel",
            "_view_count": null,
            "_view_module": "@jupyter-widgets/controls",
            "_view_module_version": "1.5.0",
            "_view_name": "HBoxView",
            "box_style": "",
            "children": [
              "IPY_MODEL_4ae7ec5785af4869baeb139a5ad5a5e4",
              "IPY_MODEL_d86c90d284f84647bd1994b48f971cd6",
              "IPY_MODEL_54b0612b67964e85b69557d592aa02db"
            ],
            "layout": "IPY_MODEL_e9e5f9d150324e4dadd1340bc1fe5c9f"
          }
        },
        "3b83ae423fc74187b4f9bc67c4f54ea4": {
          "model_module": "@jupyter-widgets/controls",
          "model_module_version": "1.5.0",
          "model_name": "DescriptionStyleModel",
          "state": {
            "_model_module": "@jupyter-widgets/controls",
            "_model_module_version": "1.5.0",
            "_model_name": "DescriptionStyleModel",
            "_view_count": null,
            "_view_module": "@jupyter-widgets/base",
            "_view_module_version": "1.2.0",
            "_view_name": "StyleView",
            "description_width": ""
          }
        },
        "3bb8a9f52cb74fc0a508aaed737c3f67": {
          "model_module": "@jupyter-widgets/controls",
          "model_module_version": "1.5.0",
          "model_name": "HTMLModel",
          "state": {
            "_dom_classes": [],
            "_model_module": "@jupyter-widgets/controls",
            "_model_module_version": "1.5.0",
            "_model_name": "HTMLModel",
            "_view_count": null,
            "_view_module": "@jupyter-widgets/controls",
            "_view_module_version": "1.5.0",
            "_view_name": "HTMLView",
            "description": "",
            "description_tooltip": null,
            "layout": "IPY_MODEL_adb1a800939147a4b64e52fcbd0386f4",
            "placeholder": "​",
            "style": "IPY_MODEL_8b0abdcf14174eb48dbb43f6e9dd8b09",
            "value": " 9.09M/9.09M [00:00&lt;00:00, 14.1MB/s]"
          }
        },
        "3be34ab76f7b4f6b96737a8aed2683c1": {
          "model_module": "@jupyter-widgets/base",
          "model_module_version": "1.2.0",
          "model_name": "LayoutModel",
          "state": {
            "_model_module": "@jupyter-widgets/base",
            "_model_module_version": "1.2.0",
            "_model_name": "LayoutModel",
            "_view_count": null,
            "_view_module": "@jupyter-widgets/base",
            "_view_module_version": "1.2.0",
            "_view_name": "LayoutView",
            "align_content": null,
            "align_items": null,
            "align_self": null,
            "border": null,
            "bottom": null,
            "display": null,
            "flex": null,
            "flex_flow": null,
            "grid_area": null,
            "grid_auto_columns": null,
            "grid_auto_flow": null,
            "grid_auto_rows": null,
            "grid_column": null,
            "grid_gap": null,
            "grid_row": null,
            "grid_template_areas": null,
            "grid_template_columns": null,
            "grid_template_rows": null,
            "height": null,
            "justify_content": null,
            "justify_items": null,
            "left": null,
            "margin": null,
            "max_height": null,
            "max_width": null,
            "min_height": null,
            "min_width": null,
            "object_fit": null,
            "object_position": null,
            "order": null,
            "overflow": null,
            "overflow_x": null,
            "overflow_y": null,
            "padding": null,
            "right": null,
            "top": null,
            "visibility": null,
            "width": null
          }
        },
        "47fb27bb89e347ada27069b6c19308df": {
          "model_module": "@jupyter-widgets/controls",
          "model_module_version": "1.5.0",
          "model_name": "ProgressStyleModel",
          "state": {
            "_model_module": "@jupyter-widgets/controls",
            "_model_module_version": "1.5.0",
            "_model_name": "ProgressStyleModel",
            "_view_count": null,
            "_view_module": "@jupyter-widgets/base",
            "_view_module_version": "1.2.0",
            "_view_name": "StyleView",
            "bar_color": null,
            "description_width": ""
          }
        },
        "4ae7ec5785af4869baeb139a5ad5a5e4": {
          "model_module": "@jupyter-widgets/controls",
          "model_module_version": "1.5.0",
          "model_name": "HTMLModel",
          "state": {
            "_dom_classes": [],
            "_model_module": "@jupyter-widgets/controls",
            "_model_module_version": "1.5.0",
            "_model_name": "HTMLModel",
            "_view_count": null,
            "_view_module": "@jupyter-widgets/controls",
            "_view_module_version": "1.5.0",
            "_view_name": "HTMLView",
            "description": "",
            "description_tooltip": null,
            "layout": "IPY_MODEL_a4972f1b30f34a5d996df61e77deb2e8",
            "placeholder": "​",
            "style": "IPY_MODEL_a248c55698b94ff5b948f5378652e58f",
            "value": "config.json: 100%"
          }
        },
        "4bff8d178f6f4c8e85b8c79768d81636": {
          "model_module": "@jupyter-widgets/controls",
          "model_module_version": "1.5.0",
          "model_name": "DescriptionStyleModel",
          "state": {
            "_model_module": "@jupyter-widgets/controls",
            "_model_module_version": "1.5.0",
            "_model_name": "DescriptionStyleModel",
            "_view_count": null,
            "_view_module": "@jupyter-widgets/base",
            "_view_module_version": "1.2.0",
            "_view_name": "StyleView",
            "description_width": ""
          }
        },
        "54b0612b67964e85b69557d592aa02db": {
          "model_module": "@jupyter-widgets/controls",
          "model_module_version": "1.5.0",
          "model_name": "HTMLModel",
          "state": {
            "_dom_classes": [],
            "_model_module": "@jupyter-widgets/controls",
            "_model_module_version": "1.5.0",
            "_model_name": "HTMLModel",
            "_view_count": null,
            "_view_module": "@jupyter-widgets/controls",
            "_view_module_version": "1.5.0",
            "_view_name": "HTMLView",
            "description": "",
            "description_tooltip": null,
            "layout": "IPY_MODEL_a71c73a6c95448f7af05b710e1115374",
            "placeholder": "​",
            "style": "IPY_MODEL_ff0408db5ee04611bf902b3c332fe9d5",
            "value": " 826/826 [00:00&lt;00:00, 61.9kB/s]"
          }
        },
        "5552188949054e9d9a06322823d3bee1": {
          "model_module": "@jupyter-widgets/controls",
          "model_module_version": "1.5.0",
          "model_name": "ButtonStyleModel",
          "state": {
            "_model_module": "@jupyter-widgets/controls",
            "_model_module_version": "1.5.0",
            "_model_name": "ButtonStyleModel",
            "_view_count": null,
            "_view_module": "@jupyter-widgets/base",
            "_view_module_version": "1.2.0",
            "_view_name": "StyleView",
            "button_color": null,
            "font_weight": ""
          }
        },
        "555790597ffb489db3db625cbacf2536": {
          "model_module": "@jupyter-widgets/controls",
          "model_module_version": "1.5.0",
          "model_name": "HBoxModel",
          "state": {
            "_dom_classes": [],
            "_model_module": "@jupyter-widgets/controls",
            "_model_module_version": "1.5.0",
            "_model_name": "HBoxModel",
            "_view_count": null,
            "_view_module": "@jupyter-widgets/controls",
            "_view_module_version": "1.5.0",
            "_view_name": "HBoxView",
            "box_style": "",
            "children": [
              "IPY_MODEL_68765cf86c7e46bd9d4542ccc0be5019",
              "IPY_MODEL_5dd74380c2ba481993d2766d744193fc",
              "IPY_MODEL_c79989ae41204d669f19929f0027f7da"
            ],
            "layout": "IPY_MODEL_08e8093513454e088875484a30b2c58f"
          }
        },
        "55e49d09be884d639e8fcd93078a0356": {
          "model_module": "@jupyter-widgets/base",
          "model_module_version": "1.2.0",
          "model_name": "LayoutModel",
          "state": {
            "_model_module": "@jupyter-widgets/base",
            "_model_module_version": "1.2.0",
            "_model_name": "LayoutModel",
            "_view_count": null,
            "_view_module": "@jupyter-widgets/base",
            "_view_module_version": "1.2.0",
            "_view_name": "LayoutView",
            "align_content": null,
            "align_items": null,
            "align_self": null,
            "border": null,
            "bottom": null,
            "display": null,
            "flex": null,
            "flex_flow": null,
            "grid_area": null,
            "grid_auto_columns": null,
            "grid_auto_flow": null,
            "grid_auto_rows": null,
            "grid_column": null,
            "grid_gap": null,
            "grid_row": null,
            "grid_template_areas": null,
            "grid_template_columns": null,
            "grid_template_rows": null,
            "height": null,
            "justify_content": null,
            "justify_items": null,
            "left": null,
            "margin": null,
            "max_height": null,
            "max_width": null,
            "min_height": null,
            "min_width": null,
            "object_fit": null,
            "object_position": null,
            "order": null,
            "overflow": null,
            "overflow_x": null,
            "overflow_y": null,
            "padding": null,
            "right": null,
            "top": null,
            "visibility": null,
            "width": null
          }
        },
        "57653d49ee7e4a3e83140eec39d70577": {
          "model_module": "@jupyter-widgets/base",
          "model_module_version": "1.2.0",
          "model_name": "LayoutModel",
          "state": {
            "_model_module": "@jupyter-widgets/base",
            "_model_module_version": "1.2.0",
            "_model_name": "LayoutModel",
            "_view_count": null,
            "_view_module": "@jupyter-widgets/base",
            "_view_module_version": "1.2.0",
            "_view_name": "LayoutView",
            "align_content": null,
            "align_items": null,
            "align_self": null,
            "border": null,
            "bottom": null,
            "display": null,
            "flex": null,
            "flex_flow": null,
            "grid_area": null,
            "grid_auto_columns": null,
            "grid_auto_flow": null,
            "grid_auto_rows": null,
            "grid_column": null,
            "grid_gap": null,
            "grid_row": null,
            "grid_template_areas": null,
            "grid_template_columns": null,
            "grid_template_rows": null,
            "height": null,
            "justify_content": null,
            "justify_items": null,
            "left": null,
            "margin": null,
            "max_height": null,
            "max_width": null,
            "min_height": null,
            "min_width": null,
            "object_fit": null,
            "object_position": null,
            "order": null,
            "overflow": null,
            "overflow_x": null,
            "overflow_y": null,
            "padding": null,
            "right": null,
            "top": null,
            "visibility": null,
            "width": null
          }
        },
        "57edbc0e3a0a41ee9b4cdcf393ba572c": {
          "model_module": "@jupyter-widgets/controls",
          "model_module_version": "1.5.0",
          "model_name": "PasswordModel",
          "state": {
            "_dom_classes": [],
            "_model_module": "@jupyter-widgets/controls",
            "_model_module_version": "1.5.0",
            "_model_name": "PasswordModel",
            "_view_count": null,
            "_view_module": "@jupyter-widgets/controls",
            "_view_module_version": "1.5.0",
            "_view_name": "PasswordView",
            "continuous_update": true,
            "description": "Token:",
            "description_tooltip": null,
            "disabled": false,
            "layout": "IPY_MODEL_55e49d09be884d639e8fcd93078a0356",
            "placeholder": "​",
            "style": "IPY_MODEL_ab103f31ec5640e89de80e091ec5482d",
            "value": ""
          }
        },
        "5a52e78e09df489caec1a750723686ac": {
          "model_module": "@jupyter-widgets/controls",
          "model_module_version": "1.5.0",
          "model_name": "HTMLModel",
          "state": {
            "_dom_classes": [],
            "_model_module": "@jupyter-widgets/controls",
            "_model_module_version": "1.5.0",
            "_model_name": "HTMLModel",
            "_view_count": null,
            "_view_module": "@jupyter-widgets/controls",
            "_view_module_version": "1.5.0",
            "_view_name": "HTMLView",
            "description": "",
            "description_tooltip": null,
            "layout": "IPY_MODEL_11bd38ecc0284462817aed481dc13179",
            "placeholder": "​",
            "style": "IPY_MODEL_9155489bcadc43afb2b072f0435c2546",
            "value": "<center> <img\nsrc=https://huggingface.co/front/assets/huggingface_logo-noborder.svg\nalt='Hugging Face'> <br> Copy a token from <a\nhref=\"https://huggingface.co/settings/tokens\" target=\"_blank\">your Hugging Face\ntokens page</a> and paste it below. <br> Immediately click login after copying\nyour token or it might be stored in plain text in this notebook file. </center>"
          }
        },
        "5c0fb1c38d544f13a90b9cfb4e3df5de": {
          "model_module": "@jupyter-widgets/controls",
          "model_module_version": "1.5.0",
          "model_name": "ButtonModel",
          "state": {
            "_dom_classes": [],
            "_model_module": "@jupyter-widgets/controls",
            "_model_module_version": "1.5.0",
            "_model_name": "ButtonModel",
            "_view_count": null,
            "_view_module": "@jupyter-widgets/controls",
            "_view_module_version": "1.5.0",
            "_view_name": "ButtonView",
            "button_style": "",
            "description": "Login",
            "disabled": false,
            "icon": "",
            "layout": "IPY_MODEL_1de10b56de514645be768a620c5b8887",
            "style": "IPY_MODEL_5552188949054e9d9a06322823d3bee1",
            "tooltip": ""
          }
        },
        "5d46c14c7635488aa73d7e329f0cb763": {
          "model_module": "@jupyter-widgets/base",
          "model_module_version": "1.2.0",
          "model_name": "LayoutModel",
          "state": {
            "_model_module": "@jupyter-widgets/base",
            "_model_module_version": "1.2.0",
            "_model_name": "LayoutModel",
            "_view_count": null,
            "_view_module": "@jupyter-widgets/base",
            "_view_module_version": "1.2.0",
            "_view_name": "LayoutView",
            "align_content": null,
            "align_items": null,
            "align_self": null,
            "border": null,
            "bottom": null,
            "display": null,
            "flex": null,
            "flex_flow": null,
            "grid_area": null,
            "grid_auto_columns": null,
            "grid_auto_flow": null,
            "grid_auto_rows": null,
            "grid_column": null,
            "grid_gap": null,
            "grid_row": null,
            "grid_template_areas": null,
            "grid_template_columns": null,
            "grid_template_rows": null,
            "height": null,
            "justify_content": null,
            "justify_items": null,
            "left": null,
            "margin": null,
            "max_height": null,
            "max_width": null,
            "min_height": null,
            "min_width": null,
            "object_fit": null,
            "object_position": null,
            "order": null,
            "overflow": null,
            "overflow_x": null,
            "overflow_y": null,
            "padding": null,
            "right": null,
            "top": null,
            "visibility": null,
            "width": null
          }
        },
        "5dd74380c2ba481993d2766d744193fc": {
          "model_module": "@jupyter-widgets/controls",
          "model_module_version": "1.5.0",
          "model_name": "FloatProgressModel",
          "state": {
            "_dom_classes": [],
            "_model_module": "@jupyter-widgets/controls",
            "_model_module_version": "1.5.0",
            "_model_name": "FloatProgressModel",
            "_view_count": null,
            "_view_module": "@jupyter-widgets/controls",
            "_view_module_version": "1.5.0",
            "_view_name": "ProgressView",
            "bar_style": "success",
            "description": "",
            "description_tooltip": null,
            "layout": "IPY_MODEL_57653d49ee7e4a3e83140eec39d70577",
            "max": 73,
            "min": 0,
            "orientation": "horizontal",
            "style": "IPY_MODEL_9a3ebd78f3484a0eb17d57ab58b08127",
            "value": 73
          }
        },
        "68765cf86c7e46bd9d4542ccc0be5019": {
          "model_module": "@jupyter-widgets/controls",
          "model_module_version": "1.5.0",
          "model_name": "HTMLModel",
          "state": {
            "_dom_classes": [],
            "_model_module": "@jupyter-widgets/controls",
            "_model_module_version": "1.5.0",
            "_model_name": "HTMLModel",
            "_view_count": null,
            "_view_module": "@jupyter-widgets/controls",
            "_view_module_version": "1.5.0",
            "_view_name": "HTMLView",
            "description": "",
            "description_tooltip": null,
            "layout": "IPY_MODEL_042b39d3b4ea4195b92fca97832fa19c",
            "placeholder": "​",
            "style": "IPY_MODEL_3b83ae423fc74187b4f9bc67c4f54ea4",
            "value": "special_tokens_map.json: 100%"
          }
        },
        "731f6166b11b4ca281b59b8e0da8c531": {
          "model_module": "@jupyter-widgets/base",
          "model_module_version": "1.2.0",
          "model_name": "LayoutModel",
          "state": {
            "_model_module": "@jupyter-widgets/base",
            "_model_module_version": "1.2.0",
            "_model_name": "LayoutModel",
            "_view_count": null,
            "_view_module": "@jupyter-widgets/base",
            "_view_module_version": "1.2.0",
            "_view_name": "LayoutView",
            "align_content": null,
            "align_items": null,
            "align_self": null,
            "border": null,
            "bottom": null,
            "display": null,
            "flex": null,
            "flex_flow": null,
            "grid_area": null,
            "grid_auto_columns": null,
            "grid_auto_flow": null,
            "grid_auto_rows": null,
            "grid_column": null,
            "grid_gap": null,
            "grid_row": null,
            "grid_template_areas": null,
            "grid_template_columns": null,
            "grid_template_rows": null,
            "height": null,
            "justify_content": null,
            "justify_items": null,
            "left": null,
            "margin": null,
            "max_height": null,
            "max_width": null,
            "min_height": null,
            "min_width": null,
            "object_fit": null,
            "object_position": null,
            "order": null,
            "overflow": null,
            "overflow_x": null,
            "overflow_y": null,
            "padding": null,
            "right": null,
            "top": null,
            "visibility": null,
            "width": null
          }
        },
        "7f7f4b5d820e451eac30b143e4886037": {
          "model_module": "@jupyter-widgets/controls",
          "model_module_version": "1.5.0",
          "model_name": "HTMLModel",
          "state": {
            "_dom_classes": [],
            "_model_module": "@jupyter-widgets/controls",
            "_model_module_version": "1.5.0",
            "_model_name": "HTMLModel",
            "_view_count": null,
            "_view_module": "@jupyter-widgets/controls",
            "_view_module_version": "1.5.0",
            "_view_name": "HTMLView",
            "description": "",
            "description_tooltip": null,
            "layout": "IPY_MODEL_09bb0826a6fb4e14bdff43c1948ba781",
            "placeholder": "​",
            "style": "IPY_MODEL_87faec1c495142a2af357dcdea5c9b57",
            "value": "\n<b>Pro Tip:</b> If you don't already have one, you can create a dedicated\n'notebooks' token with 'write' access, that you can then easily reuse for all\nnotebooks. </center>"
          }
        },
        "87faec1c495142a2af357dcdea5c9b57": {
          "model_module": "@jupyter-widgets/controls",
          "model_module_version": "1.5.0",
          "model_name": "DescriptionStyleModel",
          "state": {
            "_model_module": "@jupyter-widgets/controls",
            "_model_module_version": "1.5.0",
            "_model_name": "DescriptionStyleModel",
            "_view_count": null,
            "_view_module": "@jupyter-widgets/base",
            "_view_module_version": "1.2.0",
            "_view_name": "StyleView",
            "description_width": ""
          }
        },
        "8b0abdcf14174eb48dbb43f6e9dd8b09": {
          "model_module": "@jupyter-widgets/controls",
          "model_module_version": "1.5.0",
          "model_name": "DescriptionStyleModel",
          "state": {
            "_model_module": "@jupyter-widgets/controls",
            "_model_module_version": "1.5.0",
            "_model_name": "DescriptionStyleModel",
            "_view_count": null,
            "_view_module": "@jupyter-widgets/base",
            "_view_module_version": "1.2.0",
            "_view_name": "StyleView",
            "description_width": ""
          }
        },
        "9155489bcadc43afb2b072f0435c2546": {
          "model_module": "@jupyter-widgets/controls",
          "model_module_version": "1.5.0",
          "model_name": "DescriptionStyleModel",
          "state": {
            "_model_module": "@jupyter-widgets/controls",
            "_model_module_version": "1.5.0",
            "_model_name": "DescriptionStyleModel",
            "_view_count": null,
            "_view_module": "@jupyter-widgets/base",
            "_view_module_version": "1.2.0",
            "_view_name": "StyleView",
            "description_width": ""
          }
        },
        "925d21d8c41044e48b8c1cd227efdcf3": {
          "model_module": "@jupyter-widgets/controls",
          "model_module_version": "1.5.0",
          "model_name": "FloatProgressModel",
          "state": {
            "_dom_classes": [],
            "_model_module": "@jupyter-widgets/controls",
            "_model_module_version": "1.5.0",
            "_model_name": "FloatProgressModel",
            "_view_count": null,
            "_view_module": "@jupyter-widgets/controls",
            "_view_module_version": "1.5.0",
            "_view_name": "ProgressView",
            "bar_style": "success",
            "description": "",
            "description_tooltip": null,
            "layout": "IPY_MODEL_e0762542851e4733a2fa9a59ab98da45",
            "max": 9085658,
            "min": 0,
            "orientation": "horizontal",
            "style": "IPY_MODEL_47fb27bb89e347ada27069b6c19308df",
            "value": 9085658
          }
        },
        "9736e49baf4040d5a6245528fddd8537": {
          "model_module": "@jupyter-widgets/controls",
          "model_module_version": "1.5.0",
          "model_name": "LabelModel",
          "state": {
            "_dom_classes": [],
            "_model_module": "@jupyter-widgets/controls",
            "_model_module_version": "1.5.0",
            "_model_name": "LabelModel",
            "_view_count": null,
            "_view_module": "@jupyter-widgets/controls",
            "_view_module_version": "1.5.0",
            "_view_name": "LabelView",
            "description": "",
            "description_tooltip": null,
            "layout": "IPY_MODEL_5d46c14c7635488aa73d7e329f0cb763",
            "placeholder": "​",
            "style": "IPY_MODEL_4bff8d178f6f4c8e85b8c79768d81636",
            "value": "Connecting..."
          }
        },
        "9a3ebd78f3484a0eb17d57ab58b08127": {
          "model_module": "@jupyter-widgets/controls",
          "model_module_version": "1.5.0",
          "model_name": "ProgressStyleModel",
          "state": {
            "_model_module": "@jupyter-widgets/controls",
            "_model_module_version": "1.5.0",
            "_model_name": "ProgressStyleModel",
            "_view_count": null,
            "_view_module": "@jupyter-widgets/base",
            "_view_module_version": "1.2.0",
            "_view_name": "StyleView",
            "bar_color": null,
            "description_width": ""
          }
        },
        "a248c55698b94ff5b948f5378652e58f": {
          "model_module": "@jupyter-widgets/controls",
          "model_module_version": "1.5.0",
          "model_name": "DescriptionStyleModel",
          "state": {
            "_model_module": "@jupyter-widgets/controls",
            "_model_module_version": "1.5.0",
            "_model_name": "DescriptionStyleModel",
            "_view_count": null,
            "_view_module": "@jupyter-widgets/base",
            "_view_module_version": "1.2.0",
            "_view_name": "StyleView",
            "description_width": ""
          }
        },
        "a310d28fdedf4172b45b27538c3f17e3": {
          "model_module": "@jupyter-widgets/controls",
          "model_module_version": "1.5.0",
          "model_name": "CheckboxModel",
          "state": {
            "_dom_classes": [],
            "_model_module": "@jupyter-widgets/controls",
            "_model_module_version": "1.5.0",
            "_model_name": "CheckboxModel",
            "_view_count": null,
            "_view_module": "@jupyter-widgets/controls",
            "_view_module_version": "1.5.0",
            "_view_name": "CheckboxView",
            "description": "Add token as git credential?",
            "description_tooltip": null,
            "disabled": false,
            "indent": true,
            "layout": "IPY_MODEL_f2773c3038274240bd1c793d70c93e28",
            "style": "IPY_MODEL_11ea8820f811452f8a0774f99f437887",
            "value": true
          }
        },
        "a4972f1b30f34a5d996df61e77deb2e8": {
          "model_module": "@jupyter-widgets/base",
          "model_module_version": "1.2.0",
          "model_name": "LayoutModel",
          "state": {
            "_model_module": "@jupyter-widgets/base",
            "_model_module_version": "1.2.0",
            "_model_name": "LayoutModel",
            "_view_count": null,
            "_view_module": "@jupyter-widgets/base",
            "_view_module_version": "1.2.0",
            "_view_name": "LayoutView",
            "align_content": null,
            "align_items": null,
            "align_self": null,
            "border": null,
            "bottom": null,
            "display": null,
            "flex": null,
            "flex_flow": null,
            "grid_area": null,
            "grid_auto_columns": null,
            "grid_auto_flow": null,
            "grid_auto_rows": null,
            "grid_column": null,
            "grid_gap": null,
            "grid_row": null,
            "grid_template_areas": null,
            "grid_template_columns": null,
            "grid_template_rows": null,
            "height": null,
            "justify_content": null,
            "justify_items": null,
            "left": null,
            "margin": null,
            "max_height": null,
            "max_width": null,
            "min_height": null,
            "min_width": null,
            "object_fit": null,
            "object_position": null,
            "order": null,
            "overflow": null,
            "overflow_x": null,
            "overflow_y": null,
            "padding": null,
            "right": null,
            "top": null,
            "visibility": null,
            "width": null
          }
        },
        "a71c73a6c95448f7af05b710e1115374": {
          "model_module": "@jupyter-widgets/base",
          "model_module_version": "1.2.0",
          "model_name": "LayoutModel",
          "state": {
            "_model_module": "@jupyter-widgets/base",
            "_model_module_version": "1.2.0",
            "_model_name": "LayoutModel",
            "_view_count": null,
            "_view_module": "@jupyter-widgets/base",
            "_view_module_version": "1.2.0",
            "_view_name": "LayoutView",
            "align_content": null,
            "align_items": null,
            "align_self": null,
            "border": null,
            "bottom": null,
            "display": null,
            "flex": null,
            "flex_flow": null,
            "grid_area": null,
            "grid_auto_columns": null,
            "grid_auto_flow": null,
            "grid_auto_rows": null,
            "grid_column": null,
            "grid_gap": null,
            "grid_row": null,
            "grid_template_areas": null,
            "grid_template_columns": null,
            "grid_template_rows": null,
            "height": null,
            "justify_content": null,
            "justify_items": null,
            "left": null,
            "margin": null,
            "max_height": null,
            "max_width": null,
            "min_height": null,
            "min_width": null,
            "object_fit": null,
            "object_position": null,
            "order": null,
            "overflow": null,
            "overflow_x": null,
            "overflow_y": null,
            "padding": null,
            "right": null,
            "top": null,
            "visibility": null,
            "width": null
          }
        },
        "ab103f31ec5640e89de80e091ec5482d": {
          "model_module": "@jupyter-widgets/controls",
          "model_module_version": "1.5.0",
          "model_name": "DescriptionStyleModel",
          "state": {
            "_model_module": "@jupyter-widgets/controls",
            "_model_module_version": "1.5.0",
            "_model_name": "DescriptionStyleModel",
            "_view_count": null,
            "_view_module": "@jupyter-widgets/base",
            "_view_module_version": "1.2.0",
            "_view_name": "StyleView",
            "description_width": ""
          }
        },
        "adb1a800939147a4b64e52fcbd0386f4": {
          "model_module": "@jupyter-widgets/base",
          "model_module_version": "1.2.0",
          "model_name": "LayoutModel",
          "state": {
            "_model_module": "@jupyter-widgets/base",
            "_model_module_version": "1.2.0",
            "_model_name": "LayoutModel",
            "_view_count": null,
            "_view_module": "@jupyter-widgets/base",
            "_view_module_version": "1.2.0",
            "_view_name": "LayoutView",
            "align_content": null,
            "align_items": null,
            "align_self": null,
            "border": null,
            "bottom": null,
            "display": null,
            "flex": null,
            "flex_flow": null,
            "grid_area": null,
            "grid_auto_columns": null,
            "grid_auto_flow": null,
            "grid_auto_rows": null,
            "grid_column": null,
            "grid_gap": null,
            "grid_row": null,
            "grid_template_areas": null,
            "grid_template_columns": null,
            "grid_template_rows": null,
            "height": null,
            "justify_content": null,
            "justify_items": null,
            "left": null,
            "margin": null,
            "max_height": null,
            "max_width": null,
            "min_height": null,
            "min_width": null,
            "object_fit": null,
            "object_position": null,
            "order": null,
            "overflow": null,
            "overflow_x": null,
            "overflow_y": null,
            "padding": null,
            "right": null,
            "top": null,
            "visibility": null,
            "width": null
          }
        },
        "b03310c2e02844ceb31300fab33c58ea": {
          "model_module": "@jupyter-widgets/base",
          "model_module_version": "1.2.0",
          "model_name": "LayoutModel",
          "state": {
            "_model_module": "@jupyter-widgets/base",
            "_model_module_version": "1.2.0",
            "_model_name": "LayoutModel",
            "_view_count": null,
            "_view_module": "@jupyter-widgets/base",
            "_view_module_version": "1.2.0",
            "_view_name": "LayoutView",
            "align_content": null,
            "align_items": null,
            "align_self": null,
            "border": null,
            "bottom": null,
            "display": null,
            "flex": null,
            "flex_flow": null,
            "grid_area": null,
            "grid_auto_columns": null,
            "grid_auto_flow": null,
            "grid_auto_rows": null,
            "grid_column": null,
            "grid_gap": null,
            "grid_row": null,
            "grid_template_areas": null,
            "grid_template_columns": null,
            "grid_template_rows": null,
            "height": null,
            "justify_content": null,
            "justify_items": null,
            "left": null,
            "margin": null,
            "max_height": null,
            "max_width": null,
            "min_height": null,
            "min_width": null,
            "object_fit": null,
            "object_position": null,
            "order": null,
            "overflow": null,
            "overflow_x": null,
            "overflow_y": null,
            "padding": null,
            "right": null,
            "top": null,
            "visibility": null,
            "width": null
          }
        },
        "b129a655e3ad4cacb59af093ee633af6": {
          "model_module": "@jupyter-widgets/controls",
          "model_module_version": "1.5.0",
          "model_name": "HTMLModel",
          "state": {
            "_dom_classes": [],
            "_model_module": "@jupyter-widgets/controls",
            "_model_module_version": "1.5.0",
            "_model_name": "HTMLModel",
            "_view_count": null,
            "_view_module": "@jupyter-widgets/controls",
            "_view_module_version": "1.5.0",
            "_view_name": "HTMLView",
            "description": "",
            "description_tooltip": null,
            "layout": "IPY_MODEL_b03310c2e02844ceb31300fab33c58ea",
            "placeholder": "​",
            "style": "IPY_MODEL_2687a59e06dd4d6fb48cc5a74d66f3eb",
            "value": " 50.5k/50.5k [00:00&lt;00:00, 2.10MB/s]"
          }
        },
        "b8121fdf2c914662babefb64f9fca6c4": {
          "model_module": "@jupyter-widgets/controls",
          "model_module_version": "1.5.0",
          "model_name": "ProgressStyleModel",
          "state": {
            "_model_module": "@jupyter-widgets/controls",
            "_model_module_version": "1.5.0",
            "_model_name": "ProgressStyleModel",
            "_view_count": null,
            "_view_module": "@jupyter-widgets/base",
            "_view_module_version": "1.2.0",
            "_view_name": "StyleView",
            "bar_color": null,
            "description_width": ""
          }
        },
        "c2381f5c33864e9e8fe5df1bb1ee0cba": {
          "model_module": "@jupyter-widgets/controls",
          "model_module_version": "1.5.0",
          "model_name": "DescriptionStyleModel",
          "state": {
            "_model_module": "@jupyter-widgets/controls",
            "_model_module_version": "1.5.0",
            "_model_name": "DescriptionStyleModel",
            "_view_count": null,
            "_view_module": "@jupyter-widgets/base",
            "_view_module_version": "1.2.0",
            "_view_name": "StyleView",
            "description_width": ""
          }
        },
        "c79989ae41204d669f19929f0027f7da": {
          "model_module": "@jupyter-widgets/controls",
          "model_module_version": "1.5.0",
          "model_name": "HTMLModel",
          "state": {
            "_dom_classes": [],
            "_model_module": "@jupyter-widgets/controls",
            "_model_module_version": "1.5.0",
            "_model_name": "HTMLModel",
            "_view_count": null,
            "_view_module": "@jupyter-widgets/controls",
            "_view_module_version": "1.5.0",
            "_view_name": "HTMLView",
            "description": "",
            "description_tooltip": null,
            "layout": "IPY_MODEL_3be34ab76f7b4f6b96737a8aed2683c1",
            "placeholder": "​",
            "style": "IPY_MODEL_dcf90cb0c6884bd29798b4917fcaa0ba",
            "value": " 73.0/73.0 [00:00&lt;00:00, 6.33kB/s]"
          }
        },
        "cec2e6327c45442f90f99910685e9742": {
          "model_module": "@jupyter-widgets/controls",
          "model_module_version": "1.5.0",
          "model_name": "FloatProgressModel",
          "state": {
            "_dom_classes": [],
            "_model_module": "@jupyter-widgets/controls",
            "_model_module_version": "1.5.0",
            "_model_name": "FloatProgressModel",
            "_view_count": null,
            "_view_module": "@jupyter-widgets/controls",
            "_view_module_version": "1.5.0",
            "_view_name": "ProgressView",
            "bar_style": "success",
            "description": "",
            "description_tooltip": null,
            "layout": "IPY_MODEL_25c05f1a133840f6a60baa783bf66a52",
            "max": 50500,
            "min": 0,
            "orientation": "horizontal",
            "style": "IPY_MODEL_b8121fdf2c914662babefb64f9fca6c4",
            "value": 50500
          }
        },
        "d715b70e30094fc78dc4e0986e59f886": {
          "model_module": "@jupyter-widgets/controls",
          "model_module_version": "1.5.0",
          "model_name": "HBoxModel",
          "state": {
            "_dom_classes": [],
            "_model_module": "@jupyter-widgets/controls",
            "_model_module_version": "1.5.0",
            "_model_name": "HBoxModel",
            "_view_count": null,
            "_view_module": "@jupyter-widgets/controls",
            "_view_module_version": "1.5.0",
            "_view_name": "HBoxView",
            "box_style": "",
            "children": [
              "IPY_MODEL_09a8e6612979444a93e200398b22375c",
              "IPY_MODEL_cec2e6327c45442f90f99910685e9742",
              "IPY_MODEL_b129a655e3ad4cacb59af093ee633af6"
            ],
            "layout": "IPY_MODEL_0971ff4e6db64047b06192b839e0254c"
          }
        },
        "d86c90d284f84647bd1994b48f971cd6": {
          "model_module": "@jupyter-widgets/controls",
          "model_module_version": "1.5.0",
          "model_name": "FloatProgressModel",
          "state": {
            "_dom_classes": [],
            "_model_module": "@jupyter-widgets/controls",
            "_model_module_version": "1.5.0",
            "_model_name": "FloatProgressModel",
            "_view_count": null,
            "_view_module": "@jupyter-widgets/controls",
            "_view_module_version": "1.5.0",
            "_view_name": "ProgressView",
            "bar_style": "success",
            "description": "",
            "description_tooltip": null,
            "layout": "IPY_MODEL_075f4410ef0044458170e0f366b2746c",
            "max": 826,
            "min": 0,
            "orientation": "horizontal",
            "style": "IPY_MODEL_29a085635f30450a9971c58e866e4920",
            "value": 826
          }
        },
        "d8c95a4f3d504df3b66b92f07ea1432a": {
          "model_module": "@jupyter-widgets/controls",
          "model_module_version": "1.5.0",
          "model_name": "HBoxModel",
          "state": {
            "_dom_classes": [],
            "_model_module": "@jupyter-widgets/controls",
            "_model_module_version": "1.5.0",
            "_model_name": "HBoxModel",
            "_view_count": null,
            "_view_module": "@jupyter-widgets/controls",
            "_view_module_version": "1.5.0",
            "_view_name": "HBoxView",
            "box_style": "",
            "children": [
              "IPY_MODEL_2ee5860310c942a18b779bdef3c01c45",
              "IPY_MODEL_925d21d8c41044e48b8c1cd227efdcf3",
              "IPY_MODEL_3bb8a9f52cb74fc0a508aaed737c3f67"
            ],
            "layout": "IPY_MODEL_07fb057e62cd4d1f8a6e700cbff9e67c"
          }
        },
        "dbc8f373a88b4870aaebdf94ba698979": {
          "model_module": "@jupyter-widgets/controls",
          "model_module_version": "1.5.0",
          "model_name": "VBoxModel",
          "state": {
            "_dom_classes": [],
            "_model_module": "@jupyter-widgets/controls",
            "_model_module_version": "1.5.0",
            "_model_name": "VBoxModel",
            "_view_count": null,
            "_view_module": "@jupyter-widgets/controls",
            "_view_module_version": "1.5.0",
            "_view_name": "VBoxView",
            "box_style": "",
            "children": [],
            "layout": "IPY_MODEL_e51a3999378b4d24a6547205e6027fe3"
          }
        },
        "dcf90cb0c6884bd29798b4917fcaa0ba": {
          "model_module": "@jupyter-widgets/controls",
          "model_module_version": "1.5.0",
          "model_name": "DescriptionStyleModel",
          "state": {
            "_model_module": "@jupyter-widgets/controls",
            "_model_module_version": "1.5.0",
            "_model_name": "DescriptionStyleModel",
            "_view_count": null,
            "_view_module": "@jupyter-widgets/base",
            "_view_module_version": "1.2.0",
            "_view_name": "StyleView",
            "description_width": ""
          }
        },
        "e0762542851e4733a2fa9a59ab98da45": {
          "model_module": "@jupyter-widgets/base",
          "model_module_version": "1.2.0",
          "model_name": "LayoutModel",
          "state": {
            "_model_module": "@jupyter-widgets/base",
            "_model_module_version": "1.2.0",
            "_model_name": "LayoutModel",
            "_view_count": null,
            "_view_module": "@jupyter-widgets/base",
            "_view_module_version": "1.2.0",
            "_view_name": "LayoutView",
            "align_content": null,
            "align_items": null,
            "align_self": null,
            "border": null,
            "bottom": null,
            "display": null,
            "flex": null,
            "flex_flow": null,
            "grid_area": null,
            "grid_auto_columns": null,
            "grid_auto_flow": null,
            "grid_auto_rows": null,
            "grid_column": null,
            "grid_gap": null,
            "grid_row": null,
            "grid_template_areas": null,
            "grid_template_columns": null,
            "grid_template_rows": null,
            "height": null,
            "justify_content": null,
            "justify_items": null,
            "left": null,
            "margin": null,
            "max_height": null,
            "max_width": null,
            "min_height": null,
            "min_width": null,
            "object_fit": null,
            "object_position": null,
            "order": null,
            "overflow": null,
            "overflow_x": null,
            "overflow_y": null,
            "padding": null,
            "right": null,
            "top": null,
            "visibility": null,
            "width": null
          }
        },
        "e51a3999378b4d24a6547205e6027fe3": {
          "model_module": "@jupyter-widgets/base",
          "model_module_version": "1.2.0",
          "model_name": "LayoutModel",
          "state": {
            "_model_module": "@jupyter-widgets/base",
            "_model_module_version": "1.2.0",
            "_model_name": "LayoutModel",
            "_view_count": null,
            "_view_module": "@jupyter-widgets/base",
            "_view_module_version": "1.2.0",
            "_view_name": "LayoutView",
            "align_content": null,
            "align_items": "center",
            "align_self": null,
            "border": null,
            "bottom": null,
            "display": "flex",
            "flex": null,
            "flex_flow": "column",
            "grid_area": null,
            "grid_auto_columns": null,
            "grid_auto_flow": null,
            "grid_auto_rows": null,
            "grid_column": null,
            "grid_gap": null,
            "grid_row": null,
            "grid_template_areas": null,
            "grid_template_columns": null,
            "grid_template_rows": null,
            "height": null,
            "justify_content": null,
            "justify_items": null,
            "left": null,
            "margin": null,
            "max_height": null,
            "max_width": null,
            "min_height": null,
            "min_width": null,
            "object_fit": null,
            "object_position": null,
            "order": null,
            "overflow": null,
            "overflow_x": null,
            "overflow_y": null,
            "padding": null,
            "right": null,
            "top": null,
            "visibility": null,
            "width": "50%"
          }
        },
        "e9e5f9d150324e4dadd1340bc1fe5c9f": {
          "model_module": "@jupyter-widgets/base",
          "model_module_version": "1.2.0",
          "model_name": "LayoutModel",
          "state": {
            "_model_module": "@jupyter-widgets/base",
            "_model_module_version": "1.2.0",
            "_model_name": "LayoutModel",
            "_view_count": null,
            "_view_module": "@jupyter-widgets/base",
            "_view_module_version": "1.2.0",
            "_view_name": "LayoutView",
            "align_content": null,
            "align_items": null,
            "align_self": null,
            "border": null,
            "bottom": null,
            "display": null,
            "flex": null,
            "flex_flow": null,
            "grid_area": null,
            "grid_auto_columns": null,
            "grid_auto_flow": null,
            "grid_auto_rows": null,
            "grid_column": null,
            "grid_gap": null,
            "grid_row": null,
            "grid_template_areas": null,
            "grid_template_columns": null,
            "grid_template_rows": null,
            "height": null,
            "justify_content": null,
            "justify_items": null,
            "left": null,
            "margin": null,
            "max_height": null,
            "max_width": null,
            "min_height": null,
            "min_width": null,
            "object_fit": null,
            "object_position": null,
            "order": null,
            "overflow": null,
            "overflow_x": null,
            "overflow_y": null,
            "padding": null,
            "right": null,
            "top": null,
            "visibility": null,
            "width": null
          }
        },
        "f2773c3038274240bd1c793d70c93e28": {
          "model_module": "@jupyter-widgets/base",
          "model_module_version": "1.2.0",
          "model_name": "LayoutModel",
          "state": {
            "_model_module": "@jupyter-widgets/base",
            "_model_module_version": "1.2.0",
            "_model_name": "LayoutModel",
            "_view_count": null,
            "_view_module": "@jupyter-widgets/base",
            "_view_module_version": "1.2.0",
            "_view_name": "LayoutView",
            "align_content": null,
            "align_items": null,
            "align_self": null,
            "border": null,
            "bottom": null,
            "display": null,
            "flex": null,
            "flex_flow": null,
            "grid_area": null,
            "grid_auto_columns": null,
            "grid_auto_flow": null,
            "grid_auto_rows": null,
            "grid_column": null,
            "grid_gap": null,
            "grid_row": null,
            "grid_template_areas": null,
            "grid_template_columns": null,
            "grid_template_rows": null,
            "height": null,
            "justify_content": null,
            "justify_items": null,
            "left": null,
            "margin": null,
            "max_height": null,
            "max_width": null,
            "min_height": null,
            "min_width": null,
            "object_fit": null,
            "object_position": null,
            "order": null,
            "overflow": null,
            "overflow_x": null,
            "overflow_y": null,
            "padding": null,
            "right": null,
            "top": null,
            "visibility": null,
            "width": null
          }
        },
        "ff0408db5ee04611bf902b3c332fe9d5": {
          "model_module": "@jupyter-widgets/controls",
          "model_module_version": "1.5.0",
          "model_name": "DescriptionStyleModel",
          "state": {
            "_model_module": "@jupyter-widgets/controls",
            "_model_module_version": "1.5.0",
            "_model_name": "DescriptionStyleModel",
            "_view_count": null,
            "_view_module": "@jupyter-widgets/base",
            "_view_module_version": "1.2.0",
            "_view_name": "StyleView",
            "description_width": ""
          }
        }
      }
    }
  },
  "nbformat": 4,
  "nbformat_minor": 0
}
